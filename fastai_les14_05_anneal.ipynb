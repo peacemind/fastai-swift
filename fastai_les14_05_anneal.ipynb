{
  "nbformat": 4,
  "nbformat_minor": 0,
  "metadata": {
    "colab": {
      "name": "fastai-les14-05-anneal.ipynb",
      "version": "0.3.2",
      "provenance": [],
      "collapsed_sections": []
    },
    "kernelspec": {
      "name": "swift",
      "display_name": "Swift"
    },
    "accelerator": "GPU"
  },
  "cells": [
    {
      "cell_type": "markdown",
      "metadata": {
        "id": "scd9qwfPyrGV",
        "colab_type": "text"
      },
      "source": [
        "Annealing"
      ]
    },
    {
      "cell_type": "code",
      "metadata": {
        "id": "kZRlD4utdPuX",
        "colab_type": "code",
        "colab": {
          "base_uri": "https://localhost:8080/",
          "height": 1000
        },
        "outputId": "bf370032-8862-472b-ebce-c0182bfc5029"
      },
      "source": [
        "%install-location $cwd/swift-install\n",
        "%install '.package(path: \"$cwd/FastaiNotebook_04_callbacks\")' FastaiNotebook_04_callbacks"
      ],
      "execution_count": 1,
      "outputs": [
        {
          "output_type": "stream",
          "text": [
            "Installing packages:\n",
            "\t.package(path: \"/content/FastaiNotebook_04_callbacks\")\n",
            "\t\tFastaiNotebook_04_callbacks\n",
            "With SwiftPM flags: []\n",
            "Working in: /tmp/tmp9965j84e/swift-install\n",
            "Fetching https://github.com/mxcl/Path.swift\n",
            "Fetching https://github.com/saeta/Just\n",
            "Fetching https://github.com/latenitesoft/NotebookExport\n",
            "Completed resolution in 6.75s\n",
            "Cloning https://github.com/saeta/Just\n",
            "Resolving https://github.com/saeta/Just at 0.7.3\n",
            "Cloning https://github.com/mxcl/Path.swift\n",
            "Resolving https://github.com/mxcl/Path.swift at 0.16.3\n",
            "Cloning https://github.com/latenitesoft/NotebookExport\n",
            "Resolving https://github.com/latenitesoft/NotebookExport at 0.6.0\n",
            "[1/11] Compiling Path Extensions.swift\n",
            "[2/11] Compiling Path Path+Attributes.swift\n",
            "[3/11] Compiling Path Path+Codable.swift\n",
            "[4/11] Compiling Path Path+CommonDirectories.swift\n",
            "[5/11] Compiling Path Path+FileManager.swift\n",
            "[6/11] Compiling Path Path+StringConvertibles.swift\n",
            "[7/11] Compiling Path Path+ls.swift\n",
            "[8/11] Compiling Path Path->Bool.swift\n",
            "[9/11] Compiling Path Path.swift\n",
            "[10/12] Merging module Path\n",
            "[11/16] Compiling NotebookExport DependencyDescription.swift\n",
            "[12/16] Compiling NotebookExport ExtensionUtils.swift\n",
            "[14/17] Compiling NotebookExport NotebookExport.swift\n",
            "[15/17] Compiling NotebookExport PackageManifest.swift\n",
            "[16/18] Merging module NotebookExport\n",
            "[17/18] Merging module Just\n",
            "[18/19] Compiling FastaiNotebook_00_load_data 00_load_data.swift\n",
            "[19/20] Merging module FastaiNotebook_00_load_data\n",
            "[20/22] Compiling FastaiNotebook_01_matmul 01_matmul.swift\n",
            "[21/22] Compiling FastaiNotebook_01_matmul 00_load_data.swift\n",
            "[22/23] Merging module FastaiNotebook_01_matmul\n",
            "[23/26] Compiling FastaiNotebook_01a_fastai_layers 00_load_data.swift\n",
            "[24/26] Compiling FastaiNotebook_01a_fastai_layers 01_matmul.swift\n",
            "[25/26] Compiling FastaiNotebook_01a_fastai_layers 01a_fastai_layers.swift\n",
            "[26/27] Merging module FastaiNotebook_01a_fastai_layers\n",
            "[27/31] Compiling FastaiNotebook_02_fully_connected 00_load_data.swift\n",
            "[28/31] Compiling FastaiNotebook_02_fully_connected 01_matmul.swift\n",
            "[29/31] Compiling FastaiNotebook_02_fully_connected 01a_fastai_layers.swift\n",
            "[30/31] Compiling FastaiNotebook_02_fully_connected 02_fully_connected.swift\n",
            "[31/32] Merging module FastaiNotebook_02_fully_connected\n",
            "[32/37] Compiling FastaiNotebook_02a_why_sqrt5 02_fully_connected.swift\n",
            "[33/37] Compiling FastaiNotebook_02a_why_sqrt5 02a_why_sqrt5.swift\n",
            "[34/37] Compiling FastaiNotebook_02a_why_sqrt5 00_load_data.swift\n",
            "[35/37] Compiling FastaiNotebook_02a_why_sqrt5 01_matmul.swift\n",
            "[36/37] Compiling FastaiNotebook_02a_why_sqrt5 01a_fastai_layers.swift\n",
            "[37/38] Merging module FastaiNotebook_02a_why_sqrt5\n",
            "[38/44] Compiling FastaiNotebook_03_minibatch_training 02_fully_connected.swift\n",
            "[39/44] Compiling FastaiNotebook_03_minibatch_training 02a_why_sqrt5.swift\n",
            "[40/44] Compiling FastaiNotebook_03_minibatch_training 03_minibatch_training.swift\n",
            "[41/44] Compiling FastaiNotebook_03_minibatch_training 00_load_data.swift\n",
            "[42/44] Compiling FastaiNotebook_03_minibatch_training 01_matmul.swift\n",
            "[43/44] Compiling FastaiNotebook_03_minibatch_training 01a_fastai_layers.swift\n",
            "[44/45] Merging module FastaiNotebook_03_minibatch_training\n",
            "[45/52] Compiling FastaiNotebook_04_callbacks 02a_why_sqrt5.swift\n",
            "[46/52] Compiling FastaiNotebook_04_callbacks 03_minibatch_training.swift\n",
            "[47/52] Compiling FastaiNotebook_04_callbacks 04_callbacks.swift\n",
            "[48/52] Compiling FastaiNotebook_04_callbacks 00_load_data.swift\n",
            "[49/52] Compiling FastaiNotebook_04_callbacks 01_matmul.swift\n",
            "[50/52] Compiling FastaiNotebook_04_callbacks 01a_fastai_layers.swift\n",
            "[51/52] Compiling FastaiNotebook_04_callbacks 02_fully_connected.swift\n",
            "[52/53] Merging module FastaiNotebook_04_callbacks\n",
            "[53/54] Compiling jupyterInstalledPackages jupyterInstalledPackages.swift\n",
            "[54/55] Merging module jupyterInstalledPackages\n",
            "[55/55] Linking libjupyterInstalledPackages.so\n",
            "Initializing Swift...\n",
            "Installation complete!\n"
          ],
          "name": "stdout"
        }
      ]
    },
    {
      "cell_type": "code",
      "metadata": {
        "id": "f5RMY24Tyu4X",
        "colab_type": "code",
        "colab": {}
      },
      "source": [
        "//export\n",
        "import Path\n",
        "import TensorFlow"
      ],
      "execution_count": 0,
      "outputs": []
    },
    {
      "cell_type": "code",
      "metadata": {
        "id": "GimZQd3hzNMu",
        "colab_type": "code",
        "colab": {}
      },
      "source": [
        "import FastaiNotebook_04_callbacks"
      ],
      "execution_count": 0,
      "outputs": []
    },
    {
      "cell_type": "code",
      "metadata": {
        "id": "hg8gD8NrzPw-",
        "colab_type": "code",
        "colab": {
          "base_uri": "https://localhost:8080/",
          "height": 35
        },
        "outputId": "5a27c17b-0a1d-4a68-ea0f-e09de86c079a"
      },
      "source": [
        "%include \"EnableIPythonDisplay.swift\"\n",
        "IPythonDisplay.shell.enable_matplotlib(\"inline\")"
      ],
      "execution_count": 4,
      "outputs": [
        {
          "output_type": "execute_result",
          "data": {
            "text/plain": [
              "('inline', 'module://ipykernel.pylab.backend_inline')\n"
            ]
          },
          "metadata": {
            "tags": []
          },
          "execution_count": 4
        }
      ]
    },
    {
      "cell_type": "markdown",
      "metadata": {
        "id": "L4v-mXQazUSc",
        "colab_type": "text"
      },
      "source": [
        "Load data"
      ]
    },
    {
      "cell_type": "code",
      "metadata": {
        "id": "2-MsIXsQzR8-",
        "colab_type": "code",
        "colab": {
          "base_uri": "https://localhost:8080/",
          "height": 90
        },
        "outputId": "42613212-7177-496b-e143-29e8d40b728e"
      },
      "source": [
        "let data = mnistDataBunch(flat: true)"
      ],
      "execution_count": 5,
      "outputs": [
        {
          "output_type": "stream",
          "text": [
            "Downloading https://storage.googleapis.com/cvdf-datasets/mnist/train-images-idx3-ubyte.gz...\n",
            "Downloading https://storage.googleapis.com/cvdf-datasets/mnist/train-labels-idx1-ubyte.gz...\n",
            "Downloading https://storage.googleapis.com/cvdf-datasets/mnist/t10k-images-idx3-ubyte.gz...\n",
            "Downloading https://storage.googleapis.com/cvdf-datasets/mnist/t10k-labels-idx1-ubyte.gz...\n"
          ],
          "name": "stdout"
        }
      ]
    },
    {
      "cell_type": "code",
      "metadata": {
        "id": "qLxrwVSKzaRr",
        "colab_type": "code",
        "colab": {}
      },
      "source": [
        "let (n,m) = (60000,784)\n",
        "let c = 10\n",
        "let nHid = 50"
      ],
      "execution_count": 0,
      "outputs": []
    },
    {
      "cell_type": "code",
      "metadata": {
        "id": "vy-x7NFOzjtz",
        "colab_type": "code",
        "colab": {}
      },
      "source": [
        "func optFunc(_ model: BasicModel) -> SGD<BasicModel> {return SGD(for: model, learningRate: 1e-2)}"
      ],
      "execution_count": 0,
      "outputs": []
    },
    {
      "cell_type": "code",
      "metadata": {
        "id": "iOFz8qdlzmwN",
        "colab_type": "code",
        "colab": {}
      },
      "source": [
        "func modelInit() -> BasicModel {return BasicModel(nIn: m, nHid: nHid, nOut: c)}"
      ],
      "execution_count": 0,
      "outputs": []
    },
    {
      "cell_type": "code",
      "metadata": {
        "id": "48YcJ_udzxv8",
        "colab_type": "code",
        "colab": {}
      },
      "source": [
        "let learner = Learner(data: data, lossFunc: softmaxCrossEntropy, optFunc: optFunc, modelInit: modelInit)"
      ],
      "execution_count": 0,
      "outputs": []
    },
    {
      "cell_type": "code",
      "metadata": {
        "id": "5GKzW_mTz0N0",
        "colab_type": "code",
        "colab": {}
      },
      "source": [
        "learner.delegates = [learner.makeTrainEvalDelegate(), learner.makeAvgMetric(metrics: [accuracy]),\n",
        "                     learner.makeNormalize(mean: mnistStats.mean, std: mnistStats.std)]"
      ],
      "execution_count": 0,
      "outputs": []
    },
    {
      "cell_type": "code",
      "metadata": {
        "id": "2JAq1wZgz3dk",
        "colab_type": "code",
        "colab": {}
      },
      "source": [
        "//Crashes! See: SR-10436\n",
        "//learner.delegates = [type(of: learner).TrainEvalDelegate(), type(of: learner).AvgMetric(metrics: [accuracy])]"
      ],
      "execution_count": 0,
      "outputs": []
    },
    {
      "cell_type": "code",
      "metadata": {
        "id": "Y3q--i0yz7cU",
        "colab_type": "code",
        "colab": {
          "base_uri": "https://localhost:8080/",
          "height": 54
        },
        "outputId": "00825aa4-e6fb-44a0-9cd8-4cf595370c37"
      },
      "source": [
        "learner.fit(2)"
      ],
      "execution_count": 12,
      "outputs": [
        {
          "output_type": "stream",
          "text": [
            "Epoch 0: [0.30538824, 0.9121]\n",
            "Epoch 1: [0.24857102, 0.9281]\n"
          ],
          "name": "stdout"
        }
      ]
    },
    {
      "cell_type": "markdown",
      "metadata": {
        "id": "nQEjuBEx0BCr",
        "colab_type": "text"
      },
      "source": [
        "\n",
        "Recoder\n",
        "\n",
        "The Recorder's role is to keep track of the loss and our scheduled learning rate.\n"
      ]
    },
    {
      "cell_type": "code",
      "metadata": {
        "id": "8HRP1KCoz9aL",
        "colab_type": "code",
        "colab": {}
      },
      "source": [
        "// export\n",
        "import Python\n",
        "public let np = Python.import(\"numpy\")\n",
        "public let plt = Python.import(\"matplotlib.pyplot\")"
      ],
      "execution_count": 0,
      "outputs": []
    },
    {
      "cell_type": "code",
      "metadata": {
        "id": "ifpFHehk0Exy",
        "colab_type": "code",
        "colab": {}
      },
      "source": [
        "// export\n",
        "public func plot<S1, S2>(_ arr1: [S1], _ arr2: [S2], logScale:Bool = false, xLabel: String=\"\", yLabel: String = \"\") \n",
        "    where S1:PythonConvertible, S2:PythonConvertible{\n",
        "    plt.figure(figsize: [6,4])\n",
        "    let (npArr1, npArr2) = (np.array(arr1), np.array(arr2))\n",
        "    if logScale {plt.xscale(\"log\")} \n",
        "    if !xLabel.isEmpty {plt.xlabel(xLabel)}\n",
        "    if !yLabel.isEmpty {plt.ylabel(yLabel)}    \n",
        "    let fig = plt.plot(npArr1, npArr2)\n",
        "    plt.show(fig)\n",
        "}"
      ],
      "execution_count": 0,
      "outputs": []
    },
    {
      "cell_type": "code",
      "metadata": {
        "id": "2dk6-dSh0HVD",
        "colab_type": "code",
        "colab": {}
      },
      "source": [
        "// export\n",
        "extension Learner where Opt.Scalar: PythonConvertible{\n",
        "    public class Recorder: Delegate {\n",
        "        public var losses: [Loss] = []\n",
        "        public var lrs: [Opt.Scalar] = []\n",
        "        \n",
        "        public override func batchDidFinish(learner: Learner) {\n",
        "            if learner.inTrain {\n",
        "                losses.append(learner.currentLoss)\n",
        "                lrs.append(learner.opt.learningRate)\n",
        "            }\n",
        "        }\n",
        "        \n",
        "        public func plotLosses(){\n",
        "            plot(Array(0..<losses.count), losses.map{$0.scalar}, xLabel:\"iteration\", yLabel:\"loss\")\n",
        "        }\n",
        "        \n",
        "        public func plotLRs(){\n",
        "            plot(Array(0..<lrs.count), lrs, xLabel:\"iteration\", yLabel:\"lr\")\n",
        "        }\n",
        "        \n",
        "        public func plotLRFinder(){\n",
        "            plot(lrs, losses.map{$0.scalar}, logScale: true, xLabel:\"lr\", yLabel:\"loss\")\n",
        "        }\n",
        "        \n",
        "    }\n",
        "    \n",
        "    public func makeRecorder() -> Recorder {\n",
        "        return Recorder()\n",
        "    }\n",
        "}"
      ],
      "execution_count": 0,
      "outputs": []
    },
    {
      "cell_type": "code",
      "metadata": {
        "id": "goTs2I7E0Krr",
        "colab_type": "code",
        "colab": {}
      },
      "source": [
        "let learner = Learner(data: data, lossFunc: softmaxCrossEntropy, optFunc: optFunc, modelInit: modelInit)"
      ],
      "execution_count": 0,
      "outputs": []
    },
    {
      "cell_type": "markdown",
      "metadata": {
        "id": "YnCqQ00K0mrB",
        "colab_type": "text"
      },
      "source": [
        "Utility optional property to get backour Recorder if it was created by a utility function. This doesn't always work properly for unkwnon reasons"
      ]
    },
    {
      "cell_type": "code",
      "metadata": {
        "id": "EP6nnJGK0hc6",
        "colab_type": "code",
        "colab": {}
      },
      "source": [
        "//TODO: Fix\n",
        "extension Learner where Opt.Scalar: PythonConvertible{\n",
        "    public var recorder: Learner.Recorder? {\n",
        "        for callback in learner.delegates {\n",
        "            if let recorder = callback as? Learner.Recorder { return recorder }\n",
        "        }\n",
        "        return nil\n",
        "    }\n",
        "}"
      ],
      "execution_count": 0,
      "outputs": []
    },
    {
      "cell_type": "code",
      "metadata": {
        "id": "EumYLqd00p5q",
        "colab_type": "code",
        "colab": {}
      },
      "source": [
        "learner.delegates = [learner.makeTrainEvalDelegate(), learner.makeAvgMetric(metrics: [accuracy]), \n",
        "                     learner.makeNormalize(mean: mnistStats.mean, std: mnistStats.std), learner.makeRecorder()]"
      ],
      "execution_count": 0,
      "outputs": []
    },
    {
      "cell_type": "code",
      "metadata": {
        "id": "W0BVyE-N0tFL",
        "colab_type": "code",
        "colab": {
          "base_uri": "https://localhost:8080/",
          "height": 54
        },
        "outputId": "964d8d14-465f-42a2-8130-b549d8e0bdfd"
      },
      "source": [
        "learner.fit(2)"
      ],
      "execution_count": 19,
      "outputs": [
        {
          "output_type": "stream",
          "text": [
            "Epoch 0: [0.3018048, 0.9141]\n",
            "Epoch 1: [0.25070703, 0.9286]\n"
          ],
          "name": "stdout"
        }
      ]
    },
    {
      "cell_type": "code",
      "metadata": {
        "id": "GtUVN8yY0u6Y",
        "colab_type": "code",
        "colab": {
          "base_uri": "https://localhost:8080/",
          "height": 283
        },
        "outputId": "5f2384ed-5707-4ea6-ec20-65a48856f6da"
      },
      "source": [
        "learner.recorder!.plotLosses()"
      ],
      "execution_count": 20,
      "outputs": [
        {
          "output_type": "display_data",
          "data": {
            "image/png": "[encoded data removed]",
            "text/plain": [
              "<Figure size 432x288 with 1 Axes>"
            ]
          },
          "metadata": {
            "tags": []
          }
        }
      ]
    },
    {
      "cell_type": "markdown",
      "metadata": {
        "id": "-tux0X6z02Gq",
        "colab_type": "text"
      },
      "source": [
        "\n",
        "Progress bar\n",
        "\n",
        "It's nice to keep track of where we're at in the training with a progress bar.\n"
      ]
    },
    {
      "cell_type": "code",
      "metadata": {
        "id": "MhXN91j90zyo",
        "colab_type": "code",
        "colab": {}
      },
      "source": [
        "// export\n",
        "import Foundation"
      ],
      "execution_count": 0,
      "outputs": []
    },
    {
      "cell_type": "code",
      "metadata": {
        "id": "SIb6WqWR05Ew",
        "colab_type": "code",
        "colab": {}
      },
      "source": [
        "// export\n",
        "func formatTime(_ t: Float) -> String {\n",
        "    let t = Int(t)\n",
        "    let (h,m,s) = (t/3600, (t/60)%60, t%60)\n",
        "    return h != 0 ? String(format: \"%02d:%02d:%02d\", h, m, s) : String(format: \"%02d:%02d\", m, s)\n",
        "}"
      ],
      "execution_count": 0,
      "outputs": []
    },
    {
      "cell_type": "code",
      "metadata": {
        "id": "2SrKhDqz07iR",
        "colab_type": "code",
        "colab": {
          "base_uri": "https://localhost:8080/",
          "height": 35
        },
        "outputId": "c01e4a38-e3d3-4468-fa96-f84ce8b5a9d0"
      },
      "source": [
        "formatTime(78.23)"
      ],
      "execution_count": 23,
      "outputs": [
        {
          "output_type": "execute_result",
          "data": {
            "text/plain": [
              "\"01:18\"\n"
            ]
          },
          "metadata": {
            "tags": []
          },
          "execution_count": 23
        }
      ]
    },
    {
      "cell_type": "code",
      "metadata": {
        "id": "FN2lGGvP09c3",
        "colab_type": "code",
        "colab": {}
      },
      "source": [
        "// export\n",
        "public struct ProgressBar{\n",
        "    let total: Int\n",
        "    let length: Int = 50\n",
        "    let showEvery: Float = 0.2\n",
        "    let fillChar: Character = \"X\"\n",
        "    public var comment: String = \"\"\n",
        "    private var waitFor: Int = 0\n",
        "    private var startTime: UInt64 = 0\n",
        "    private var lastPrint: UInt64 = 0\n",
        "    private var lastShow: UInt64 = 0\n",
        "    private var estimatedTotal: Float = 0.0\n",
        "    private var bar: String = \"\"\n",
        "    \n",
        "    public init(_ c: Int) { total = c }\n",
        "    \n",
        "    public mutating func update(_ val: Int){\n",
        "        lastShow = DispatchTime.now().uptimeNanoseconds\n",
        "        if val == 0 { startTime = lastShow } \n",
        "        else {\n",
        "            let averageTime = Float(lastShow - startTime) / (1e9 * Float(val))\n",
        "            estimatedTotal = Float(total) * averageTime\n",
        "        }\n",
        "        if val == 0 || lastShow - lastPrint >= Int(1e9 * showEvery) { update_bar(val) }\n",
        "    }\n",
        "    \n",
        "    public mutating func update_bar(_ val: Int){\n",
        "        lastPrint = lastShow\n",
        "        let prevLength = bar.count\n",
        "        bar = String(repeating: fillChar, count: (val * length) / total)\n",
        "        bar += String(repeating: \"-\", count: length - (val * length) / total)\n",
        "        let pct = String(format: \"%.2f\", 100.0 * Float(val)/Float(total))\n",
        "        let elapsedTime = Float(lastShow - startTime) / 1e9\n",
        "        let remaingTime = estimatedTotal - elapsedTime\n",
        "        bar += \" \\(pct)% [\\(val)/\\(total) \\(formatTime(elapsedTime))<\\(formatTime(remaingTime))\"\n",
        "        bar += comment.isEmpty ? \"]\" : \" \\(comment)]\"\n",
        "        if bar.count < prevLength { bar += String(repeating: \" \", count: prevLength-bar.count) }\n",
        "        print(bar, terminator:\"\\r\")\n",
        "        fflush(stdout)\n",
        "    }\n",
        "    \n",
        "    public func remove(){\n",
        "        print(String(repeating: \" \", count: bar.count), terminator:\"\\r\")\n",
        "        fflush(stdout)\n",
        "    }\n",
        "}"
      ],
      "execution_count": 0,
      "outputs": []
    },
    {
      "cell_type": "code",
      "metadata": {
        "id": "mp6WBefz1B0A",
        "colab_type": "code",
        "colab": {
          "base_uri": "https://localhost:8080/",
          "height": 17
        },
        "outputId": "6b5d46a7-fb6c-49f7-87e2-857d056ca8d6"
      },
      "source": [
        "var tst = ProgressBar(100)\n",
        "for i in 0...100{\n",
        "    tst.update(i)\n",
        "    usleep(50000)\n",
        "}\n",
        "tst.remove()"
      ],
      "execution_count": 25,
      "outputs": [
        {
          "output_type": "stream",
          "text": [
            ""
          ],
          "name": "stdout"
        }
      ]
    },
    {
      "cell_type": "code",
      "metadata": {
        "id": "GjXz_TYl1ERh",
        "colab_type": "code",
        "colab": {}
      },
      "source": [
        "// export\n",
        "extension Learner {\n",
        "    public class ShowProgress: Delegate {\n",
        "        var pbar: ProgressBar? = nil\n",
        "        var iter: Int = 0\n",
        "        \n",
        "        public override func epochWillStart(learner: Learner) {\n",
        "            pbar = ProgressBar(learner.data.train.count)\n",
        "        }\n",
        "        \n",
        "        public override func validationWillStart(learner: Learner) {\n",
        "            if pbar != nil { pbar!.remove() }\n",
        "            pbar = ProgressBar(learner.data.valid.count)\n",
        "        }\n",
        "        \n",
        "        public override func epochDidFinish(learner: Learner) {\n",
        "            if pbar != nil { pbar!.remove() }\n",
        "        }\n",
        "        \n",
        "        public override func batchWillStart(learner: Learner) {\n",
        "            if learner.currentIter == 0 {pbar!.update(0)}\n",
        "        }\n",
        "        \n",
        "        public override func batchDidFinish(learner: Learner) {\n",
        "            pbar!.update(learner.currentIter)\n",
        "        }\n",
        "        \n",
        "        public override func trainingDidFinish(learner: Learner) {\n",
        "            if pbar != nil { pbar!.remove() }\n",
        "        }\n",
        "    }\n",
        "    \n",
        "    public func makeShowProgress() -> ShowProgress { return ShowProgress() }\n",
        "}"
      ],
      "execution_count": 0,
      "outputs": []
    },
    {
      "cell_type": "code",
      "metadata": {
        "id": "As-dDe2h1Jf5",
        "colab_type": "code",
        "colab": {}
      },
      "source": [
        "let learner = Learner(data: data, lossFunc: softmaxCrossEntropy, optFunc: optFunc, modelInit: modelInit)"
      ],
      "execution_count": 0,
      "outputs": []
    },
    {
      "cell_type": "code",
      "metadata": {
        "id": "HYX1ozt31M96",
        "colab_type": "code",
        "colab": {}
      },
      "source": [
        "learner.delegates = [learner.makeTrainEvalDelegate(), learner.makeShowProgress(), \n",
        "                     learner.makeAvgMetric(metrics: [accuracy]), learner.makeRecorder(),\n",
        "                     learner.makeNormalize(mean: mnistStats.mean, std: mnistStats.std)]"
      ],
      "execution_count": 0,
      "outputs": []
    },
    {
      "cell_type": "code",
      "metadata": {
        "id": "2Yynfxiv1Pv4",
        "colab_type": "code",
        "colab": {
          "base_uri": "https://localhost:8080/",
          "height": 54
        },
        "outputId": "60058a3d-0703-4fcf-9740-63bb24f15f44"
      },
      "source": [
        "learner.fit(2)"
      ],
      "execution_count": 29,
      "outputs": [
        {
          "output_type": "stream",
          "text": [
            "Epoch 0: [0.31037706, 0.9133]\n",
            "Epoch 1: [0.2601983, 0.9266]\n"
          ],
          "name": "stdout"
        }
      ]
    },
    {
      "cell_type": "markdown",
      "metadata": {
        "id": "F7tuNQ8z1VEe",
        "colab_type": "text"
      },
      "source": [
        "Annealing"
      ]
    },
    {
      "cell_type": "code",
      "metadata": {
        "id": "ERUU2BXh1SSv",
        "colab_type": "code",
        "colab": {}
      },
      "source": [
        "// export\n",
        "/// A non-generalized learning rate scheduler\n",
        "extension Learner where Opt.Scalar: BinaryFloatingPoint {\n",
        "    public class LRScheduler: Delegate {\n",
        "        public override var order: Int { return 1 }\n",
        "        public typealias ScheduleFunc = (Float) -> Float\n",
        "\n",
        "        // A learning rate schedule from step to float.\n",
        "        public var scheduler: ScheduleFunc\n",
        "        \n",
        "        public init(scheduler: @escaping (Float) -> Float) {\n",
        "            self.scheduler = scheduler\n",
        "        }\n",
        "        \n",
        "        override public func batchWillStart(learner: Learner) {\n",
        "            learner.opt.learningRate = Opt.Scalar(scheduler(learner.pctEpochs/Float(learner.epochCount)))\n",
        "        }\n",
        "    }\n",
        "    \n",
        "    public func makeLRScheduler(scheduler: @escaping (Float) -> Float) -> LRScheduler {\n",
        "        return LRScheduler(scheduler: scheduler)\n",
        "    }\n",
        "}"
      ],
      "execution_count": 0,
      "outputs": []
    },
    {
      "cell_type": "code",
      "metadata": {
        "id": "2S1WK1CD1ZC4",
        "colab_type": "code",
        "colab": {}
      },
      "source": [
        "// export\n",
        "public func linearSchedule(start: Float, end: Float, pct: Float) -> Float {\n",
        "    return start + pct * (end - start)\n",
        "}\n",
        "\n",
        "public func makeAnnealer(start: Float, end: Float, schedule: @escaping (Float, Float, Float) -> Float) -> (Float) -> Float { \n",
        "    return { pct in return schedule(start, end, pct) }\n",
        "}"
      ],
      "execution_count": 0,
      "outputs": []
    },
    {
      "cell_type": "code",
      "metadata": {
        "id": "Iurxe0o51bo4",
        "colab_type": "code",
        "colab": {
          "base_uri": "https://localhost:8080/",
          "height": 35
        },
        "outputId": "9c090a7b-61f7-4ee9-b898-bfe79328a7ac"
      },
      "source": [
        "let annealer = makeAnnealer(start: 1e-2, end: 0.1, schedule: linearSchedule)\n",
        "annealer(0.3)"
      ],
      "execution_count": 32,
      "outputs": [
        {
          "output_type": "execute_result",
          "data": {
            "text/plain": [
              "0.037\n"
            ]
          },
          "metadata": {
            "tags": []
          },
          "execution_count": 32
        }
      ]
    },
    {
      "cell_type": "code",
      "metadata": {
        "id": "Wv4Nr1491d3e",
        "colab_type": "code",
        "colab": {}
      },
      "source": [
        "let learner = Learner(data: data, lossFunc: softmaxCrossEntropy, optFunc: optFunc, modelInit: modelInit)\n",
        "let recorder = learner.makeRecorder()"
      ],
      "execution_count": 0,
      "outputs": []
    },
    {
      "cell_type": "code",
      "metadata": {
        "id": "fN84Hnfw1kJ3",
        "colab_type": "code",
        "colab": {}
      },
      "source": [
        "learner.delegates = [learner.makeTrainEvalDelegate(), learner.makeShowProgress(), \n",
        "                     learner.makeAvgMetric(metrics: [accuracy]), recorder,\n",
        "                     learner.makeNormalize(mean: mnistStats.mean, std: mnistStats.std),\n",
        "                     learner.makeLRScheduler(scheduler: annealer)]"
      ],
      "execution_count": 0,
      "outputs": []
    },
    {
      "cell_type": "code",
      "metadata": {
        "id": "CQHVxhPE1mUn",
        "colab_type": "code",
        "colab": {
          "base_uri": "https://localhost:8080/",
          "height": 54
        },
        "outputId": "0107160b-24b1-4390-a78a-80054511ce42"
      },
      "source": [
        "learner.fit(2)"
      ],
      "execution_count": 35,
      "outputs": [
        {
          "output_type": "stream",
          "text": [
            "Epoch 0: [0.2458846, 0.9262]\n",
            "Epoch 1: [0.14875756, 0.9556]\n"
          ],
          "name": "stdout"
        }
      ]
    },
    {
      "cell_type": "code",
      "metadata": {
        "id": "LXwM2bpG1nte",
        "colab_type": "code",
        "colab": {
          "base_uri": "https://localhost:8080/",
          "height": 283
        },
        "outputId": "3a3a6bd0-0182-48b7-e8cf-43021e0f0563"
      },
      "source": [
        "recorder.plotLRs()"
      ],
      "execution_count": 36,
      "outputs": [
        {
          "output_type": "display_data",
          "data": {
            "image/png": "[encoded data removed]",
            "text/plain": [
              "<Figure size 432x288 with 1 Axes>"
            ]
          },
          "metadata": {
            "tags": []
          }
        }
      ]
    },
    {
      "cell_type": "markdown",
      "metadata": {
        "id": "7N96jlQO1v2Z",
        "colab_type": "text"
      },
      "source": [
        "More annealing functions"
      ]
    },
    {
      "cell_type": "code",
      "metadata": {
        "id": "1LGHvJkR1uKf",
        "colab_type": "code",
        "colab": {}
      },
      "source": [
        "// export\n",
        "public func constantSchedule(start: Float, end: Float, pct: Float) -> Float {\n",
        "    return start\n",
        "}\n",
        "\n",
        "public func cosineSchedule(start: Float, end: Float, pct: Float) -> Float {\n",
        "    return start + (1 + cos(Float.pi*(1-pct))) * (end-start) / 2\n",
        "}\n",
        "\n",
        "public func expSchedule(start: Float, end: Float, pct: Float) -> Float {\n",
        "    return start * pow(end / start, pct)\n",
        "}"
      ],
      "execution_count": 0,
      "outputs": []
    },
    {
      "cell_type": "code",
      "metadata": {
        "id": "PGEQhJxI10sN",
        "colab_type": "code",
        "colab": {}
      },
      "source": [
        "// export\n",
        "public func combineSchedules(pcts: [Float], schedules: [(Float) -> Float]) -> ((Float) -> Float){\n",
        "    var cumPcts: [Float] = [0]\n",
        "    for pct in pcts {cumPcts.append(cumPcts.last! + pct)}\n",
        "    func inner(pct: Float) -> Float{\n",
        "        if (pct == 0.0) { return schedules[0](0.0) }\n",
        "        if (pct > 1.0)  { return schedules.last!(1.0) }\n",
        "        let i = cumPcts.firstIndex(where: {$0 >= pct})! - 1\n",
        "        let actualPos = (pct-cumPcts[i]) / (cumPcts[i+1]-cumPcts[i])\n",
        "        return schedules[i](actualPos)\n",
        "    }\n",
        "    return inner\n",
        "}"
      ],
      "execution_count": 0,
      "outputs": []
    },
    {
      "cell_type": "code",
      "metadata": {
        "id": "lf9E8KB512bW",
        "colab_type": "code",
        "colab": {}
      },
      "source": [
        "let mySchedule = combineSchedules(pcts: [0.3, 0.7], \n",
        "                                  schedules: [makeAnnealer(start: 0.3, end: 0.6, schedule: cosineSchedule),\n",
        "                                              makeAnnealer(start: 0.6, end: 0.2, schedule: cosineSchedule)])"
      ],
      "execution_count": 0,
      "outputs": []
    },
    {
      "cell_type": "code",
      "metadata": {
        "id": "AX9er5WI141m",
        "colab_type": "code",
        "colab": {}
      },
      "source": [
        "let learner = Learner(data: data, lossFunc: softmaxCrossEntropy, optFunc: optFunc, modelInit: modelInit)\n",
        "let recorder = learner.makeRecorder()"
      ],
      "execution_count": 0,
      "outputs": []
    },
    {
      "cell_type": "code",
      "metadata": {
        "id": "9xINYMO_16xO",
        "colab_type": "code",
        "colab": {}
      },
      "source": [
        "learner.delegates = [learner.makeTrainEvalDelegate(), learner.makeShowProgress(), \n",
        "                     learner.makeAvgMetric(metrics: [accuracy]), recorder,\n",
        "                     learner.makeNormalize(mean: mnistStats.mean, std: mnistStats.std),\n",
        "                     learner.makeLRScheduler(scheduler: mySchedule)]"
      ],
      "execution_count": 0,
      "outputs": []
    },
    {
      "cell_type": "code",
      "metadata": {
        "id": "1-RMMP0Y18rW",
        "colab_type": "code",
        "colab": {
          "base_uri": "https://localhost:8080/",
          "height": 54
        },
        "outputId": "96bd8771-4988-449c-9175-eb7f9509142f"
      },
      "source": [
        "learner.fit(2)"
      ],
      "execution_count": 42,
      "outputs": [
        {
          "output_type": "stream",
          "text": [
            "Epoch 0: [0.21568169, 0.9411]\n",
            "Epoch 1: [0.13205802, 0.9625]\n"
          ],
          "name": "stdout"
        }
      ]
    },
    {
      "cell_type": "code",
      "metadata": {
        "id": "DAG0TnSb1-Ts",
        "colab_type": "code",
        "colab": {
          "base_uri": "https://localhost:8080/",
          "height": 283
        },
        "outputId": "445d0472-d000-4154-8de8-3f2dfda413bd"
      },
      "source": [
        "recorder.plotLRs()"
      ],
      "execution_count": 43,
      "outputs": [
        {
          "output_type": "display_data",
          "data": {
            "image/png": "[encoded data removed]",
            "text/plain": [
              "<Figure size 432x288 with 1 Axes>"
            ]
          },
          "metadata": {
            "tags": []
          }
        }
      ]
    },
    {
      "cell_type": "code",
      "metadata": {
        "id": "CDgOuTMS2CDJ",
        "colab_type": "code",
        "colab": {}
      },
      "source": [
        "//Needs fixing \n",
        "//learner.recorder!.plotLRs()"
      ],
      "execution_count": 0,
      "outputs": []
    },
    {
      "cell_type": "markdown",
      "metadata": {
        "id": "lNYMz8dg2F28",
        "colab_type": "text"
      },
      "source": [
        "Export"
      ]
    },
    {
      "cell_type": "code",
      "metadata": {
        "id": "sdMXXgzr2FJ9",
        "colab_type": "code",
        "colab": {
          "base_uri": "https://localhost:8080/",
          "height": 35
        },
        "outputId": "49ac0bb5-9c0c-4f12-be7b-431c7875f4e5"
      },
      "source": [
        "import NotebookExport\n",
        "let exporter = NotebookExport(Path.cwd/\"05_anneal.ipynb\")\n",
        "print(exporter.export(usingPrefix: \"FastaiNotebook_\"))"
      ],
      "execution_count": 45,
      "outputs": [
        {
          "output_type": "stream",
          "text": [
            "success\r\n"
          ],
          "name": "stdout"
        }
      ]
    },
    {
      "cell_type": "code",
      "metadata": {
        "id": "kEDzjrwV2Jok",
        "colab_type": "code",
        "colab": {}
      },
      "source": [
        ""
      ],
      "execution_count": 0,
      "outputs": []
    }
  ]
}