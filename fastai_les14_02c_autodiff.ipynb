{
  "nbformat": 4,
  "nbformat_minor": 0,
  "metadata": {
    "colab": {
      "name": "fastai-les14-02c-autodiff.ipynb",
      "version": "0.3.2",
      "provenance": [],
      "collapsed_sections": []
    },
    "kernelspec": {
      "name": "swift",
      "display_name": "Swift"
    },
    "accelerator": "GPU"
  },
  "cells": [
    {
      "cell_type": "markdown",
      "metadata": {
        "id": "LPy_MBXizr-4",
        "colab_type": "text"
      },
      "source": [
        "\n",
        "Automatic Differentiation In Swift\n",
        "\n",
        "This notebook builds up the concepts of automatic differentiation in Swift from the constituent pieces.\n",
        "\n",
        "Step 1: A Trivial Example\n",
        "\n",
        "As a warm up, we will start with a trivial example $x^2$. The derivative $\\frac{d}{dx} x^2$ is $2x$. We can represent this as follows in code.\n"
      ]
    },
    {
      "cell_type": "code",
      "metadata": {
        "id": "kZRlD4utdPuX",
        "colab_type": "code",
        "colab": {}
      },
      "source": [
        "func square(_ x: Float) -> Float {\n",
        "    return x * x\n",
        "}\n",
        "\n",
        "func square_derivative(_ x: Float) -> Float {\n",
        "    return 2 * x\n",
        "}"
      ],
      "execution_count": 0,
      "outputs": []
    },
    {
      "cell_type": "markdown",
      "metadata": {
        "id": "37bYeA3m51sD",
        "colab_type": "text"
      },
      "source": [
        "\n",
        "Aside: Recall the Chain Rule\n",
        "\n",
        "As we discussed before, the chain rule tells us how to differentiate composite functions, and is written: \n",
        "\n",
        "$$\\frac{d}{dx}\\left[f\\left(g(x)\\right)\\right] = f'\\left(g(x)\\right)g'(x)$$\n",
        "\n",
        "Step 2: A slightly more complicated example.\n",
        "\n",
        "Simple polynomials are the easy case. Let's take the derivative of a more complicated function: $\\sin(x^2)$.\n",
        "\n",
        "The derivative of this expression $\\frac{d}{dx}\\sin(x^2)$ (recall the chain rule) is: $\\cos(x^2) \\cdot 2x$.\n",
        "\n",
        "In code, this is as follows:\n"
      ]
    },
    {
      "cell_type": "code",
      "metadata": {
        "id": "qX9sRfOdzwX5",
        "colab_type": "code",
        "colab": {}
      },
      "source": [
        "import Glibc\n",
        "\n",
        "func exampleFunction(_ x: Float) -> Float {\n",
        "    return sin(x * x)\n",
        "}\n",
        "\n",
        "func exampleFunctionDerivative(_ x: Float) -> Float {\n",
        "    return 2 * x * cos(x * x)\n",
        "}"
      ],
      "execution_count": 0,
      "outputs": []
    },
    {
      "cell_type": "markdown",
      "metadata": {
        "id": "tOQwrGiE6RIM",
        "colab_type": "text"
      },
      "source": [
        "\n",
        "Step 3: A more efficient implementation\n",
        "\n",
        "Looking at the chain rule and our derivative implementation above, we notice that there's redundant computation going on. Concretely, in both exampleFunction and exampleFunctionDerivative we compute x * x. (In the chain rule definition, this is $g(x)$.) As a result, we often want to do that computation only once (because in general it can be any expensive computation, and even a multiply can be expensive with large tensors).\n",
        "\n",
        "We can thus rewrite our function and its derivative as follows:\n"
      ]
    },
    {
      "cell_type": "code",
      "metadata": {
        "id": "dxnaS4un6O1U",
        "colab_type": "code",
        "colab": {}
      },
      "source": [
        "func exampleFunctionDerivativeEfficient(_ x: Float) -> (value: Float, backward: () -> Float) {\n",
        "    let xSquared = x * x\n",
        "    let value = sin(xSquared)\n",
        "    let backward = {2 * x * cos(xSquared)}  // A closure that captures xSquared\n",
        "    return (value: value, backward: backward)\n",
        "}"
      ],
      "execution_count": 0,
      "outputs": []
    },
    {
      "cell_type": "markdown",
      "metadata": {
        "id": "sGLDfTBm8O-T",
        "colab_type": "text"
      },
      "source": [
        "\n",
        "\n",
        "You'll see that we're defining a somewhat more complex closure than we've seen before here.\n",
        "\n",
        "Aside: Fully general derivatives\n",
        "\n",
        "We've actually been a little sloppy with our mathematics. To be fully correct, $\\frac{d}{dx}x^2 = 2x\\frac{d}{dx}$. This is because in mathematics, $x$ doesn't have to be a specific number, it could be itself another expression, which we'd need to use the chain rule to calculate. In order to represent this correctly in code, we need to change the type signature slightly to multiply by the \"$\\frac{d}{dx}$\", resulting in the following (we're changing the name backward to deriv here to signify that it's a little different):\n"
      ]
    },
    {
      "cell_type": "code",
      "metadata": {
        "id": "s3eEqvkh6wFq",
        "colab_type": "code",
        "colab": {}
      },
      "source": [
        "func exampleFunctionValueWithDeriv(_ x: Float) -> (value: Float, deriv: (Float) -> Float) {\n",
        "    let xSquared = x * x\n",
        "    let value = sin(xSquared)\n",
        "    let deriv = { (v: Float) -> Float in\n",
        "        let gradXSquared = v * cos(xSquared)\n",
        "        let gradX = gradXSquared * 2 * x\n",
        "        return gradX\n",
        "    }\n",
        "    return (value: value, deriv: deriv)\n",
        "}"
      ],
      "execution_count": 0,
      "outputs": []
    },
    {
      "cell_type": "markdown",
      "metadata": {
        "id": "T2fsUG8e8qW7",
        "colab_type": "text"
      },
      "source": [
        "\n",
        "Step 4: Rewrite using derivs\n",
        "\n",
        "We've chosen to represent the drivatives with a deriv closure because this allows us to rewrite the forward pass into a very regular form. Below, we rewrite the handwritten derivative above into a regular form.\n",
        "\n",
        "    Note: be sure to carefully read through the code and convince yourself that this new spelling of the deriv results in the exact same computation.\n",
        "\n"
      ]
    },
    {
      "cell_type": "code",
      "metadata": {
        "id": "7qzIdZ7i8n67",
        "colab_type": "code",
        "colab": {}
      },
      "source": [
        "func sinValueWithDeriv(_ x: Float) -> (value: Float, deriv: (Float) -> Float) {\n",
        "    return (value: sin(x), deriv: {v in cos(x) * v})\n",
        "}\n",
        "\n",
        "func squareValueWithDeriv(_ x: Float) -> (value: Float, deriv: (Float) -> Float) {\n",
        "    return (value: x * x, deriv: {v in 2 * x * v})\n",
        "}\n",
        "\n",
        "func exampleFunctionWithDeriv(_ x: Float) -> (value: Float, deriv: (Float) -> Float) {\n",
        "    let (xSquared, deriv1) = squareValueWithDeriv(x)\n",
        "    let (value, deriv2) = sinValueWithDeriv(xSquared)\n",
        "    return (value: value, deriv: { v in\n",
        "        let gradXSquared = deriv2(v)\n",
        "        let gradX = deriv1(gradXSquared)\n",
        "        return gradX\n",
        "    })\n",
        "}"
      ],
      "execution_count": 0,
      "outputs": []
    },
    {
      "cell_type": "markdown",
      "metadata": {
        "id": "4xUffqtE9BwR",
        "colab_type": "text"
      },
      "source": [
        "\n",
        "Aside: Generalizing to arbitrary expressions.\n",
        "\n",
        "Up until this point, we've been handwriting the derivatives for specific functions. But we now have a formulation that is regular and composible. (In fact, it is so regular, we can make the computer write the backwards pass for us! aka automatic differentiation.) The rules are:\n",
        "\n",
        "    Rewrite every expression in the forward pass into a form that computes the value like normal, and also produces an additional deriv function.\n",
        "    Construct a backwards pass that threads the derivs together in the reverse order.\n",
        "\n",
        "In an abstract form, we transform a function that looks like:\n",
        "\n",
        "func myFunction(_ arg: Float) -> Float {\n",
        "\n",
        "    let tmp1 = expression1(arg)\n",
        "    let tmp2 = expression2(tmp1)\n",
        "    let tmp3 = expression3(tmp2)\n",
        "    return tmp3\n",
        "}\n",
        "\n",
        "into a function that looks like this:\n",
        "\n",
        "func myFunctionValueWithDeriv(_ arg: Float) -> (value: Float, deriv: (Float) -> Float) {\n",
        "\n",
        "    let (tmp1, deriv1) = expression1ValueWithDeriv(arg)\n",
        "    let (tmp2, deriv2) = expression2ValueWithDeriv(tmp1)\n",
        "    let (tmp3, deriv3) = expression3ValueWithDeriv(tmp2)\n",
        "    return (value: tmp3,\n",
        "            deriv: { v in\n",
        "                let grad2 = deriv3(v)\n",
        "                let grad1 = deriv2(grad2)\n",
        "                let gradArg = deriv1(grad1)\n",
        "                return gradArg\n",
        "    })\n",
        "}\n",
        "\n",
        "Step 5: Generalize beyond unary functions\n",
        "\n",
        "Up until now, we have been using functions that don't \"reuse\" values in the forward pass. Our running example of $\\frac{d}{dx}\\sin(x^2)$ is too simple. Let's make it a bit more complicated, and use $\\frac{d}{dx}\\sin(x^2)+x^2$ as our motivating expression going forward. From mathematics, we know that the derivative should be: $$\\frac{d}{dx}\\sin\\left(x^2\\right) + x^2 = \\left(2x\\cos\\left(x^2\\right)+2x\\right)\\frac{d}{dx}$$\n",
        "\n",
        "Let's see how we write the deriv (pay attention to the signature of the deriv for the + function)!\n"
      ]
    },
    {
      "cell_type": "code",
      "metadata": {
        "id": "TXG7RHyY9A-8",
        "colab_type": "code",
        "colab": {}
      },
      "source": [
        "func myComplexFunction(_ x: Float) -> Float {\n",
        "    let tmp1 = square(x)\n",
        "    let tmp2 = sin(tmp1)\n",
        "    let tmp3 = tmp2 + tmp1\n",
        "    return tmp3\n",
        "}\n",
        "\n",
        "func plusWithDeriv(_ x: Float, _ y: Float) -> (value: Float, deriv: (Float) -> (Float, Float)) {\n",
        "    return (value: x + y, deriv: {v in (v, v)})  // Value semantics are great! :-)\n",
        "}"
      ],
      "execution_count": 0,
      "outputs": []
    },
    {
      "cell_type": "code",
      "metadata": {
        "id": "Blt2VePC9v6x",
        "colab_type": "code",
        "colab": {}
      },
      "source": [
        "func myComplexFunctionValueWithDeriv(_ x: Float) -> (value: Float, deriv: (Float) -> Float) {\n",
        "    let (tmp1, pb1) = squareValueWithDeriv(x)\n",
        "    let (tmp2, pb2) = sinValueWithDeriv(tmp1)\n",
        "    let (tmp3, pb3) = plusWithDeriv(tmp2, tmp1)\n",
        "    return (value: tmp3,\n",
        "            deriv: { v in\n",
        "        // Initialize the gradients for all values at zero.\n",
        "        var gradX = Float(0.0)\n",
        "        var grad1 = Float(0.0)\n",
        "        var grad2 = Float(0.0)\n",
        "        var grad3 = Float(0.0)\n",
        "        // Add the temporaries to the gradients as we run the backwards pass.\n",
        "        grad3 += v\n",
        "        let (tmp2, tmp1b) = pb3(grad3)\n",
        "        grad2 += tmp2\n",
        "        grad1 += tmp1b\n",
        "        let tmp1a = pb2(grad2)\n",
        "        grad1 += tmp1a\n",
        "        let tmpX = pb1(grad1)\n",
        "        gradX += tmpX\n",
        "        // Return the computed gradients.\n",
        "        return gradX\n",
        "    })\n",
        "}"
      ],
      "execution_count": 0,
      "outputs": []
    },
    {
      "cell_type": "code",
      "metadata": {
        "id": "1ZChk7jX9x-a",
        "colab_type": "code",
        "colab": {}
      },
      "source": [
        "// Helper method\n",
        "func square(_ x: Float) -> Float {\n",
        "    return x * x\n",
        "}"
      ],
      "execution_count": 0,
      "outputs": []
    },
    {
      "cell_type": "markdown",
      "metadata": {
        "id": "AQUIui9f-SY_",
        "colab_type": "text"
      },
      "source": [
        "\n",
        "\n",
        "Non-unary functions (e.g. +) have a deriv that returns a tuple that corresponds to their arguments. This allows gradients to flow upwards in a pure functional manner.\n",
        "\n",
        "In order to handle the re-use of intermediary values (in this case, the expression $x^2$), we need to introduce 2 additional concepts:\n",
        "\n",
        "    Sum: We need to sum the derivatives produced by $\\frac{d}{dx}x^2$ to the values produced from $\\frac{d}{dx}\\sin\\left(x^2\\right)$ in order to correctly compute the derivative value of $\\frac{d}{dx}\\left(\\sin\\left(x^2\\right) + x^2\\right)$.\n",
        "    \n",
        "    Zero: As a result, we need to initialize the derivatives for each variable to a value: zero!\n",
        "\n",
        "We now have all the pieces required for automatic differentiation in Swift. Let's see how they come together.\n",
        "\n",
        "Step 6: Automatic Differentiation in Swift\n",
        "\n",
        "When you annotate a function @differentiable, the compiler will take your function and generate a second function that corresponds to the ...ValueWithDeriv functions we wrote out by hand above using the simple transformation rules.\n",
        "\n",
        "You can access these auto-generated function by calling valueWithPullback:\n"
      ]
    },
    {
      "cell_type": "code",
      "metadata": {
        "id": "hpjN36aB-O9g",
        "colab_type": "code",
        "colab": {}
      },
      "source": [
        "@differentiable\n",
        "func myFunction(_ x: Float) -> Float {\n",
        "    return x * x\n",
        "}"
      ],
      "execution_count": 0,
      "outputs": []
    },
    {
      "cell_type": "code",
      "metadata": {
        "id": "_o8yFtoB-n_e",
        "colab_type": "code",
        "colab": {
          "base_uri": "https://localhost:8080/",
          "height": 54
        },
        "outputId": "8e23307e-84f1-4c13-9271-0c7dac02e657"
      },
      "source": [
        "let (value, deriv) = valueWithPullback(at: 3, in: myFunction)\n",
        "print(value)\n",
        "print(type(of: deriv))"
      ],
      "execution_count": 10,
      "outputs": [
        {
          "output_type": "stream",
          "text": [
            "9.0\r\n",
            "(Float) -> Float\r\n"
          ],
          "name": "stdout"
        }
      ]
    },
    {
      "cell_type": "markdown",
      "metadata": {
        "id": "cY_2Mqqb-rwu",
        "colab_type": "text"
      },
      "source": [
        "\n",
        "Step 7: gradient\n",
        "\n",
        "Now that we have a deriv, how to we \"kick off\" the deriv computation to actually compute the derivative? We use the constant value 1.0!\n"
      ]
    },
    {
      "cell_type": "code",
      "metadata": {
        "id": "WCDjju2Y-puM",
        "colab_type": "code",
        "colab": {
          "base_uri": "https://localhost:8080/",
          "height": 35
        },
        "outputId": "d22b1f96-48b7-4f78-e196-6c3b3f6150c0"
      },
      "source": [
        "deriv(1)"
      ],
      "execution_count": 12,
      "outputs": [
        {
          "output_type": "execute_result",
          "data": {
            "text/plain": [
              "6.0\n"
            ]
          },
          "metadata": {
            "tags": []
          },
          "execution_count": 12
        }
      ]
    },
    {
      "cell_type": "markdown",
      "metadata": {
        "id": "avnxS_kV-0ss",
        "colab_type": "text"
      },
      "source": [
        "\n",
        "\n",
        "We have no re-implemented the gradient function.\n",
        "\n",
        "Step 8: Generalized Differentiability & Protocols\n",
        "\n",
        "So far, we've been looking at functions operating on scalar (Float) values, but you can take derivatives of functions that operate on vectors (aka higher dimensions) too. In order to support this, you need your type to conform to the Differentiable protocol, which often involves ensuring your type conforms to the AdditiveArithmetic protocol. The salient bits of that protocol are:\n",
        "\n",
        "public protocol AdditiveArithmetic : Equatable {\n",
        "  /// The zero value.\n",
        "  ///\n",
        "  /// - Note: Zero is the identity element for addition; for any value,\n",
        "  ///   `x + .zero == x` and `.zero + x == x`.\n",
        "  static var zero: Self { get }\n",
        "  /// Adds two values and produces their sum.\n",
        "  ///\n",
        "  /// - Parameters:\n",
        "  ///   - lhs: The first value to add.\n",
        "  ///   - rhs: The second value to add.\n",
        "  static func +(lhs: Self, rhs: Self) -> Self\n",
        "\n",
        "  //...\n",
        "}\n",
        "\n",
        "    Note: The Differentiable protocol is slightly more complicated in order to support non-differentiable member variables, such as activation functions and other non-differentiable member variables.\n",
        "\n",
        "Next up: The Layer protocol!¶\n"
      ]
    },
    {
      "cell_type": "code",
      "metadata": {
        "id": "bfZmCNq1-t1F",
        "colab_type": "code",
        "colab": {}
      },
      "source": [
        ""
      ],
      "execution_count": 0,
      "outputs": []
    }
  ]
}