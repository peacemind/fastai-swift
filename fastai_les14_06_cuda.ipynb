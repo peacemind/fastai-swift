{
  "nbformat": 4,
  "nbformat_minor": 0,
  "metadata": {
    "colab": {
      "name": "fastai-les14-06-cuda.ipynb",
      "version": "0.3.2",
      "provenance": [],
      "collapsed_sections": []
    },
    "kernelspec": {
      "name": "swift",
      "display_name": "Swift"
    },
    "accelerator": "GPU"
  },
  "cells": [
    {
      "cell_type": "markdown",
      "metadata": {
        "id": "HCilLaSs5dwt",
        "colab_type": "text"
      },
      "source": [
        "A CNN Mnist Model"
      ]
    },
    {
      "cell_type": "code",
      "metadata": {
        "id": "kZRlD4utdPuX",
        "colab_type": "code",
        "colab": {
          "base_uri": "https://localhost:8080/",
          "height": 458
        },
        "outputId": "26aef4a9-4b33-45ef-faae-153f30272108"
      },
      "source": [
        "%install-location $cwd/swift-install\n",
        "%install '.package(path: \"$cwd/FastaiNotebook_05b_early_stopping\")' FastaiNotebook_05b_early_stopping"
      ],
      "execution_count": 1,
      "outputs": [
        {
          "output_type": "stream",
          "text": [
            "Installing packages:\n",
            "\t.package(path: \"/content/FastaiNotebook_05b_early_stopping\")\n",
            "\t\tFastaiNotebook_05b_early_stopping\n",
            "With SwiftPM flags: []\n",
            "Working in: /tmp/tmpvbk_3ynp/swift-install\n",
            "Updating https://github.com/mxcl/Path.swift\n",
            "Updating https://github.com/saeta/Just\n",
            "Updating https://github.com/latenitesoft/NotebookExport\n",
            "Completed resolution in 3.02s\n",
            "[1/10] Compiling FastaiNotebook_05b_early_stopping 03_minibatch_training.swift\n",
            "[2/10] Compiling FastaiNotebook_05b_early_stopping 04_callbacks.swift\n",
            "[3/10] Compiling FastaiNotebook_05b_early_stopping 05_anneal.swift\n",
            "[4/10] Compiling FastaiNotebook_05b_early_stopping 05b_early_stopping.swift\n",
            "[5/10] Compiling FastaiNotebook_05b_early_stopping 00_load_data.swift\n",
            "[6/10] Compiling FastaiNotebook_05b_early_stopping 01_matmul.swift\n",
            "[7/10] Compiling FastaiNotebook_05b_early_stopping 01a_fastai_layers.swift\n",
            "[8/10] Compiling FastaiNotebook_05b_early_stopping 02_fully_connected.swift\n",
            "[9/10] Compiling FastaiNotebook_05b_early_stopping 02a_why_sqrt5.swift\n",
            "[10/11] Merging module FastaiNotebook_05b_early_stopping\n",
            "[11/12] Compiling jupyterInstalledPackages jupyterInstalledPackages.swift\n",
            "[12/13] Merging module jupyterInstalledPackages\n",
            "[13/13] Linking libjupyterInstalledPackages.so\n",
            "Initializing Swift...\n",
            "Installation complete!\n"
          ],
          "name": "stdout"
        }
      ]
    },
    {
      "cell_type": "code",
      "metadata": {
        "id": "8OTRL57O5hut",
        "colab_type": "code",
        "colab": {}
      },
      "source": [
        "//export\n",
        "import Path\n",
        "import TensorFlow\n",
        "import Python"
      ],
      "execution_count": 0,
      "outputs": []
    },
    {
      "cell_type": "code",
      "metadata": {
        "id": "nUldQC3nAO4r",
        "colab_type": "code",
        "colab": {}
      },
      "source": [
        "import FastaiNotebook_05b_early_stopping"
      ],
      "execution_count": 0,
      "outputs": []
    },
    {
      "cell_type": "code",
      "metadata": {
        "id": "YSfWjWHyATUC",
        "colab_type": "code",
        "colab": {
          "base_uri": "https://localhost:8080/",
          "height": 35
        },
        "outputId": "72d389b0-7471-45f5-9a7b-9b17e68eff97"
      },
      "source": [
        "%include \"EnableIPythonDisplay.swift\"\n",
        "IPythonDisplay.shell.enable_matplotlib(\"inline\")"
      ],
      "execution_count": 4,
      "outputs": [
        {
          "output_type": "execute_result",
          "data": {
            "text/plain": [
              "('inline', 'module://ipykernel.pylab.backend_inline')\n"
            ]
          },
          "metadata": {
            "tags": []
          },
          "execution_count": 4
        }
      ]
    },
    {
      "cell_type": "markdown",
      "metadata": {
        "id": "Ywn__HDgAXQI",
        "colab_type": "text"
      },
      "source": [
        "Load data"
      ]
    },
    {
      "cell_type": "code",
      "metadata": {
        "id": "49Tn34-bAWCJ",
        "colab_type": "code",
        "colab": {}
      },
      "source": [
        "let data = mnistDataBunch(flat: false, bs: 512)"
      ],
      "execution_count": 0,
      "outputs": []
    },
    {
      "cell_type": "code",
      "metadata": {
        "id": "bFofmuQ1AeWZ",
        "colab_type": "code",
        "colab": {
          "base_uri": "https://localhost:8080/",
          "height": 72
        },
        "outputId": "d1637541-e3bf-4993-9a83-37c1c10ff61d"
      },
      "source": [
        "let firstBatch = data.train.ds.first(where: { _ in true })!\n",
        "let batchShape = firstBatch.xb.shape\n",
        "let batchSize = batchShape.dimensions[0]\n",
        "let exampleSideSize = batchShape.dimensions[1]\n",
        "assert(exampleSideSize == batchShape.dimensions[2])\n",
        "print(\"Batch size: \\(batchSize)\")\n",
        "print(\"Example side size: \\(exampleSideSize)\")\n",
        "\n",
        "let classCount = firstBatch.yb.shape.dimensions[0]\n",
        "print(\"Class count: \\(classCount)\")"
      ],
      "execution_count": 6,
      "outputs": [
        {
          "output_type": "stream",
          "text": [
            "Batch size: 512\r\n",
            "Example side size: 28\r\n",
            "Class count: 512\r\n"
          ],
          "name": "stdout"
        }
      ]
    },
    {
      "cell_type": "code",
      "metadata": {
        "id": "y1ysr5wjAi2C",
        "colab_type": "code",
        "colab": {
          "base_uri": "https://localhost:8080/",
          "height": 109
        },
        "outputId": "fc9bfe61-3a53-4200-f0a0-c040293add60"
      },
      "source": [
        "firstBatch.xb.shape"
      ],
      "execution_count": 7,
      "outputs": [
        {
          "output_type": "execute_result",
          "data": {
            "text/plain": [
              "▿ [512, 28, 28]\n",
              "  ▿ dimensions : 3 elements\n",
              "    - 0 : 512\n",
              "    - 1 : 28\n",
              "    - 2 : 28\n"
            ]
          },
          "metadata": {
            "tags": []
          },
          "execution_count": 7
        }
      ]
    },
    {
      "cell_type": "code",
      "metadata": {
        "id": "wnFkn9neAtNZ",
        "colab_type": "code",
        "colab": {}
      },
      "source": [
        "// export\n",
        "extension Learner {\n",
        "    public class AddChannel: Delegate {\n",
        "        public override func batchWillStart(learner: Learner) {\n",
        "            learner.currentInput = learner.currentInput!.expandingShape(at: -1)\n",
        "        }\n",
        "    }\n",
        "    \n",
        "    public func makeAddChannel() -> AddChannel { return AddChannel() }\n",
        "}"
      ],
      "execution_count": 0,
      "outputs": []
    },
    {
      "cell_type": "code",
      "metadata": {
        "id": "9SU2AamTAvt6",
        "colab_type": "code",
        "colab": {}
      },
      "source": [
        "//export \n",
        "public struct CnnModel: Layer {\n",
        "    public var convs: [FAConv2D<Float>]\n",
        "    public var pool = FAGlobalAvgPool2D<Float>()\n",
        "    public var linear: FADense<Float>\n",
        "    \n",
        "    public init(channelIn: Int, nOut: Int, filters: [Int]){\n",
        "        let allFilters = [channelIn] + filters\n",
        "        convs = Array(0..<filters.count).map { i in\n",
        "            return FAConv2D(allFilters[i], allFilters[i+1], ks: 3, stride: 2)\n",
        "        }\n",
        "        linear = FADense<Float>(filters.last!, nOut)\n",
        "    }\n",
        "    \n",
        "    @differentiable\n",
        "    public func callAsFunction(_ input: TF) -> TF {\n",
        "        return linear(pool(convs(input)))\n",
        "    }\n",
        "}"
      ],
      "execution_count": 0,
      "outputs": []
    },
    {
      "cell_type": "code",
      "metadata": {
        "id": "1yNbuef7A2mJ",
        "colab_type": "code",
        "colab": {}
      },
      "source": [
        "let model = CnnModel(channelIn: 1, nOut: 10, filters: [8, 16, 32, 32])"
      ],
      "execution_count": 0,
      "outputs": []
    },
    {
      "cell_type": "code",
      "metadata": {
        "id": "EuoQEFjaA5TC",
        "colab_type": "code",
        "colab": {
          "base_uri": "https://localhost:8080/",
          "height": 72
        },
        "outputId": "ac4d476a-b6ea-4d5b-9c0e-16c90c3d95bc"
      },
      "source": [
        "// Test that data goes through the model as expected.\n",
        "let predictions = model(firstBatch.xb.expandingShape(at: -1))\n",
        "print(predictions.shape)\n",
        "print(predictions[0])"
      ],
      "execution_count": 11,
      "outputs": [
        {
          "output_type": "stream",
          "text": [
            "[512, 10]\r\n",
            "[  0.019917186, -0.0030276626,    0.03614465,   -0.01815737,    0.07419705,    0.21942934,\r\n",
            "     0.1248743,   -0.06822176,   -0.17621972,   -0.12775409]\r\n"
          ],
          "name": "stdout"
        }
      ]
    },
    {
      "cell_type": "markdown",
      "metadata": {
        "id": "0scLdIBQA-MK",
        "colab_type": "text"
      },
      "source": [
        "Compare training on CPU and GPU"
      ]
    },
    {
      "cell_type": "code",
      "metadata": {
        "id": "kVJqBHk8A7hK",
        "colab_type": "code",
        "colab": {}
      },
      "source": [
        "func optFunc(_ model: CnnModel) -> SGD<CnnModel> { return SGD(for: model, learningRate: 0.4)}\n",
        "func modelInit() -> CnnModel { return CnnModel(channelIn: 1, nOut: 10, filters: [8, 16, 32, 32]) }\n",
        "let learner = Learner(data: data, lossFunc: softmaxCrossEntropy, optFunc: optFunc, modelInit: modelInit)\n",
        "let recorder = learner.makeDefaultDelegates(metrics: [accuracy])\n",
        "learner.addDelegates([learner.makeNormalize(mean: mnistStats.mean, std: mnistStats.std),\n",
        "                      learner.makeAddChannel()])"
      ],
      "execution_count": 0,
      "outputs": []
    },
    {
      "cell_type": "code",
      "metadata": {
        "id": "1o3erMXOBByq",
        "colab_type": "code",
        "colab": {
          "base_uri": "https://localhost:8080/",
          "height": 54
        },
        "outputId": "36168809-8f55-4b9c-de39-54e3c88a7457"
      },
      "source": [
        "// This happens on the GPU (if you have one and it's configured correctly).\n",
        "// I tried this on a GCE 8vCPU 30GB + Tesla P100:\n",
        "// - time: ~4.3s\n",
        "// - nvidia-smi shows ~10% GPU-Util while this is running\n",
        "time { try! learner.fit(1) }"
      ],
      "execution_count": 13,
      "outputs": [
        {
          "output_type": "stream",
          "text": [
            "Epoch 0: [0.44488364, 0.8667]\n",
            "average: 2548.67991 ms,   min: 2548.67991 ms,   max: 2548.67991 ms\n"
          ],
          "name": "stdout"
        }
      ]
    },
    {
      "cell_type": "markdown",
      "metadata": {
        "id": "nhDDSq9NBLLq",
        "colab_type": "text"
      },
      "source": [
        "Collect Layer Activation Statistics"
      ]
    },
    {
      "cell_type": "code",
      "metadata": {
        "id": "6Z8rhVvTBHO5",
        "colab_type": "code",
        "colab": {}
      },
      "source": [
        "class ActivationStatsHook {\n",
        "    var means: [Float] = []\n",
        "    var stds: [Float] = []    \n",
        "    func update(_ act: TF) {\n",
        "        means.append(act.mean().scalarized())\n",
        "        stds.append (act.std() .scalarized())\n",
        "    }\n",
        "}"
      ],
      "execution_count": 0,
      "outputs": []
    },
    {
      "cell_type": "code",
      "metadata": {
        "id": "t9piOCcGBOJf",
        "colab_type": "code",
        "colab": {}
      },
      "source": [
        "let learner = Learner(data: data, lossFunc: softmaxCrossEntropy, optFunc: optFunc, modelInit: modelInit)\n",
        "let recorder = learner.makeDefaultDelegates(metrics: [accuracy])\n",
        "learner.addDelegates([learner.makeNormalize(mean: mnistStats.mean, std: mnistStats.std),\n",
        "                      learner.makeAddChannel()])"
      ],
      "execution_count": 0,
      "outputs": []
    },
    {
      "cell_type": "code",
      "metadata": {
        "id": "vbRWxGLaBR8A",
        "colab_type": "code",
        "colab": {}
      },
      "source": [
        "var statHooks: [ActivationStatsHook] = (0..<learner.model.convs.count).map { i in \n",
        "    var stat = ActivationStatsHook()\n",
        "    learner.model.convs[i].addDelegate(stat.update)\n",
        "    return stat\n",
        "}"
      ],
      "execution_count": 0,
      "outputs": []
    },
    {
      "cell_type": "code",
      "metadata": {
        "id": "4XE8gghcBUFP",
        "colab_type": "code",
        "colab": {
          "base_uri": "https://localhost:8080/",
          "height": 72
        },
        "outputId": "6d99a786-4efd-41b4-e875-0581ea4bc020"
      },
      "source": [
        "// This LayerDelegate stuff slows it down to ~6s/epoch.\n",
        "time { try! learner.fit(2) }"
      ],
      "execution_count": 17,
      "outputs": [
        {
          "output_type": "stream",
          "text": [
            "Epoch 0: [0.4338451, 0.8693]\n",
            "Epoch 1: [0.39911148, 0.89]\n",
            "average: 4143.966819 ms,   min: 4143.966819 ms,   max: 4143.966819 ms\n"
          ],
          "name": "stdout"
        }
      ]
    },
    {
      "cell_type": "code",
      "metadata": {
        "id": "3xmujgz7BYto",
        "colab_type": "code",
        "colab": {
          "base_uri": "https://localhost:8080/",
          "height": 287
        },
        "outputId": "36da3e42-903e-4f19-a317-6add960bdd26"
      },
      "source": [
        "for stat in statHooks {\n",
        "    plt.plot(stat.means)\n",
        "}\n",
        "plt.legend(Array(1...statHooks.count))\n",
        "plt.show()"
      ],
      "execution_count": 18,
      "outputs": [
        {
          "output_type": "display_data",
          "data": {
            "image/png": "[encoded data removed]",
            "text/plain": [
              "<Figure size 432x288 with 1 Axes>"
            ]
          },
          "metadata": {
            "tags": []
          }
        },
        {
          "output_type": "execute_result",
          "data": {
            "text/plain": [
              "None\n"
            ]
          },
          "metadata": {
            "tags": []
          },
          "execution_count": 18
        }
      ]
    },
    {
      "cell_type": "code",
      "metadata": {
        "id": "tpNhuTx_BcJA",
        "colab_type": "code",
        "colab": {
          "base_uri": "https://localhost:8080/",
          "height": 287
        },
        "outputId": "ce53231d-5a40-46df-d424-1e56356bd759"
      },
      "source": [
        "for stat in statHooks {\n",
        "    plt.plot(stat.stds)\n",
        "}\n",
        "plt.legend(Array(1...statHooks.count))\n",
        "plt.show()"
      ],
      "execution_count": 19,
      "outputs": [
        {
          "output_type": "display_data",
          "data": {
            "image/png": "[encoded data removed]",
            "text/plain": [
              "<Figure size 432x288 with 1 Axes>"
            ]
          },
          "metadata": {
            "tags": []
          }
        },
        {
          "output_type": "execute_result",
          "data": {
            "text/plain": [
              "None\n"
            ]
          },
          "metadata": {
            "tags": []
          },
          "execution_count": 19
        }
      ]
    },
    {
      "cell_type": "markdown",
      "metadata": {
        "id": "xVtrEiYnBjHV",
        "colab_type": "text"
      },
      "source": [
        "Export"
      ]
    },
    {
      "cell_type": "code",
      "metadata": {
        "id": "DQAaZSjXBhO4",
        "colab_type": "code",
        "colab": {
          "base_uri": "https://localhost:8080/",
          "height": 35
        },
        "outputId": "879c4a02-71b1-42a9-9c50-d9b34fff1499"
      },
      "source": [
        "import NotebookExport\n",
        "let exporter = NotebookExport(Path.cwd/\"06_cuda.ipynb\")\n",
        "print(exporter.export(usingPrefix: \"FastaiNotebook_\"))"
      ],
      "execution_count": 20,
      "outputs": [
        {
          "output_type": "stream",
          "text": [
            "success\r\n"
          ],
          "name": "stdout"
        }
      ]
    },
    {
      "cell_type": "code",
      "metadata": {
        "id": "FrYF5scpBlv4",
        "colab_type": "code",
        "colab": {}
      },
      "source": [
        ""
      ],
      "execution_count": 0,
      "outputs": []
    }
  ]
}