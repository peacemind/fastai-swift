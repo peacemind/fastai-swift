{
  "nbformat": 4,
  "nbformat_minor": 0,
  "metadata": {
    "colab": {
      "name": "fastai-les13-00a-intro-float.ipynb",
      "provenance": [],
      "collapsed_sections": []
    },
    "kernelspec": {
      "name": "swift",
      "display_name": "Swift"
    },
    "accelerator": "GPU"
  },
  "cells": [
    {
      "cell_type": "code",
      "metadata": {
        "id": "4BCbANFGzCEt",
        "colab_type": "code",
        "outputId": "5d825c70-3a32-4afb-b930-89c79fd0fd21",
        "colab": {
          "base_uri": "https://localhost:8080/",
          "height": 715
        }
      },
      "source": [
        "%install-location $cwd/swift-install\n",
        "%install '.package(path: \"$cwd/FastaiNotebook_00_load_data\")' FastaiNotebook_00_load_data"
      ],
      "execution_count": 0,
      "outputs": [
        {
          "output_type": "stream",
          "text": [
            "Installing packages:\n",
            "\t.package(path: \"/content/FastaiNotebook_00_load_data\")\n",
            "\t\tFastaiNotebook_00_load_data\n",
            "With SwiftPM flags: []\n",
            "Working in: /tmp/tmp4cyo67cu/swift-install\n",
            "Fetching https://github.com/mxcl/Path.swift\n",
            "Fetching https://github.com/saeta/Just\n",
            "Fetching https://github.com/latenitesoft/NotebookExport\n",
            "Completed resolution in 4.17s\n",
            "Cloning https://github.com/mxcl/Path.swift\n",
            "Resolving https://github.com/mxcl/Path.swift at 0.16.3\n",
            "Cloning https://github.com/saeta/Just\n",
            "Resolving https://github.com/saeta/Just at 0.7.3\n",
            "Cloning https://github.com/latenitesoft/NotebookExport\n",
            "Resolving https://github.com/latenitesoft/NotebookExport at 0.6.0\n",
            "[1/11] Compiling Path Extensions.swift\n",
            "[2/11] Compiling Path Path+Attributes.swift\n",
            "[3/11] Compiling Path Path+Codable.swift\n",
            "[4/11] Compiling Path Path+CommonDirectories.swift\n",
            "[5/11] Compiling Path Path+FileManager.swift\n",
            "[6/11] Compiling Path Path+StringConvertibles.swift\n",
            "[7/11] Compiling Path Path+ls.swift\n",
            "[8/11] Compiling Path Path->Bool.swift\n",
            "[9/11] Compiling Path Path.swift\n",
            "[10/12] Merging module Path\n",
            "[12/13] Merging module Just\n",
            "[13/17] Compiling NotebookExport DependencyDescription.swift\n",
            "[14/17] Compiling NotebookExport ExtensionUtils.swift\n",
            "[15/17] Compiling NotebookExport NotebookExport.swift\n",
            "[16/17] Compiling NotebookExport PackageManifest.swift\n",
            "[17/18] Merging module NotebookExport\n",
            "[18/19] Compiling FastaiNotebook_00_load_data 00_load_data.swift\n",
            "[19/20] Merging module FastaiNotebook_00_load_data\n",
            "[20/21] Compiling jupyterInstalledPackages jupyterInstalledPackages.swift\n",
            "[21/22] Merging module jupyterInstalledPackages\n",
            "[22/22] Linking libjupyterInstalledPackages.so\n",
            "Initializing Swift...\n",
            "Installation complete!\n"
          ],
          "name": "stdout"
        }
      ]
    },
    {
      "cell_type": "code",
      "metadata": {
        "id": "kZRlD4utdPuX",
        "colab_type": "code",
        "colab": {}
      },
      "source": [
        "import FastaiNotebook_00_load_data"
      ],
      "execution_count": 0,
      "outputs": []
    },
    {
      "cell_type": "markdown",
      "metadata": {
        "id": "DLMXwzlMCqt8",
        "colab_type": "text"
      },
      "source": [
        "\n",
        "Hello Swift\n",
        "Constants, variables and types\n",
        "\n",
        "The first thing you'll notice about Swift is that it has variables (var) and constants (let).\n"
      ]
    },
    {
      "cell_type": "code",
      "metadata": {
        "id": "Bf6bszJByJis",
        "colab_type": "code",
        "outputId": "18d2734b-6608-4ec3-b76f-56cf1da0eec1",
        "colab": {
          "base_uri": "https://localhost:8080/",
          "height": 35
        }
      },
      "source": [
        "// These are integers\n",
        "let batchSize = 6\n",
        "var b = 1 + (4 * batchSize)\n",
        "print(\"some integers:\", batchSize, b)"
      ],
      "execution_count": 0,
      "outputs": [
        {
          "output_type": "stream",
          "text": [
            "some integers: 6 25\r\n"
          ],
          "name": "stdout"
        }
      ]
    },
    {
      "cell_type": "code",
      "metadata": {
        "id": "aylEmzMWDAyZ",
        "colab_type": "code",
        "outputId": "9b8bec00-abfd-4c2b-9d35-c6c2805080e3",
        "colab": {
          "base_uri": "https://localhost:8080/",
          "height": 35
        }
      },
      "source": [
        "// These are floating point values.\n",
        "var myPi = 3.1\n",
        "let π = Float.pi\n",
        "print(\"some floats: \", myPi, π)"
      ],
      "execution_count": 0,
      "outputs": [
        {
          "output_type": "stream",
          "text": [
            "some floats:  3.1 3.1415925\r\n"
          ],
          "name": "stdout"
        }
      ]
    },
    {
      "cell_type": "markdown",
      "metadata": {
        "id": "h6apejdZDQsC",
        "colab_type": "text"
      },
      "source": [
        "Constants cannot be changed after they are set:"
      ]
    },
    {
      "cell_type": "code",
      "metadata": {
        "id": "aJeNFVywDVYH",
        "colab_type": "code",
        "outputId": "3c4d8f8c-3906-408d-99f8-d6d5616ec81a",
        "colab": {
          "base_uri": "https://localhost:8080/",
          "height": 228
        }
      },
      "source": [
        "batchSize = 8"
      ],
      "execution_count": 0,
      "outputs": [
        {
          "output_type": "error",
          "ename": "",
          "evalue": "ignored",
          "traceback": [
            "error: <Cell 5>:1:1: error: cannot assign to value: 'batchSize' is a 'let' constant\nbatchSize = 8\n^~~~~~~~~\n\n<Cell 3>:2:1: note: change 'let' to 'var' to make it mutable\nlet batchSize = 6\n^~~\nvar\n\n"
          ]
        }
      ]
    },
    {
      "cell_type": "markdown",
      "metadata": {
        "id": "7c7h-YMeRwZG",
        "colab_type": "text"
      },
      "source": [
        "Swift also has types... and type inference. This means you often don't have to specify the types, but they are there, and can be used to override type inference:"
      ]
    },
    {
      "cell_type": "code",
      "metadata": {
        "id": "bRXgM4b6Rqu1",
        "colab_type": "code",
        "outputId": "0100431a-9e0c-4b3d-d817-92944b0f0ead",
        "colab": {
          "base_uri": "https://localhost:8080/",
          "height": 54
        }
      },
      "source": [
        "// Type inference would produce an integer, but we make this be a float.\n",
        "var someFloat : Float = 1 + 4*9\n",
        "\n",
        "// Jeremy might not like greek letters, but he surely loves emoji 😬\n",
        "var 🐶💩 = \"dog poo\"\n",
        "print(🐶💩)\n",
        "\n",
        "\n",
        "// This is the equivalent of the Python 'type' operator.\n",
        "print(\"some types: \", type(of: someFloat), type(of: 🐶💩))"
      ],
      "execution_count": 0,
      "outputs": [
        {
          "output_type": "stream",
          "text": [
            "dog poo\r\n",
            "some types:  Float String\r\n"
          ],
          "name": "stdout"
        }
      ]
    },
    {
      "cell_type": "markdown",
      "metadata": {
        "id": "dSlJZQq_SCM9",
        "colab_type": "text"
      },
      "source": [
        "\n",
        "Whitespace, functions, tuples, and structs in Swift\n",
        "\n",
        "Functions are declare with func instead of def in Swift. They include types, and default to having argument labels.\n"
      ]
    },
    {
      "cell_type": "code",
      "metadata": {
        "id": "FqdzUPCrSDBs",
        "colab_type": "code",
        "outputId": "0723ef3c-8bda-4cdc-b82b-38418f7f62ff",
        "colab": {
          "base_uri": "https://localhost:8080/",
          "height": 35
        }
      },
      "source": [
        "func distance(x: Float, y: Float) -> Float {\n",
        "  return sqrt(x*x+y*y)\n",
        "}\n",
        "\n",
        "// Functions default to having argument labels:\n",
        "distance(x: 1.0, y: 2.0)"
      ],
      "execution_count": 0,
      "outputs": [
        {
          "output_type": "execute_result",
          "data": {
            "text/plain": [
              "2.236068\n"
            ]
          },
          "metadata": {
            "tags": []
          },
          "execution_count": 7
        }
      ]
    },
    {
      "cell_type": "markdown",
      "metadata": {
        "id": "NtFymRWtVfqI",
        "colab_type": "text"
      },
      "source": [
        "\n",
        "\n",
        "Sometimes argument labels are the wrong thing, and sometimes you want the caller to use a different argument label than you want to use as the name inside of a function. To support this, Swift allows you to use two names for each argument, and the underscore means \"ignore\".\n",
        "\n",
        "Swift also has tuples just like Python, and you can use them to return multiple results:\n"
      ]
    },
    {
      "cell_type": "code",
      "metadata": {
        "id": "MLRtHC7oVgjc",
        "colab_type": "code",
        "outputId": "ba458c20-dd28-4e51-a3ba-9807fd8a0017",
        "colab": {
          "base_uri": "https://localhost:8080/",
          "height": 72
        }
      },
      "source": [
        "func sincos(_ value: Float) -> (Float, Float) {\n",
        "  return (sin(value), cos(value))\n",
        "}\n",
        "\n",
        "sincos(2*π)"
      ],
      "execution_count": 0,
      "outputs": [
        {
          "output_type": "execute_result",
          "data": {
            "text/plain": [
              "▿ 2 elements\n",
              "  - .0 : -3.019916e-07\n",
              "  - .1 : 1.0\n"
            ]
          },
          "metadata": {
            "tags": []
          },
          "execution_count": 8
        }
      ]
    },
    {
      "cell_type": "markdown",
      "metadata": {
        "id": "LxLZZTAPV1Dd",
        "colab_type": "text"
      },
      "source": [
        "Destructuring works like in Python:"
      ]
    },
    {
      "cell_type": "code",
      "metadata": {
        "id": "hX5dK3QNV2BL",
        "colab_type": "code",
        "outputId": "16a73869-20d9-46b1-8b1f-04517b63fd7f",
        "colab": {
          "base_uri": "https://localhost:8080/",
          "height": 35
        }
      },
      "source": [
        "let (s, c) = sincos(42)\n",
        "s + c"
      ],
      "execution_count": 0,
      "outputs": [
        {
          "output_type": "execute_result",
          "data": {
            "text/plain": [
              "-1.3165069\n"
            ]
          },
          "metadata": {
            "tags": []
          },
          "execution_count": 9
        }
      ]
    },
    {
      "cell_type": "markdown",
      "metadata": {
        "id": "VlZybbbxV7g-",
        "colab_type": "text"
      },
      "source": [
        "And you can also access the elements with .0, .1...."
      ]
    },
    {
      "cell_type": "code",
      "metadata": {
        "id": "KKUjkmVjWA2v",
        "colab_type": "code",
        "outputId": "c2473a5f-c610-4e5f-ad83-bbdc9c4fb4f4",
        "colab": {
          "base_uri": "https://localhost:8080/",
          "height": 35
        }
      },
      "source": [
        "let tupleValue = sincos(213)\n",
        "tupleValue.1"
      ],
      "execution_count": 0,
      "outputs": [
        {
          "output_type": "execute_result",
          "data": {
            "text/plain": [
              "0.8090276\n"
            ]
          },
          "metadata": {
            "tags": []
          },
          "execution_count": 10
        }
      ]
    },
    {
      "cell_type": "markdown",
      "metadata": {
        "id": "D2ebedQuWMmk",
        "colab_type": "text"
      },
      "source": [
        "Structures are a little bit like a class in Python. You can define structures with the struct keyword, which gives you a name for a type. Structs are super efficient (no memory allocation etc) and allow you to access the fields conveniently:"
      ]
    },
    {
      "cell_type": "code",
      "metadata": {
        "id": "JLkllPCnWO2L",
        "colab_type": "code",
        "outputId": "1c6c9b29-8c82-4cd9-ad6c-f42aca8114cf",
        "colab": {
          "base_uri": "https://localhost:8080/",
          "height": 35
        }
      },
      "source": [
        "struct ComplexF {\n",
        "    var real, imag : Float\n",
        "}\n",
        "\n",
        "var someComplex = ComplexF(real: 1.0, imag: 12.0)\n",
        "print(someComplex)"
      ],
      "execution_count": 0,
      "outputs": [
        {
          "output_type": "stream",
          "text": [
            "ComplexF(real: 1.0, imag: 12.0)\r\n"
          ],
          "name": "stdout"
        }
      ]
    },
    {
      "cell_type": "markdown",
      "metadata": {
        "id": "HU_dk5YhW3MB",
        "colab_type": "text"
      },
      "source": [
        "\n",
        "\n",
        "This is very similar to a dataclass in Python:\n",
        "\n",
        "@dataclass\n",
        "class ComplexF:\n",
        "    real:float\n",
        "    imag:float\n",
        "\n",
        "someComplex = ComplexF(1.0, 12.0)\n",
        "print(someComplex)\n",
        "\n",
        "Once you have types, you want to write generic code. Generics in Swift work very differently than Java or C++ generics, but the syntax is similar. Let's make this type generic, and add some computed properties:\n"
      ]
    },
    {
      "cell_type": "code",
      "metadata": {
        "id": "nqmI1HYQW4Y4",
        "colab_type": "code",
        "colab": {}
      },
      "source": [
        "struct Complex<T : SignedNumeric> {\n",
        "    var real, imag : T\n",
        "    \n",
        "    // This is a read only computed property.\n",
        "    var conj : Complex { return Complex(real: real, imag: -imag) }\n",
        "    \n",
        "    // Here's a computed property with a setter, that returns the imaginary\n",
        "    // component negated, just to show how to do this.  A more realistic\n",
        "    // use case would be to provide a polar coordinate projection.\n",
        "    var imagNegated : T {\n",
        "        get { return -imag }\n",
        "        set { imag = -newValue }\n",
        "    }\n",
        "}"
      ],
      "execution_count": 0,
      "outputs": []
    },
    {
      "cell_type": "markdown",
      "metadata": {
        "id": "R39d8R8HXidz",
        "colab_type": "text"
      },
      "source": [
        "We can then define a Complex structure that takes Int or Double. Swift automatically infers the type."
      ]
    },
    {
      "cell_type": "code",
      "metadata": {
        "id": "fHgftjjCXi67",
        "colab_type": "code",
        "outputId": "5e434344-c0d5-41d7-c583-df6ceb312c2f",
        "colab": {
          "base_uri": "https://localhost:8080/",
          "height": 54
        }
      },
      "source": [
        "var complexInt = Complex(real: 1, imag: 12)\n",
        "var complexDouble = Complex(real: 1.0, imag: π)\n",
        "print(complexInt, complexDouble, separator: \"\\n\")"
      ],
      "execution_count": 0,
      "outputs": [
        {
          "output_type": "stream",
          "text": [
            "Complex<Int>(real: 1, imag: 12)\r\n",
            "Complex<Float>(real: 1.0, imag: 3.1415925)\r\n"
          ],
          "name": "stdout"
        }
      ]
    },
    {
      "cell_type": "code",
      "metadata": {
        "id": "lBYElJFnYO4C",
        "colab_type": "code",
        "outputId": "50ba8397-a981-4570-88d6-b3d95eb7abf9",
        "colab": {
          "base_uri": "https://localhost:8080/",
          "height": 35
        }
      },
      "source": [
        "print(\"Conj:       \", complexInt.conj)"
      ],
      "execution_count": 0,
      "outputs": [
        {
          "output_type": "stream",
          "text": [
            "Conj:        Complex<Int>(real: 1, imag: -12)\r\n"
          ],
          "name": "stdout"
        }
      ]
    },
    {
      "cell_type": "markdown",
      "metadata": {
        "id": "92li85FqYh-i",
        "colab_type": "text"
      },
      "source": [
        "The imagNegated propery we defined is a computed property. It's not a stored value in memory but is calculated when asked to by the user from the structure state. We can define a setter for it that will adapt the stored properties of the structure with respect to the newValue we pass."
      ]
    },
    {
      "cell_type": "code",
      "metadata": {
        "id": "Yu-Bv43IYjCI",
        "colab_type": "code",
        "outputId": "22fe4daf-9095-4e76-9fac-3a50d88e357f",
        "colab": {
          "base_uri": "https://localhost:8080/",
          "height": 54
        }
      },
      "source": [
        "print(\"property: \", complexInt.imag, complexInt.imagNegated)\n",
        "complexInt.imagNegated = 4\n",
        "print(complexInt)"
      ],
      "execution_count": 0,
      "outputs": [
        {
          "output_type": "stream",
          "text": [
            "property:  12 -12\r\n",
            "Complex<Int>(real: 1, imag: -4)\r\n"
          ],
          "name": "stdout"
        }
      ]
    },
    {
      "cell_type": "markdown",
      "metadata": {
        "id": "30EaWFeeZp_-",
        "colab_type": "text"
      },
      "source": [
        "Swift lets you add things to types that are already defined with Extensions to types, using the extension keyword. You can even extend a type implemented by someone else, no problem. Here we give an add method to Complex:"
      ]
    },
    {
      "cell_type": "code",
      "metadata": {
        "id": "pLvt2NBMZwIj",
        "colab_type": "code",
        "colab": {}
      },
      "source": [
        "extension Complex {\n",
        "    func add(_ other: Complex) -> Complex {\n",
        "        return Complex(real: real + other.real,\n",
        "                       imag: imag + other.imag)\n",
        "    }\n",
        "}"
      ],
      "execution_count": 0,
      "outputs": []
    },
    {
      "cell_type": "code",
      "metadata": {
        "id": "HKHoC3WMZyuw",
        "colab_type": "code",
        "outputId": "e9771c6d-275c-4e39-c121-c7675399552c",
        "colab": {
          "base_uri": "https://localhost:8080/",
          "height": 72
        }
      },
      "source": [
        "print(\"☑️Original: \", complexDouble)\n",
        "print(\"⤴️Moved:    \", complexDouble.add(Complex(real: 10, imag: 10)))\n",
        "print(\"2️⃣Doubled:  \", complexDouble.add(complexDouble))"
      ],
      "execution_count": 0,
      "outputs": [
        {
          "output_type": "stream",
          "text": [
            "☑️Original:  Complex<Float>(real: 1.0, imag: 3.1415925)\r\n",
            "⤴️Moved:     Complex<Float>(real: 11.0, imag: 13.141592)\r\n",
            "2️⃣Doubled:   Complex<Float>(real: 2.0, imag: 6.283185)\r\n"
          ],
          "name": "stdout"
        }
      ]
    },
    {
      "cell_type": "markdown",
      "metadata": {
        "id": "F_prskVoe95d",
        "colab_type": "text"
      },
      "source": [
        "Defining an 'add' method makes me sad though, because this is math! Fortunately operators are just functions in Swift, and are defined with func."
      ]
    },
    {
      "cell_type": "code",
      "metadata": {
        "id": "imiDOIzrZzfv",
        "colab_type": "code",
        "outputId": "df3fb4a7-4b8b-42f7-c27d-f69efc5a90b3",
        "colab": {
          "base_uri": "https://localhost:8080/",
          "height": 35
        }
      },
      "source": [
        "extension Complex {\n",
        "    static func + (lhs: Complex, rhs: Complex) -> Complex {\n",
        "        return Complex(real: lhs.real + lhs.real, \n",
        "                       imag: lhs.imag + rhs.imag)\n",
        "    }\n",
        "}\n",
        "\n",
        "print(\"added: \", complexInt + complexInt)"
      ],
      "execution_count": 0,
      "outputs": [
        {
          "output_type": "stream",
          "text": [
            "added:  Complex<Int>(real: 2, imag: -8)\r\n"
          ],
          "name": "stdout"
        }
      ]
    },
    {
      "cell_type": "markdown",
      "metadata": {
        "id": "DI_oS9SdfRPS",
        "colab_type": "text"
      },
      "source": [
        "You can even define your own operators if you feel like it. Please don't get too crazy."
      ]
    },
    {
      "cell_type": "code",
      "metadata": {
        "id": "iUlNQzQjfTNA",
        "colab_type": "code",
        "outputId": "28acb770-91e9-40c9-bfcb-be0ba7f07824",
        "colab": {
          "base_uri": "https://localhost:8080/",
          "height": 35
        }
      },
      "source": [
        "prefix operator √\n",
        "\n",
        "// Complex square root returns two different complex numbers.\n",
        "prefix func √(value: Complex<Float>) -> (Complex<Float>, Complex<Float>) {\n",
        "    // Implemention omitted - just return the same thing for simplicity.\n",
        "    return (value, value)\n",
        "}\n",
        "\n",
        "let (root1, root2) = √complexDouble\n",
        "print(root1)"
      ],
      "execution_count": 0,
      "outputs": [
        {
          "output_type": "stream",
          "text": [
            "Complex<Float>(real: 1.0, imag: 3.1415925)\r\n"
          ],
          "name": "stdout"
        }
      ]
    },
    {
      "cell_type": "markdown",
      "metadata": {
        "id": "DkfrNdx_fxpr",
        "colab_type": "text"
      },
      "source": [
        "\n",
        "\n",
        "Wrapping up: Okay, that's your basic introduction to Swift. If you'd like a longer tour about high level Swift language features and concepts, there is an online guided tour to Swift on swift.org.\n",
        "\n",
        "Now lets talk about ... Python?!\n",
        "\n",
        "Swift loves Python 🐍 too\n",
        "\n",
        "One of the cool things about Swift for TensorFlow is that we can directly call into Python. First we import Python into Swift.\n",
        "\n"
      ]
    },
    {
      "cell_type": "code",
      "metadata": {
        "id": "XB9lDmAofwNe",
        "colab_type": "code",
        "colab": {}
      },
      "source": [
        "import Python"
      ],
      "execution_count": 0,
      "outputs": []
    },
    {
      "cell_type": "markdown",
      "metadata": {
        "id": "CirDSZlqgATJ",
        "colab_type": "text"
      },
      "source": [
        "You can import arbitrary Python modules and directly use them. No wrappers, interface libraries, code generators, or build steps."
      ]
    },
    {
      "cell_type": "code",
      "metadata": {
        "id": "wF-fkw2GgAy9",
        "colab_type": "code",
        "colab": {}
      },
      "source": [
        "public let np = Python.import(\"numpy\")\n",
        "public let plt = Python.import(\"matplotlib.pyplot\")"
      ],
      "execution_count": 0,
      "outputs": []
    },
    {
      "cell_type": "markdown",
      "metadata": {
        "id": "0F_gS9NWgFr8",
        "colab_type": "text"
      },
      "source": [
        "Err, Python in Swift?? Yep, Swift is super dynamic too, so it can directly talk to the Python runtime. We'll talk about that later."
      ]
    },
    {
      "cell_type": "code",
      "metadata": {
        "id": "JgnWB3L9f-Wp",
        "colab_type": "code",
        "outputId": "27cdb4a4-69f3-4831-d96a-8bfbc7e6b63e",
        "colab": {
          "base_uri": "https://localhost:8080/",
          "height": 35
        }
      },
      "source": [
        "let npArray = np.array([1,2,3,4])\n",
        "npArray"
      ],
      "execution_count": 0,
      "outputs": [
        {
          "output_type": "execute_result",
          "data": {
            "text/plain": [
              "[1 2 3 4]\n"
            ]
          },
          "metadata": {
            "tags": []
          },
          "execution_count": 26
        }
      ]
    },
    {
      "cell_type": "markdown",
      "metadata": {
        "id": "Ijqtf8gDgNYI",
        "colab_type": "text"
      },
      "source": [
        "\n",
        "\n",
        "Why do we want this? Well it turns out that the entire datascience ecosystem is in Python, and many of you are comfortable with Python APIs. Swift can do lots of things, but Python is just fine for basic things like reading files, so there's no need to change what isn't broken!\n",
        "\n",
        "Using Python and matplotlib to visualize data\n",
        "\n",
        "loadMNIST is defined in workbook 00_load_data. It loads the data into TensorFlow Tensors, which is why we need to import TensorFlow.\n"
      ]
    },
    {
      "cell_type": "code",
      "metadata": {
        "id": "i3Q_68UOgORF",
        "colab_type": "code",
        "outputId": "0b4e040d-db8b-4da3-ca9f-8d24d03e0e2c",
        "colab": {
          "base_uri": "https://localhost:8080/",
          "height": 90
        }
      },
      "source": [
        "import TensorFlow\n",
        "let (xTrain, yTrain, xValid, yValid) = loadMNIST(path: mnistPath, flat: true)"
      ],
      "execution_count": 0,
      "outputs": [
        {
          "output_type": "stream",
          "text": [
            "Downloading https://storage.googleapis.com/cvdf-datasets/mnist/train-images-idx3-ubyte.gz...\n",
            "Downloading https://storage.googleapis.com/cvdf-datasets/mnist/train-labels-idx1-ubyte.gz...\n",
            "Downloading https://storage.googleapis.com/cvdf-datasets/mnist/t10k-images-idx3-ubyte.gz...\n",
            "Downloading https://storage.googleapis.com/cvdf-datasets/mnist/t10k-labels-idx1-ubyte.gz...\n"
          ],
          "name": "stdout"
        }
      ]
    },
    {
      "cell_type": "markdown",
      "metadata": {
        "id": "2fAnnlTtru41",
        "colab_type": "text"
      },
      "source": [
        "That just loaded a TensorFlow Tensor:"
      ]
    },
    {
      "cell_type": "code",
      "metadata": {
        "id": "17Nirxk-rrlo",
        "colab_type": "code",
        "outputId": "3623eeda-c981-44f0-c091-a72aa0e497fd",
        "colab": {
          "base_uri": "https://localhost:8080/",
          "height": 109
        }
      },
      "source": [
        "print(type(of: xTrain))\n",
        "print(xTrain.shape, yTrain.shape, xValid.shape, yValid.shape, separator: \"\\n\")"
      ],
      "execution_count": 0,
      "outputs": [
        {
          "output_type": "stream",
          "text": [
            "Tensor<Float>\r\n",
            "[60000, 784]\r\n",
            "[60000]\r\n",
            "[10000, 784]\r\n",
            "[10000]\r\n"
          ],
          "name": "stdout"
        }
      ]
    },
    {
      "cell_type": "markdown",
      "metadata": {
        "id": "NvPea5PNsG-M",
        "colab_type": "text"
      },
      "source": [
        "\n",
        "\n",
        "For now though we won't talk much about the Tensor API, come back to it later.\n",
        "Using matplotlib\n",
        "\n",
        "Let's take a look at an example from MNIST. We have already imported numpy and matplotlib.pyplot. This is the equivalent of the magic %matplotlib inline in a python notebook, it will let us see the plots:\n"
      ]
    },
    {
      "cell_type": "code",
      "metadata": {
        "id": "hMIGBN2Ir_jJ",
        "colab_type": "code",
        "outputId": "ca7e8bf3-7a4e-44d0-f742-8d88e5a20bb5",
        "colab": {
          "base_uri": "https://localhost:8080/",
          "height": 35
        }
      },
      "source": [
        "%include \"EnableIPythonDisplay.swift\"\n",
        "IPythonDisplay.shell.enable_matplotlib(\"inline\")"
      ],
      "execution_count": 0,
      "outputs": [
        {
          "output_type": "execute_result",
          "data": {
            "text/plain": [
              "('inline', 'module://ipykernel.pylab.backend_inline')\n"
            ]
          },
          "metadata": {
            "tags": []
          },
          "execution_count": 30
        }
      ]
    },
    {
      "cell_type": "markdown",
      "metadata": {
        "id": "MKD5QFYGsP14",
        "colab_type": "text"
      },
      "source": [
        "It's super easy to turn an example from the Tensor into a NumPy array."
      ]
    },
    {
      "cell_type": "code",
      "metadata": {
        "id": "XtZlOV4-sQTG",
        "colab_type": "code",
        "colab": {}
      },
      "source": [
        "let img = xTrain[0].makeNumpyArray().reshape(28,28)"
      ],
      "execution_count": 0,
      "outputs": []
    },
    {
      "cell_type": "markdown",
      "metadata": {
        "id": "We8wHrcLsghn",
        "colab_type": "text"
      },
      "source": [
        "Then we can plot it like this:"
      ]
    },
    {
      "cell_type": "code",
      "metadata": {
        "id": "bzygifyIsb3u",
        "colab_type": "code",
        "outputId": "c872a653-d85e-48ba-e63e-a3b9f44bbf6b",
        "colab": {
          "base_uri": "https://localhost:8080/",
          "height": 341
        }
      },
      "source": [
        "plt.figure(figsize: [5,5])\n",
        "plt.show(plt.imshow(X: img, cmap: \"gray\"))"
      ],
      "execution_count": 0,
      "outputs": [
        {
          "output_type": "display_data",
          "data": {
            "image/png": "[encoded data removed]",
            "text/plain": [
              "<Figure size 360x360 with 1 Axes>"
            ]
          },
          "metadata": {
            "tags": []
          }
        },
        {
          "output_type": "execute_result",
          "data": {
            "text/plain": [
              "None\n"
            ]
          },
          "metadata": {
            "tags": []
          },
          "execution_count": 33
        }
      ]
    },
    {
      "cell_type": "markdown",
      "metadata": {
        "id": "R86ylV0Bsy-t",
        "colab_type": "text"
      },
      "source": [
        "\n",
        "How does this work?\n",
        "\n",
        "Python is a dynamically typed language ... but another way to look at it is that it has exactly one static type. Swift calls it PythonObject.\n"
      ]
    },
    {
      "cell_type": "code",
      "metadata": {
        "id": "nWjsQJjCsssp",
        "colab_type": "code",
        "outputId": "298ab373-5400-4194-ee6f-de59826bdbc6",
        "colab": {
          "base_uri": "https://localhost:8080/",
          "height": 127
        }
      },
      "source": [
        "print(\"Numpy Module Type: \", type(of: np))\n",
        "print(\"Numpy Function Type: \", type(of: np.array))\n",
        "print(\"Numpy Array Type: \", type(of: npArray))\n",
        "print(npArray*2, npArray[1])\n",
        "\n",
        "print(Python.type(npArray))\n",
        "print(npArray.__class__)"
      ],
      "execution_count": 0,
      "outputs": [
        {
          "output_type": "stream",
          "text": [
            "Numpy Module Type:  PythonObject\r\n",
            "Numpy Function Type:  PythonObject\r\n",
            "Numpy Array Type:  PythonObject\r\n",
            "[2 4 6 8] 2\r\n",
            "<class 'numpy.ndarray'>\r\n",
            "<class 'numpy.ndarray'>\r\n"
          ],
          "name": "stdout"
        }
      ]
    },
    {
      "cell_type": "markdown",
      "metadata": {
        "id": "GlbctvjsuLxC",
        "colab_type": "text"
      },
      "source": [
        "\n",
        "\n",
        "This works really well in practice, because Swift is talking to Python dynamically - exactly as it was designed to be used. You can even import and use the entire fastai PyTorch framework and use it from Swift!\n",
        "\"Impractical\" Programming Languages\n",
        "\n",
        "We now have a bit of a grasp on how Swift basics work, but we're taking a lot for granted here! We are supposed to be building an entire machine learning framework from scratch!\n",
        "\n",
        "Jeremy started by showing you how to implement a MatMul using an array of floating point scalars, \"from the foundations\". Apparently, Jeremy thinks this is the foundations:\n",
        "\n",
        "def matmul(a,b):\n",
        "\n",
        "    ar,ac = a.shape # n_rows * n_cols\n",
        "\n",
        "    br,bc = b.shape\n",
        "    \n",
        "    assert ac==br\n",
        "    \n",
        "    c = torch.zeros(ar, bc)\n",
        "    \n",
        "    for i in range(ar):\n",
        "    \n",
        "        for j in range(bc):\n",
        "        \n",
        "            for k in range(ac): # or br\n",
        "            \n",
        "                c[i,j] += a[i,k] * b[k,j]\n",
        "                \n",
        "    return c\n",
        "\n",
        "Let's do it properly, this time... by going down to the bedrock. First let's talk more about what programming languages are, how compilers work, and then we can understand what Swift really is.\n",
        "\n",
        "Slides: What is a Compiler\n",
        "\n",
        "Building Float\n",
        "\n",
        "Ok, now we know how to build Float, Double, Int, etc. One really nice thing is that this generates really great code.\n"
      ]
    },
    {
      "cell_type": "code",
      "metadata": {
        "id": "XlbSMhQTte8s",
        "colab_type": "code",
        "colab": {}
      },
      "source": [
        "// Really simple math\n",
        "func squareAdd(n: Float) -> Float {\n",
        "  let tmp = n * n\n",
        "  let result = tmp + 1.0\n",
        "  return result\n",
        "}"
      ],
      "execution_count": 0,
      "outputs": []
    },
    {
      "cell_type": "markdown",
      "metadata": {
        "id": "Z1o7OIYpuszC",
        "colab_type": "text"
      },
      "source": [
        "\n",
        "\n",
        "You can see the generated X86 assembly the Compiler Explorer! It is optimal, and exactly what you get from the Clang C compiler, because it is built on top of the same LLVM code generator.\n",
        "\n",
        "Because Int and Float are implemented in the standard library, you can actually see the underlying field if you know where to look:\n"
      ]
    },
    {
      "cell_type": "code",
      "metadata": {
        "id": "DBAPMNJkuqeg",
        "colab_type": "code",
        "outputId": "18480c71-f42b-49fa-f8c6-cba5eaf9921d",
        "colab": {
          "base_uri": "https://localhost:8080/",
          "height": 54
        }
      },
      "source": [
        "var someInt = 42\n",
        "print(type(of: someInt._value))\n",
        "print(type(of: π._value))"
      ],
      "execution_count": 0,
      "outputs": [
        {
          "output_type": "stream",
          "text": [
            "Builtin.Int64\r\n",
            "Builtin.FPIEEE32\r\n"
          ],
          "name": "stdout"
        }
      ]
    },
    {
      "cell_type": "markdown",
      "metadata": {
        "id": "t_6KQJNAu4uN",
        "colab_type": "text"
      },
      "source": [
        "That said you can't do anything useful with it - only the Swift standard library gets to use the functionality defined in the Builtin module. It is a private interface between the standard library and the compiler, and the stdlib reexports all of its functionality."
      ]
    },
    {
      "cell_type": "code",
      "metadata": {
        "id": "PqGS9yjAu3lw",
        "colab_type": "code",
        "outputId": "62222f33-8216-4050-b644-1ad38a15c3a9",
        "colab": {
          "base_uri": "https://localhost:8080/",
          "height": 136
        }
      },
      "source": [
        "import Builtin"
      ],
      "execution_count": 0,
      "outputs": [
        {
          "output_type": "error",
          "ename": "",
          "evalue": "ignored",
          "traceback": [
            "error: <Cell 40>:1:8: error: no such module 'Builtin'\nimport Builtin\n       ^\n\n"
          ]
        }
      ]
    },
    {
      "cell_type": "markdown",
      "metadata": {
        "id": "O8OGLm8avDE4",
        "colab_type": "text"
      },
      "source": [
        "A cool thing is that since these things are normal types, you can add your own operators and methods to them, just like you can with any other type:"
      ]
    },
    {
      "cell_type": "code",
      "metadata": {
        "id": "0uyANpzDu-hg",
        "colab_type": "code",
        "colab": {}
      },
      "source": [
        "extension Int {\n",
        "  var isOdd : Bool { return self & 1 != 0}\n",
        "}\n",
        "\n",
        "extension Bool {\n",
        "  var symbol : String { return self ? \"👍\" : \"👎\"}\n",
        "}"
      ],
      "execution_count": 0,
      "outputs": []
    },
    {
      "cell_type": "markdown",
      "metadata": {
        "id": "Tm6V4WnJvWcU",
        "colab_type": "text"
      },
      "source": [
        "String literals can be multi-line, and also support interpolation with \\()."
      ]
    },
    {
      "cell_type": "code",
      "metadata": {
        "id": "7YmI4nPHvUCK",
        "colab_type": "code",
        "outputId": "2bab2342-ed02-4ce2-88ce-b6c35111d78b",
        "colab": {
          "base_uri": "https://localhost:8080/",
          "height": 109
        }
      },
      "source": [
        "print(\"\"\"\n",
        "      Feeling odd?\n",
        "        Lets check  4: \\(     4.isOdd         )\n",
        "        what about 17: \\(    17.isOdd         )\n",
        "        Lets check  4: \\(     4.isOdd.symbol  )\n",
        "        What about 17: \\(    17.isOdd.symbol  )\n",
        "      \"\"\")"
      ],
      "execution_count": 0,
      "outputs": [
        {
          "output_type": "stream",
          "text": [
            "Feeling odd?\r\n",
            "  Lets check  4: false\r\n",
            "  what about 17: true\r\n",
            "  Lets check  4: 👎\r\n",
            "  What about 17: 👍\r\n"
          ],
          "name": "stdout"
        }
      ]
    },
    {
      "cell_type": "markdown",
      "metadata": {
        "id": "wtlmLqsOvg6I",
        "colab_type": "text"
      },
      "source": [
        "\n",
        "\n",
        "A lot of the Swift \"language\" is implemented in the standard library, including primitive types like Bool as well. Check out how short circuiting && and || operators are implemented right in the standard library. Even primitives like assert are just functions implemented in Swift.\n",
        "\n",
        "public static func && (lhs: Bool, rhs: @autoclosure () -> Bool) -> Bool {\n",
        "\n",
        "    return lhs ? rhs() : false\n",
        "    \n",
        "  }\n",
        "\n",
        "Looking inside Array\n",
        "\n",
        "Of course, Array and String are also written in Swift and provided by the standard library. Array in Swift contains a pointer to the elements and a size and a reserved capacity. Let's try it out to see how it works.\n",
        "\n",
        "Arrays work with type inference:\n"
      ]
    },
    {
      "cell_type": "code",
      "metadata": {
        "id": "yyQyQAkbvbjw",
        "colab_type": "code",
        "colab": {}
      },
      "source": [
        "var myArray = [1,2,3,4,5,6]"
      ],
      "execution_count": 0,
      "outputs": []
    },
    {
      "cell_type": "markdown",
      "metadata": {
        "id": "gNn2YVdswAZo",
        "colab_type": "text"
      },
      "source": [
        "You can write array types with [] syntax, which is what most people do..."
      ]
    },
    {
      "cell_type": "code",
      "metadata": {
        "id": "jHZMyL-Vv23v",
        "colab_type": "code",
        "colab": {}
      },
      "source": [
        "var myArray2 : [Int] = myArray"
      ],
      "execution_count": 0,
      "outputs": []
    },
    {
      "cell_type": "markdown",
      "metadata": {
        "id": "Jxjbb-x-wS33",
        "colab_type": "text"
      },
      "source": [
        "But this is just synactic sugar for the Array type."
      ]
    },
    {
      "cell_type": "code",
      "metadata": {
        "id": "cEiFm_scwURS",
        "colab_type": "code",
        "colab": {}
      },
      "source": [
        "var myArray3 : Array<Int> = myArray"
      ],
      "execution_count": 0,
      "outputs": []
    },
    {
      "cell_type": "markdown",
      "metadata": {
        "id": "MkrqTgBiwCyd",
        "colab_type": "text"
      },
      "source": [
        "You can see that all of these have the exact same type, even though they are written in different ways:"
      ]
    },
    {
      "cell_type": "code",
      "metadata": {
        "id": "6zR2F51qwDjT",
        "colab_type": "code",
        "outputId": "4147dfb1-ea4a-4593-ebfb-3a73ea85c1e5",
        "colab": {
          "base_uri": "https://localhost:8080/",
          "height": 35
        }
      },
      "source": [
        "print(type(of: myArray), type(of: myArray2), type(of: myArray3))"
      ],
      "execution_count": 0,
      "outputs": [
        {
          "output_type": "stream",
          "text": [
            "Array<Int> Array<Int> Array<Int>\r\n"
          ],
          "name": "stdout"
        }
      ]
    },
    {
      "cell_type": "markdown",
      "metadata": {
        "id": "UJgoDv0DwhSn",
        "colab_type": "text"
      },
      "source": [
        "\n",
        "\n",
        "Swift arrays support all the normal stuff you'd expect, like iteration, indexing, slicing etc.\n",
        "\n",
        "Here is a standard for loop:\n"
      ]
    },
    {
      "cell_type": "code",
      "metadata": {
        "id": "vQX0XUaQwbCs",
        "colab_type": "code",
        "outputId": "ea32aa6b-de29-44e9-8a73-57825a4b61d9",
        "colab": {
          "base_uri": "https://localhost:8080/",
          "height": 127
        }
      },
      "source": [
        "// Starnard `for` loop\n",
        "for x in myArray {\n",
        "  print(x)\n",
        "}"
      ],
      "execution_count": 0,
      "outputs": [
        {
          "output_type": "stream",
          "text": [
            "1\r\n",
            "2\r\n",
            "3\r\n",
            "4\r\n",
            "5\r\n",
            "6\r\n"
          ],
          "name": "stdout"
        }
      ]
    },
    {
      "cell_type": "markdown",
      "metadata": {
        "id": "SyPAlgmTws8d",
        "colab_type": "text"
      },
      "source": [
        "You index or slice with brackets. The Swift slicing operators are ... for inclusive (including the endpoint) and ..< for exclusive ranges. You'll see ..< the most often:"
      ]
    },
    {
      "cell_type": "code",
      "metadata": {
        "id": "Er1NamCLwq9U",
        "colab_type": "code",
        "outputId": "01056cdb-956b-4d0d-8f1f-1ab136efc3e1",
        "colab": {
          "base_uri": "https://localhost:8080/",
          "height": 72
        }
      },
      "source": [
        "print(\"element: \", myArray[0])\n",
        "print(\"slice:  \", myArray[1...3]) // inclusive - includes \"3\"\n",
        "print(\"slice:  \", myArray[1..<3]) //excluse"
      ],
      "execution_count": 0,
      "outputs": [
        {
          "output_type": "stream",
          "text": [
            "element:  1\r\n",
            "slice:   [2, 3, 4]\r\n",
            "slice:   [2, 3]\r\n"
          ],
          "name": "stdout"
        }
      ]
    },
    {
      "cell_type": "markdown",
      "metadata": {
        "id": "k8qEnTszxFOS",
        "colab_type": "text"
      },
      "source": [
        "map applies a function (closure) to every element in the array. Swift closures are like Python lambda's. You can name the argument to the lambda if you'd like:"
      ]
    },
    {
      "cell_type": "code",
      "metadata": {
        "id": "rVYM26oFxEN1",
        "colab_type": "code",
        "outputId": "c80ba261-68ed-4c86-8545-26f3f7668c89",
        "colab": {
          "base_uri": "https://localhost:8080/",
          "height": 35
        }
      },
      "source": [
        "print(\"mapped:   \", myArray.map({ arg in arg + 10}))"
      ],
      "execution_count": 0,
      "outputs": [
        {
          "output_type": "stream",
          "text": [
            "mapped:    [11, 12, 13, 14, 15, 16]\r\n"
          ],
          "name": "stdout"
        }
      ]
    },
    {
      "cell_type": "markdown",
      "metadata": {
        "id": "0XRoR9dZxVR1",
        "colab_type": "text"
      },
      "source": [
        "\n",
        "\n",
        "Arguments can also be anonymous, and default to $0, $1, $2, which are nice for concise functional algorithms.\n",
        "\n",
        "filter returns an array with the elements for which the function returns true\n"
      ]
    },
    {
      "cell_type": "code",
      "metadata": {
        "id": "Z-1zZ_bGxSkn",
        "colab_type": "code",
        "outputId": "05f25dcc-74b0-4b7c-ff53-90347fb914d4",
        "colab": {
          "base_uri": "https://localhost:8080/",
          "height": 35
        }
      },
      "source": [
        "print(\"filtered:  \", myArray.filter( { $0.isOdd } ))"
      ],
      "execution_count": 0,
      "outputs": [
        {
          "output_type": "stream",
          "text": [
            "filtered:   [1, 3, 5]\r\n"
          ],
          "name": "stdout"
        }
      ]
    },
    {
      "cell_type": "markdown",
      "metadata": {
        "id": "8IA61cr_yX1u",
        "colab_type": "text"
      },
      "source": [
        "Functions with trailing closures can omit the parens or move the closure after the parens, which allows you to write nice and fluent code:"
      ]
    },
    {
      "cell_type": "code",
      "metadata": {
        "id": "BngBqnDWyYn5",
        "colab_type": "code",
        "outputId": "b499bef0-6a9f-40ed-a64a-fbfa72c2693f",
        "colab": {
          "base_uri": "https://localhost:8080/",
          "height": 54
        }
      },
      "source": [
        "print(\"oddity:   \", myArray.map{ $0.isOdd.symbol })\n",
        "print(\"processed:\", myArray.map{ $0*3 }.filter{ $0.isOdd })"
      ],
      "execution_count": 0,
      "outputs": [
        {
          "output_type": "stream",
          "text": [
            "oddity:    [\"👍\", \"👎\", \"👍\", \"👎\", \"👍\", \"👎\"]\r\n",
            "processed: [3, 9, 15]\r\n"
          ],
          "name": "stdout"
        }
      ]
    },
    {
      "cell_type": "markdown",
      "metadata": {
        "id": "9ZeNLYRvygzC",
        "colab_type": "text"
      },
      "source": [
        "map and filter are extremely important functions that we never use in Python because they are inefficient, so you'll have to learn to use them in Swift. The last important function is reduce that will compute a value from your array by going from an initial value and applying an operator:"
      ]
    },
    {
      "cell_type": "code",
      "metadata": {
        "id": "LUAtuAUByfnz",
        "colab_type": "code",
        "outputId": "8d8cefeb-5eea-404b-e206-823b074c7d88",
        "colab": {
          "base_uri": "https://localhost:8080/",
          "height": 35
        }
      },
      "source": [
        "print(\"sum: \", myArray.reduce(0, +))"
      ],
      "execution_count": 0,
      "outputs": [
        {
          "output_type": "stream",
          "text": [
            "sum:  21\r\n"
          ],
          "name": "stdout"
        }
      ]
    },
    {
      "cell_type": "markdown",
      "metadata": {
        "id": "zigMWcPOy_Dp",
        "colab_type": "text"
      },
      "source": [
        "Since Array is a type like any other, of course you can put your own methods on it with an extension:"
      ]
    },
    {
      "cell_type": "code",
      "metadata": {
        "id": "ri0sqgYVy41x",
        "colab_type": "code",
        "outputId": "7506e56e-2fb6-4106-dec0-87a94b386a92",
        "colab": {
          "base_uri": "https://localhost:8080/",
          "height": 35
        }
      },
      "source": [
        "extension Array where Element : Numeric {\n",
        "  func doubleElements() -> Array {\n",
        "    return self.map { $0 * 2}\n",
        "  }\n",
        "}\n",
        "\n",
        "print([1,2,3].doubleElements())"
      ],
      "execution_count": 0,
      "outputs": [
        {
          "output_type": "stream",
          "text": [
            "[2, 4, 6]\r\n"
          ],
          "name": "stdout"
        }
      ]
    },
    {
      "cell_type": "markdown",
      "metadata": {
        "id": "bsUPA4gO0Vc0",
        "colab_type": "text"
      },
      "source": [
        "You might be wondering what the where Element : Numeric thing is on that extension. That is saying that the doubleElements method only exists on arrays whose elements are numeric. Other sorts of arrays don't get this method because they can't multiply the elements by two. For example, try it out on an array of strings or bool (which aren't considered to be numeric) to see what happens:"
      ]
    },
    {
      "cell_type": "code",
      "metadata": {
        "id": "UWHUNeUfzP4Q",
        "colab_type": "code",
        "outputId": "2b0ecf2c-25ca-42e9-9ea3-9b0b5c61868d",
        "colab": {
          "base_uri": "https://localhost:8080/",
          "height": 229
        }
      },
      "source": [
        "print([true, false, true].doubleElements())"
      ],
      "execution_count": 0,
      "outputs": [
        {
          "output_type": "error",
          "ename": "",
          "evalue": "ignored",
          "traceback": [
            "error: <Cell 56>:1:27: error: referencing instance method 'doubleElements()' on 'Array' requires that 'Bool' conform to 'Numeric'\nprint([true, false, true].doubleElements())\n                          ^\n\n<Cell 55>:1:1: note: where 'Element' = 'Bool'\nextension Array where Element : Numeric {\n^\n\n"
          ]
        }
      ]
    },
    {
      "cell_type": "markdown",
      "metadata": {
        "id": "Vv8yvRx10fD1",
        "colab_type": "text"
      },
      "source": [
        "\n",
        "\n",
        "If you are curious about Array please dive into the code in the standard library. It is all written in Swift, but uses somewhat more advanced features than we've introduced so far. For example, you can see how it implements subscripting of an element.\n",
        "\n",
        "If you're interested in diving into other things, Dictionary and Set are also interesting and have some massive doc comments explaining how they work.\n",
        "\n",
        "Now that we have seen how Float and Arrays are defined, we're allowed to use them - so we can define a matmul! Onward to 01_matmul.\n"
      ]
    }
  ]
}