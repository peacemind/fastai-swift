{
  "nbformat": 4,
  "nbformat_minor": 0,
  "metadata": {
    "colab": {
      "name": "fastai-les14-08a-heterogeneous-dictionary.ipynb",
      "version": "0.3.2",
      "provenance": [],
      "collapsed_sections": []
    },
    "kernelspec": {
      "name": "swift",
      "display_name": "Swift"
    },
    "accelerator": "GPU"
  },
  "cells": [
    {
      "cell_type": "code",
      "metadata": {
        "id": "kZRlD4utdPuX",
        "colab_type": "code",
        "colab": {
          "base_uri": "https://localhost:8080/",
          "height": 513
        },
        "outputId": "cced188c-b334-4b0a-f5ed-d746d51f2483"
      },
      "source": [
        "%install-location $cwd/swift-install\n",
        "%install '.package(path: \"$cwd/FastaiNotebook_08_data_block\")' FastaiNotebook_08_data_block"
      ],
      "execution_count": 1,
      "outputs": [
        {
          "output_type": "stream",
          "text": [
            "Installing packages:\n",
            "\t.package(path: \"/content/FastaiNotebook_08_data_block\")\n",
            "\t\tFastaiNotebook_08_data_block\n",
            "With SwiftPM flags: []\n",
            "Working in: /tmp/tmpsmfma1fs/swift-install\n",
            "Updating https://github.com/mxcl/Path.swift\n",
            "Updating https://github.com/saeta/Just\n",
            "Updating https://github.com/latenitesoft/NotebookExport\n",
            "Completed resolution in 3.44s\n",
            "[1/13] Compiling FastaiNotebook_08_data_block 00_load_data.swift\n",
            "[2/13] Compiling FastaiNotebook_08_data_block 01_matmul.swift\n",
            "[3/13] Compiling FastaiNotebook_08_data_block 01a_fastai_layers.swift\n",
            "[4/13] Compiling FastaiNotebook_08_data_block 02_fully_connected.swift\n",
            "[5/13] Compiling FastaiNotebook_08_data_block 02a_why_sqrt5.swift\n",
            "[6/13] Compiling FastaiNotebook_08_data_block 03_minibatch_training.swift\n",
            "[7/13] Compiling FastaiNotebook_08_data_block 04_callbacks.swift\n",
            "[8/13] Compiling FastaiNotebook_08_data_block 05_anneal.swift\n",
            "[9/13] Compiling FastaiNotebook_08_data_block 05b_early_stopping.swift\n",
            "[10/13] Compiling FastaiNotebook_08_data_block 06_cuda.swift\n",
            "[11/13] Compiling FastaiNotebook_08_data_block 07_batchnorm.swift\n",
            "[12/13] Compiling FastaiNotebook_08_data_block 08_data_block.swift\n",
            "[13/14] Merging module FastaiNotebook_08_data_block\n",
            "[14/15] Compiling jupyterInstalledPackages jupyterInstalledPackages.swift\n",
            "[15/16] Merging module jupyterInstalledPackages\n",
            "[16/16] Linking libjupyterInstalledPackages.so\n",
            "Initializing Swift...\n",
            "Installation complete!\n"
          ],
          "name": "stdout"
        }
      ]
    },
    {
      "cell_type": "code",
      "metadata": {
        "id": "0oqrOuDb0ngc",
        "colab_type": "code",
        "colab": {}
      },
      "source": [
        "//export\n",
        "import Path"
      ],
      "execution_count": 0,
      "outputs": []
    },
    {
      "cell_type": "code",
      "metadata": {
        "id": "FgXkZRzs0tAb",
        "colab_type": "code",
        "colab": {}
      },
      "source": [
        "import FastaiNotebook_08_data_block"
      ],
      "execution_count": 0,
      "outputs": []
    },
    {
      "cell_type": "code",
      "metadata": {
        "id": "3tIZII2y8HQo",
        "colab_type": "code",
        "colab": {}
      },
      "source": [
        "// export\n",
        "public protocol HetDictKey {\n",
        "    associatedtype ValueType\n",
        "    static var defaultValue: ValueType { get }\n",
        "}"
      ],
      "execution_count": 0,
      "outputs": []
    },
    {
      "cell_type": "code",
      "metadata": {
        "id": "8vfYbKxa8JJG",
        "colab_type": "code",
        "colab": {}
      },
      "source": [
        "// export\n",
        "\n",
        "public struct HeterogeneousDictionary {\n",
        "    private var underlying: [ObjectIdentifier : Any] = [:]\n",
        "    \n",
        "    public init() {}\n",
        "    public init<T: HetDictKey>(_ key: T.Type, _ value: T.ValueType) {\n",
        "        self.underlying = [ObjectIdentifier(key): value]\n",
        "    }\n",
        "    public init<T1: HetDictKey, T2: HetDictKey>(_ key1: T1.Type, _ value1: T1.ValueType, _ key2: T2.Type, _ value2: T2.ValueType) {\n",
        "        self.underlying = [ObjectIdentifier(key1): value1, ObjectIdentifier(key2): value2]\n",
        "    }\n",
        "\n",
        "    public subscript<T: HetDictKey>(key: T.Type) -> T.ValueType {\n",
        "        get { return underlying[ObjectIdentifier(key), default: T.defaultValue] as! T.ValueType }\n",
        "        set { underlying[ObjectIdentifier(key)] = newValue as Any }\n",
        "    }\n",
        "    \n",
        "    public mutating func merge(_ other: HeterogeneousDictionary,\n",
        "        uniquingKeysWith combine: (Any, Any) throws -> Any) rethrows {\n",
        "        try self.underlying.merge(other.underlying, uniquingKeysWith: combine)\n",
        "    }\n",
        "}"
      ],
      "execution_count": 0,
      "outputs": []
    },
    {
      "cell_type": "code",
      "metadata": {
        "id": "JlRP_IAX8L04",
        "colab_type": "code",
        "colab": {}
      },
      "source": [
        "// export\n",
        "// Common keys\n",
        "public struct LearningRate: HetDictKey {\n",
        "    public static var defaultValue: Float = 0.4\n",
        "}"
      ],
      "execution_count": 0,
      "outputs": []
    },
    {
      "cell_type": "code",
      "metadata": {
        "id": "GA3hs3Ix8Nxv",
        "colab_type": "code",
        "colab": {}
      },
      "source": [
        "public struct StepCount: HetDictKey {\n",
        "    public static var defaultValue = 0\n",
        "}"
      ],
      "execution_count": 0,
      "outputs": []
    },
    {
      "cell_type": "code",
      "metadata": {
        "id": "eDLEvr8l8P_8",
        "colab_type": "code",
        "colab": {}
      },
      "source": [
        "// Sample usage\n",
        "var m = HeterogeneousDictionary()"
      ],
      "execution_count": 0,
      "outputs": []
    },
    {
      "cell_type": "code",
      "metadata": {
        "id": "G2mzaJAf8R2m",
        "colab_type": "code",
        "colab": {
          "base_uri": "https://localhost:8080/",
          "height": 90
        },
        "outputId": "53644372-f02e-4c64-a84c-888c311f5e1a"
      },
      "source": [
        "print(m[LearningRate.self])\n",
        "m[LearningRate.self] = 3.4\n",
        "print(m[LearningRate.self])\n",
        "\n",
        "print(m[StepCount.self])\n",
        "m[StepCount.self] = 3\n",
        "print(m[StepCount.self])"
      ],
      "execution_count": 9,
      "outputs": [
        {
          "output_type": "stream",
          "text": [
            "0.4\r\n",
            "3.4\r\n",
            "0\r\n",
            "3\r\n"
          ],
          "name": "stdout"
        }
      ]
    },
    {
      "cell_type": "code",
      "metadata": {
        "id": "OA7o5oZg8Tdt",
        "colab_type": "code",
        "colab": {
          "base_uri": "https://localhost:8080/",
          "height": 54
        },
        "outputId": "d75f866c-c3a7-407a-e4eb-31ad6be2d035"
      },
      "source": [
        "print(type(of: m[StepCount.self]))\n",
        "print(type(of: m[LearningRate.self]))"
      ],
      "execution_count": 10,
      "outputs": [
        {
          "output_type": "stream",
          "text": [
            "Int\r\n",
            "Float\r\n"
          ],
          "name": "stdout"
        }
      ]
    },
    {
      "cell_type": "markdown",
      "metadata": {
        "id": "xWizCaJs8Wmd",
        "colab_type": "text"
      },
      "source": [
        "Export"
      ]
    },
    {
      "cell_type": "code",
      "metadata": {
        "id": "aBrWnfCN8Voo",
        "colab_type": "code",
        "colab": {
          "base_uri": "https://localhost:8080/",
          "height": 35
        },
        "outputId": "f53e1037-6c9a-42bf-c38e-922eb21c1752"
      },
      "source": [
        "import NotebookExport\n",
        "let exporter = NotebookExport(Path.cwd/\"08a_heterogeneous_dictionary.ipynb\")\n",
        "print(exporter.export(usingPrefix: \"FastaiNotebook_\"))"
      ],
      "execution_count": 11,
      "outputs": [
        {
          "output_type": "stream",
          "text": [
            "success\r\n"
          ],
          "name": "stdout"
        }
      ]
    },
    {
      "cell_type": "code",
      "metadata": {
        "id": "Ou1mufog8ZiQ",
        "colab_type": "code",
        "colab": {}
      },
      "source": [
        ""
      ],
      "execution_count": 0,
      "outputs": []
    }
  ]
}