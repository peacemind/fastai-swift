{
  "nbformat": 4,
  "nbformat_minor": 0,
  "metadata": {
    "colab": {
      "name": "fastai-les14-09-optimizer.ipynb",
      "version": "0.3.2",
      "provenance": [],
      "collapsed_sections": []
    },
    "kernelspec": {
      "name": "swift",
      "display_name": "Swift"
    },
    "accelerator": "GPU"
  },
  "cells": [
    {
      "cell_type": "markdown",
      "metadata": {
        "id": "TCjETEOl4DJm",
        "colab_type": "text"
      },
      "source": [
        "Data block foundations, in Swifty/functional style"
      ]
    },
    {
      "cell_type": "code",
      "metadata": {
        "id": "kZRlD4utdPuX",
        "colab_type": "code",
        "colab": {
          "base_uri": "https://localhost:8080/",
          "height": 182
        },
        "outputId": "b4f6034a-9c62-474a-9932-cb74fdb73960"
      },
      "source": [
        "%install-location $cwd/swift-install\n",
        "%install '.package(path: \"$cwd/FastaiNotebook_08a_heterogeneous_dictionary\")' FastaiNotebook_08a_heterogeneous_dictionary"
      ],
      "execution_count": 1,
      "outputs": [
        {
          "output_type": "stream",
          "text": [
            "Installing packages:\n",
            "\t.package(path: \"/content/FastaiNotebook_08a_heterogeneous_dictionary\")\n",
            "\t\tFastaiNotebook_08a_heterogeneous_dictionary\n",
            "With SwiftPM flags: []\n",
            "Working in: /tmp/tmpsawhcv8k/swift-install\n",
            "[1/2] Compiling jupyterInstalledPackages jupyterInstalledPackages.swift\n",
            "[2/3] Merging module jupyterInstalledPackages\n",
            "Initializing Swift...\n",
            "Installation complete!\n"
          ],
          "name": "stdout"
        }
      ]
    },
    {
      "cell_type": "code",
      "metadata": {
        "id": "R7tqtD4G5GBb",
        "colab_type": "code",
        "colab": {}
      },
      "source": [
        "// export\n",
        "import Path\n",
        "import TensorFlow"
      ],
      "execution_count": 0,
      "outputs": []
    },
    {
      "cell_type": "code",
      "metadata": {
        "id": "E2_EfSNy5Itm",
        "colab_type": "code",
        "colab": {}
      },
      "source": [
        "import FastaiNotebook_08a_heterogeneous_dictionary"
      ],
      "execution_count": 0,
      "outputs": []
    },
    {
      "cell_type": "code",
      "metadata": {
        "id": "HdWjdJHd5OLm",
        "colab_type": "code",
        "colab": {
          "base_uri": "https://localhost:8080/",
          "height": 35
        },
        "outputId": "29571bbd-7cbf-4121-acdc-d540ac7f35f7"
      },
      "source": [
        "%include \"EnableIPythonDisplay.swift\"\n",
        "IPythonDisplay.shell.enable_matplotlib(\"inline\")"
      ],
      "execution_count": 4,
      "outputs": [
        {
          "output_type": "execute_result",
          "data": {
            "text/plain": [
              "('inline', 'module://ipykernel.pylab.backend_inline')\n"
            ]
          },
          "metadata": {
            "tags": []
          },
          "execution_count": 4
        }
      ]
    },
    {
      "cell_type": "markdown",
      "metadata": {
        "id": "S3cCgDXi5Uc_",
        "colab_type": "text"
      },
      "source": [
        "Load data"
      ]
    },
    {
      "cell_type": "code",
      "metadata": {
        "id": "XmyqLdza5SLe",
        "colab_type": "code",
        "colab": {}
      },
      "source": [
        "let path = downloadImagenette()"
      ],
      "execution_count": 0,
      "outputs": []
    },
    {
      "cell_type": "code",
      "metadata": {
        "id": "h8-V5MKP5Z3r",
        "colab_type": "code",
        "colab": {}
      },
      "source": [
        "let il = ItemList(fromFolder: path, extensions: [\"jpeg\", \"jpg\"])\n",
        "let sd = SplitData(il, fromFunc: {grandParentSplitter(fName: $0, valid: \"val\")})\n",
        "var procLabel = CategoryProcessor()\n",
        "let sld = makeLabeledData(sd, fromFunc: parentLabeler, procLabel: &procLabel)\n",
        "let rawData = sld.toDataBunch(itemToTensor: pathsToTensor, labelToTensor: intsToTensor)\n",
        "let data = transformData(rawData, tfmItem: { openAndResize(fname: $0, size: 128) })"
      ],
      "execution_count": 0,
      "outputs": []
    },
    {
      "cell_type": "code",
      "metadata": {
        "id": "pjkKt3vp5fbt",
        "colab_type": "code",
        "colab": {}
      },
      "source": [
        "func modelInit() -> CNNModel { return CNNModel(channelIn: 3, nOut: 10, filters: [64, 64, 128, 256]) }"
      ],
      "execution_count": 0,
      "outputs": []
    },
    {
      "cell_type": "markdown",
      "metadata": {
        "id": "DpaMf7IC9ZUh",
        "colab_type": "text"
      },
      "source": [
        "\n",
        "Stateful optimizer\n",
        "\n",
        "Before we begin, we create this structure to contain the names of our hyper-parameters. This will give us some tab completion and typo-proof way of handling them.\n"
      ]
    },
    {
      "cell_type": "code",
      "metadata": {
        "id": "hD2EwXFj9RcD",
        "colab_type": "code",
        "colab": {}
      },
      "source": [
        "//export\n",
        "public struct HyperParams {\n",
        "    public static let lr = \"learningRate\"\n",
        "}"
      ],
      "execution_count": 0,
      "outputs": []
    },
    {
      "cell_type": "markdown",
      "metadata": {
        "id": "yQ2PquXC9f20",
        "colab_type": "text"
      },
      "source": [
        "\n",
        "\n",
        "Like in the python version, we create statDelegates that will be responsible for computing/updating statistics in the state (like the moving average of gradients) and stepDelegates that will be responsible for performing a part of the update of the weights.\n",
        "\n",
        "In PyTorch we created a basic class with functions that needed to be implemented. In swift this is what protocols are for.\n"
      ]
    },
    {
      "cell_type": "code",
      "metadata": {
        "id": "YO7hfxKv9eE2",
        "colab_type": "code",
        "colab": {}
      },
      "source": [
        "//export\n",
        "public protocol StatDelegate {\n",
        "    var name: String {get}\n",
        "    var defaultHPs: [String:Float] {get}\n",
        "    \n",
        "    func update(_ state: inout [String:TF], p: TF, 𝛁p: TF, hps: inout [String:Float])\n",
        "}\n",
        "\n",
        "public protocol StepDelegate {\n",
        "    var defaultHPs: [String:Float] {get}\n",
        "    \n",
        "    func update(_ p: inout TF, 𝛁p: inout TF, state: [String:TF], hps: inout [String:Float])\n",
        "}"
      ],
      "execution_count": 0,
      "outputs": []
    },
    {
      "cell_type": "markdown",
      "metadata": {
        "id": "FGLLxoYk9zFp",
        "colab_type": "text"
      },
      "source": [
        "Those are helper functions to merge dictionaries that we'll use in the StatefulOptimizer."
      ]
    },
    {
      "cell_type": "code",
      "metadata": {
        "id": "iqGKmNE89xIX",
        "colab_type": "code",
        "colab": {}
      },
      "source": [
        "//export\n",
        "public func mergeDicts(_ dicts: inout [[String:Float]], with newDict: [String:Float]) {\n",
        "    for i in dicts.indices { \n",
        "        dicts[i].merge(newDict) { (_, new) in new } \n",
        "    }\n",
        "}\n",
        "\n",
        "public func mergeDicts(_ dicts: inout [[String:Float]], with newDicts: [[String:Float]]) {\n",
        "    for i in dicts.indices { \n",
        "        dicts[i].merge(newDicts[i]) { (_, new) in new } \n",
        "    }\n",
        "}"
      ],
      "execution_count": 0,
      "outputs": []
    },
    {
      "cell_type": "markdown",
      "metadata": {
        "id": "1tIn-PM0-IiG",
        "colab_type": "text"
      },
      "source": [
        "Those two extensions are there to initialize dicts easily."
      ]
    },
    {
      "cell_type": "code",
      "metadata": {
        "id": "U_HPnbI_92Cn",
        "colab_type": "code",
        "colab": {}
      },
      "source": [
        "//export\n",
        "extension Dictionary where Value == Int{\n",
        "    public init(mapFromArrays arrays: [[Key]]){\n",
        "        self.init(uniqueKeysWithValues: arrays.enumerated().flatMap { i, arr in arr.map { ($0, i) } })\n",
        "    }\n",
        "}\n",
        "\n",
        "extension Dictionary {\n",
        "    public init(constant: Value, keys: [Key]){\n",
        "        self.init(uniqueKeysWithValues: keys.map { ($0, constant) })\n",
        "    }\n",
        "}"
      ],
      "execution_count": 0,
      "outputs": []
    },
    {
      "cell_type": "markdown",
      "metadata": {
        "id": "VdtRnS4N-YaN",
        "colab_type": "text"
      },
      "source": [
        "This is the initial state of our StatefulOptimizer. It's a dictionary keyPath (see below) to dictionary that maps names to tensor of floats."
      ]
    },
    {
      "cell_type": "code",
      "metadata": {
        "id": "lqTvHiMR-MXu",
        "colab_type": "code",
        "colab": {}
      },
      "source": [
        "//export\n",
        "public func initState<Model: Layer>(for model: Model, names: [String]) \n",
        "-> [WritableKeyPath<Model.AllDifferentiableVariables, TF>: [String:TF]] {\n",
        "    return [WritableKeyPath<Model.AllDifferentiableVariables, TF>: [String:TF]](\n",
        "        constant: [String: TF](constant: TF(0), keys: names),\n",
        "        keys: model.variables.keyPaths)\n",
        "}"
      ],
      "execution_count": 0,
      "outputs": []
    },
    {
      "cell_type": "markdown",
      "metadata": {
        "id": "fvrGNz7y-hYT",
        "colab_type": "text"
      },
      "source": [
        "\n",
        "\n",
        "And we can define the main StatefulOptimizer. It takes a model, hyperparameters for each parameter group, some steppers and stats and a splitArray that defines our different parameter groups.\n",
        "\n",
        "To understand how this work, you need to know a little bit about keyPaths. This is a tool in swift to access any elements in a nested structure like our models: one model typically has a few attributes that are modules which in turn contain other modules and so forth until we reach the primitives layers like Conv2d or Dense. KeyPaths will allow us to index in that nested structure the objects of a particular type.\n",
        "\n",
        "For instance, the shortcut keyPaths you can apply to any Layer will find all the tensors of floats. If we apply it to a Model.AllDifferentiableVariables object, we will find all the parameters of the model (since model.allDifferentiableVariables only contain the trainable parameters).\n",
        "\n",
        "That's why the inner loop of our StatefulOptimizer is over variables.keyPaths. The same keyPath index will give us the gradients. Then we create a state to be a dictionary of such keyPaths to [String:TF] and the splitArray we provide is an array of different keyPaths (each giving us a parameter group) from which we build a splitDict that maps our keyPaths to the index of the corresponding group.\n"
      ]
    },
    {
      "cell_type": "code",
      "metadata": {
        "id": "9oG7luqc-aye",
        "colab_type": "code",
        "colab": {}
      },
      "source": [
        "//export\n",
        "public class StatefulOptimizer<Model: Layer>\n",
        "    where Model.AllDifferentiableVariables == Model.TangentVector {\n",
        "    public typealias ModelKeyPath = WritableKeyPath<Model.AllDifferentiableVariables, TF>\n",
        "    public typealias SplitDict = [ModelKeyPath: Int]\n",
        "    public var hpGroups: [[String:Float]]\n",
        "    public var splitDict: SplitDict\n",
        "    public var states: [ModelKeyPath: [String: TF]]\n",
        "    public var stats: [StatDelegate]\n",
        "    public var steppers: [StepDelegate]\n",
        "    public init(        \n",
        "        for model: __shared Model,\n",
        "        steppers: [StepDelegate],\n",
        "        stats: [StatDelegate],\n",
        "        hpGroups: [[String:Float]],\n",
        "        splitArray: [[ModelKeyPath]]\n",
        "    ) {\n",
        "        self.hpGroups = Array(repeating: [:], count: hpGroups.count)\n",
        "        (self.steppers,self.stats) = (steppers,stats)\n",
        "        self.splitDict = SplitDict(mapFromArrays: splitArray)\n",
        "        states = [:]\n",
        "        steppers.forEach { mergeDicts(&self.hpGroups, with: $0.defaultHPs) }\n",
        "        stats.forEach    { mergeDicts(&self.hpGroups, with: $0.defaultHPs) }\n",
        "        states = initState(for: model, names: stats.map { $0.name })\n",
        "        mergeDicts(&self.hpGroups, with: hpGroups)\n",
        "    }\n",
        "        \n",
        "    public func update(\n",
        "        _ variables: inout Model.AllDifferentiableVariables,\n",
        "        along direction: Model.TangentVector\n",
        "    ) {\n",
        "        for kp in variables.keyPaths {\n",
        "            var 𝛁p = direction[keyPath: kp]\n",
        "            var hps = hpGroups[splitDict[kp]!]\n",
        "            stats.forEach() { $0.update(&states[kp]!, p: variables[keyPath: kp], 𝛁p: 𝛁p, hps: &hps) }\n",
        "            steppers.forEach() { $0.update(&variables[keyPath: kp], 𝛁p: &𝛁p, state: states[kp]!, hps: &hps) }\n",
        "            hpGroups[splitDict[kp]!] = hps\n",
        "        }\n",
        "    }\n",
        "}"
      ],
      "execution_count": 0,
      "outputs": []
    },
    {
      "cell_type": "markdown",
      "metadata": {
        "id": "t4ZFEG1O-7mC",
        "colab_type": "text"
      },
      "source": [
        "To make StatefulOptimizer conform to the Optimizer protocol, we need to add a learningRate property."
      ]
    },
    {
      "cell_type": "code",
      "metadata": {
        "id": "TqTlXcyT-6gV",
        "colab_type": "code",
        "colab": {}
      },
      "source": [
        "//export\n",
        "extension StatefulOptimizer: Optimizer{\n",
        "    public var learningRate: Float {\n",
        "        get { return hpGroups.last![HyperParams.lr]! } \n",
        "        set { \n",
        "            for i in hpGroups.indices {self.hpGroups[i][HyperParams.lr] = newValue }\n",
        "        }\n",
        "    }\n",
        "    //For discriminative learning rates\n",
        "    public var learningRates: [Float] {\n",
        "        get { return hpGroups.map { $0[HyperParams.lr]! } }\n",
        "        set { \n",
        "            for i in hpGroups.indices {self.hpGroups[i][HyperParams.lr] = newValue[i] } \n",
        "        }\n",
        "    }\n",
        "}"
      ],
      "execution_count": 0,
      "outputs": []
    },
    {
      "cell_type": "markdown",
      "metadata": {
        "id": "G4jzuJLh_AtL",
        "colab_type": "text"
      },
      "source": [
        "When we don't have any parameter groups, we just use one with all the keyPaths. This convenience init automatically does that for us."
      ]
    },
    {
      "cell_type": "code",
      "metadata": {
        "id": "By_IbIl7-_os",
        "colab_type": "code",
        "colab": {}
      },
      "source": [
        "//export\n",
        "extension StatefulOptimizer{\n",
        "    public convenience init (for model: __shared Model,\n",
        "                             steppers: [StepDelegate],\n",
        "                             stats: [StatDelegate],\n",
        "                             hps: [String:Float]) {\n",
        "        self.init(for: model,\n",
        "                  steppers: steppers,\n",
        "                  stats: stats,\n",
        "                  hpGroups: [hps],\n",
        "                  splitArray: [model.variables.keyPaths])\n",
        "    }\n",
        "}"
      ],
      "execution_count": 0,
      "outputs": []
    },
    {
      "cell_type": "markdown",
      "metadata": {
        "id": "Ow9dPYjY_MQp",
        "colab_type": "text"
      },
      "source": [
        "We are now ready to define steppers and stats. Let's begin with basic SGD:"
      ]
    },
    {
      "cell_type": "code",
      "metadata": {
        "id": "syCapxfE_Hm2",
        "colab_type": "code",
        "colab": {}
      },
      "source": [
        "//export\n",
        "public struct SGDStep: StepDelegate {\n",
        "    public var defaultHPs: [String: Float] { return [HyperParams.lr: 3e-3] }\n",
        "    public init() {}\n",
        "    public func update(_ p: inout TF, 𝛁p: inout TF, state: [String:TF], hps: inout [String:Float]) {\n",
        "        p -= 𝛁p * hps[HyperParams.lr]!\n",
        "    }\n",
        "}"
      ],
      "execution_count": 0,
      "outputs": []
    },
    {
      "cell_type": "markdown",
      "metadata": {
        "id": "WKF6VIP8_VTr",
        "colab_type": "text"
      },
      "source": [
        "\n",
        "We can check all is working and train:"
      ]
    },
    {
      "cell_type": "code",
      "metadata": {
        "id": "X0l82jIj_TRk",
        "colab_type": "code",
        "colab": {}
      },
      "source": [
        "var hps: [String:Float] = [HyperParams.lr: 0.01]\n",
        "func optFunc(_ model: CNNModel) -> StatefulOptimizer<CNNModel> {\n",
        "    return StatefulOptimizer(for: model, steppers: [SGDStep()], stats: [], hps: hps)\n",
        "}"
      ],
      "execution_count": 0,
      "outputs": []
    },
    {
      "cell_type": "code",
      "metadata": {
        "id": "jdridumy_YgT",
        "colab_type": "code",
        "colab": {}
      },
      "source": [
        "var learner = Learner(data: data, lossFunc: softmaxCrossEntropy, optFunc: optFunc, modelInit: modelInit)\n",
        "var recorder = learner.makeDefaultDelegates(metrics: [accuracy])\n",
        "learner.delegates.append(learner.makeNormalize(mean: mnistStats.mean, std: mnistStats.std))"
      ],
      "execution_count": 0,
      "outputs": []
    },
    {
      "cell_type": "code",
      "metadata": {
        "id": "4lIvFyQY_a59",
        "colab_type": "code",
        "colab": {
          "base_uri": "https://localhost:8080/",
          "height": 35
        },
        "outputId": "053e99f3-0bc5-4ec6-b367-4ec896ccf90e"
      },
      "source": [
        "learner.fit(1)"
      ],
      "execution_count": 19,
      "outputs": [
        {
          "output_type": "stream",
          "text": [
            "Epoch 0: [1.8049371, 0.37]\n"
          ],
          "name": "stdout"
        }
      ]
    },
    {
      "cell_type": "markdown",
      "metadata": {
        "id": "N8Sdw86H_dyg",
        "colab_type": "text"
      },
      "source": [
        "Then we can add weight decay and L2 regularization."
      ]
    },
    {
      "cell_type": "code",
      "metadata": {
        "id": "SqlX80CH_dJi",
        "colab_type": "code",
        "colab": {}
      },
      "source": [
        "//export\n",
        "public extension HyperParams {\n",
        "    static let wd = \"weightDecay\"\n",
        "}\n",
        "\n",
        "public struct WeightDecay: StepDelegate {\n",
        "    public var defaultHPs: [String: Float] { return [HyperParams.wd: 0] }\n",
        "    public init() {}\n",
        "    public func update(_ p: inout TF, 𝛁p: inout TF, state: [String:TF], hps: inout [String:Float]) {\n",
        "        p *= 1 - hps[HyperParams.lr]! * hps[HyperParams.wd]!\n",
        "    }\n",
        "}"
      ],
      "execution_count": 0,
      "outputs": []
    },
    {
      "cell_type": "code",
      "metadata": {
        "id": "6CDxmZ83_kXX",
        "colab_type": "code",
        "colab": {}
      },
      "source": [
        "//export\n",
        "public struct L2Regularization: StepDelegate {\n",
        "    public var defaultHPs: [String: Float] { return [HyperParams.wd: 0] }\n",
        "    public init() {}\n",
        "    public func update(_ p: inout TF, 𝛁p: inout TF, state: [String:TF], hps: inout [String:Float]) {\n",
        "        𝛁p += hps[HyperParams.wd]! * p\n",
        "    }\n",
        "}"
      ],
      "execution_count": 0,
      "outputs": []
    },
    {
      "cell_type": "markdown",
      "metadata": {
        "id": "x5tw6Ij1Esmn",
        "colab_type": "text"
      },
      "source": [
        "The next step is SGD with momentum. For this we need a statistic that keeps track of the moving average of the gradients."
      ]
    },
    {
      "cell_type": "code",
      "metadata": {
        "id": "utbbuN_mEt0x",
        "colab_type": "code",
        "colab": {}
      },
      "source": [
        "//export\n",
        "//Expandable enum to have tab completes/typo-proof for state variable names.\n",
        "public struct StateKeys {\n",
        "    public static let avgGrad = \"averageGrad\"\n",
        "}"
      ],
      "execution_count": 0,
      "outputs": []
    },
    {
      "cell_type": "code",
      "metadata": {
        "id": "BxCLQna0Ez3u",
        "colab_type": "code",
        "colab": {}
      },
      "source": [
        "//export\n",
        "public extension HyperParams {\n",
        "    static let mom = \"momentum\"\n",
        "    static let momDamp = \"dampening\"\n",
        "}\n",
        "\n",
        "public struct AverageGrad: StatDelegate {\n",
        "    public var defaultHPs: [String: Float] { return [HyperParams.mom: 0.9] }\n",
        "    public let dampened: Bool\n",
        "    public init(dampened: Bool = false) { self.dampened = dampened }\n",
        "    public var name: String { return StateKeys.avgGrad }\n",
        "    public func update(_ state: inout [String: TF], p: TF, 𝛁p: TF, hps: inout [String:Float]) {\n",
        "        state[StateKeys.avgGrad]! *= hps[HyperParams.mom]!\n",
        "        hps[HyperParams.momDamp] = 1.0 - (dampened ? hps[HyperParams.mom]! : 0.0)\n",
        "        state[StateKeys.avgGrad]! += hps[HyperParams.momDamp]! * 𝛁p\n",
        "    }\n",
        "}"
      ],
      "execution_count": 0,
      "outputs": []
    },
    {
      "cell_type": "code",
      "metadata": {
        "id": "bmeSRVO_E2zR",
        "colab_type": "code",
        "colab": {}
      },
      "source": [
        "//export\n",
        "public struct MomentumStep: StepDelegate {\n",
        "    public var defaultHPs: [String: Float] = [:]\n",
        "    public init() {}\n",
        "    public func update(_ p: inout TF, 𝛁p: inout TF, state: [String: TF], hps: inout [String:Float]) {\n",
        "        p -= state[StateKeys.avgGrad]! * hps[HyperParams.lr]!\n",
        "    }\n",
        "}"
      ],
      "execution_count": 0,
      "outputs": []
    },
    {
      "cell_type": "markdown",
      "metadata": {
        "id": "p8HAVVsnE9cD",
        "colab_type": "text"
      },
      "source": [
        "And we can check it trains properly."
      ]
    },
    {
      "cell_type": "code",
      "metadata": {
        "id": "xi-6bkMDE6Iq",
        "colab_type": "code",
        "colab": {}
      },
      "source": [
        "let hps: [String:Float] = [HyperParams.lr: 0.01]\n",
        "func optFunc(_ model: CNNModel) -> StatefulOptimizer<CNNModel> {\n",
        "    return StatefulOptimizer(for: model, steppers: [MomentumStep()], stats: [AverageGrad()], hps: hps)\n",
        "}"
      ],
      "execution_count": 0,
      "outputs": []
    },
    {
      "cell_type": "code",
      "metadata": {
        "id": "dsNh9iE1KMfw",
        "colab_type": "code",
        "colab": {}
      },
      "source": [
        "var learner = Learner(data: data, lossFunc: softmaxCrossEntropy, optFunc: optFunc, modelInit: modelInit)\n",
        "var recorder = learner.makeDefaultDelegates(metrics: [accuracy])\n",
        "learner.delegates.append(learner.makeNormalize(mean: mnistStats.mean, std: mnistStats.std))"
      ],
      "execution_count": 0,
      "outputs": []
    },
    {
      "cell_type": "code",
      "metadata": {
        "id": "Xs_yymSIKOSf",
        "colab_type": "code",
        "colab": {
          "base_uri": "https://localhost:8080/",
          "height": 35
        },
        "outputId": "f5abd673-e4b4-4629-926b-e482df686a8b"
      },
      "source": [
        "learner.fit(1)"
      ],
      "execution_count": 27,
      "outputs": [
        {
          "output_type": "stream",
          "text": [
            "Epoch 0: [1.2563779, 0.594]\n"
          ],
          "name": "stdout"
        }
      ]
    },
    {
      "cell_type": "markdown",
      "metadata": {
        "id": "e4rpVGQ3KSiu",
        "colab_type": "text"
      },
      "source": [
        "The hyper-parameters have taken the default values provided (except for learning rates)."
      ]
    },
    {
      "cell_type": "code",
      "metadata": {
        "id": "r46ADFBuKQtX",
        "colab_type": "code",
        "colab": {
          "base_uri": "https://localhost:8080/",
          "height": 201
        },
        "outputId": "e20ec871-394c-4ffe-9eec-8d7cdd3e9ae6"
      },
      "source": [
        "learner.opt.hpGroups[0]"
      ],
      "execution_count": 28,
      "outputs": [
        {
          "output_type": "execute_result",
          "data": {
            "text/plain": [
              "▿ 3 elements\n",
              "  ▿ 0 : 2 elements\n",
              "    - key : \"momentum\"\n",
              "    - value : 0.9\n",
              "  ▿ 1 : 2 elements\n",
              "    - key : \"learningRate\"\n",
              "    - value : 0.01\n",
              "  ▿ 2 : 2 elements\n",
              "    - key : \"dampening\"\n",
              "    - value : 1.0\n"
            ]
          },
          "metadata": {
            "tags": []
          },
          "execution_count": 28
        }
      ]
    },
    {
      "cell_type": "markdown",
      "metadata": {
        "id": "Ls8-3xO7KY9X",
        "colab_type": "text"
      },
      "source": [
        "The next step is Adam. For that we need to keep track of the averages of the gradients squared."
      ]
    },
    {
      "cell_type": "code",
      "metadata": {
        "id": "Un1-P9BjKaCi",
        "colab_type": "code",
        "colab": {}
      },
      "source": [
        "//export\n",
        "public extension HyperParams {\n",
        "    static let ²mom = \"momentumSquares\"\n",
        "    static let ²momDamp = \"dampeningSquares\"\n",
        "}\n",
        "\n",
        "public extension StateKeys {\n",
        "    static let avgSqr = \"averageSquaredGrad\"\n",
        "}\n",
        "\n",
        "public struct AverageSquaredGrad: StatDelegate {\n",
        "    let dampened: Bool\n",
        "    public init(dampened: Bool = true) { self.dampened = dampened }\n",
        "    public var name: String { return StateKeys.avgSqr }\n",
        "    public var defaultHPs: [String: Float] { return [HyperParams.²mom: 0.99] }\n",
        "    public func update(_ state: inout [String: TF], p: TF, 𝛁p: TF, hps: inout [String:Float]) {\n",
        "        state[StateKeys.avgSqr]! *= hps[HyperParams.²mom]!\n",
        "        hps[HyperParams.²momDamp] = 1.0 - (dampened ? hps[HyperParams.²mom]! : 0.0)\n",
        "        state[StateKeys.avgSqr]! += hps[HyperParams.²momDamp]! * 𝛁p.squared()\n",
        "    }\n",
        "}"
      ],
      "execution_count": 0,
      "outputs": []
    },
    {
      "cell_type": "markdown",
      "metadata": {
        "id": "Rc7LzMWcNsMt",
        "colab_type": "text"
      },
      "source": [
        "And we also need to keep track of the number of iterations we did."
      ]
    },
    {
      "cell_type": "code",
      "metadata": {
        "id": "CtF215jVNw0Y",
        "colab_type": "code",
        "colab": {}
      },
      "source": [
        "//export\n",
        "public extension StateKeys {\n",
        "    static let step = \"stepCount\"\n",
        "}\n",
        "\n",
        "public struct StepCount: StatDelegate {\n",
        "    public var name: String { return StateKeys.step }\n",
        "    public var defaultHPs: [String:Float] = [:]\n",
        "    public init() {}\n",
        "    public func update(_ state: inout [String: TF], p: TF, 𝛁p: TF, hps: inout [String:Float]) {\n",
        "        state[StateKeys.step]! += 1.0\n",
        "    }\n",
        "}"
      ],
      "execution_count": 0,
      "outputs": []
    },
    {
      "cell_type": "code",
      "metadata": {
        "id": "sD7GwrwoNyUb",
        "colab_type": "code",
        "colab": {}
      },
      "source": [
        "//export\n",
        "//public struct Epsilon: HetDictKey { public static var defaultValue: Float = 1e-5 }\n",
        "public extension HyperParams {\n",
        "    static let eps = \"epsilon\"\n",
        "}"
      ],
      "execution_count": 0,
      "outputs": []
    },
    {
      "cell_type": "code",
      "metadata": {
        "id": "xIiHG7aWN0ZV",
        "colab_type": "code",
        "colab": {}
      },
      "source": [
        "//export\n",
        "public struct AdamStep: StepDelegate {\n",
        "    public var defaultHPs: [String: Float] { return [HyperParams.eps: 1e-5] }\n",
        "    public init() {}\n",
        "    public func update(_ p: inout TF, 𝛁p: inout TF, state: [String: TF], hps: inout [String:Float]) {\n",
        "        let step = state[StateKeys.step]!\n",
        "        let (mom,damp) = (hps[HyperParams.mom]!,hps[HyperParams.momDamp]!)\n",
        "        let debias1 = damp * (1 - pow(mom, step)) / (1 - mom)\n",
        "        let num = debias1 * state[StateKeys.avgGrad]!\n",
        "        \n",
        "        let (²mom,²damp) = (hps[HyperParams.²mom]!,hps[HyperParams.²momDamp]!)\n",
        "        let debias2 = ²damp * (1 - pow(²mom, step)) / (1 - ²mom)\n",
        "        let denom = sqrt(state[StateKeys.avgSqr]!/debias2) + hps[HyperParams.eps]!\n",
        "        \n",
        "        p -= hps[HyperParams.lr]! * num / denom\n",
        "    }\n",
        "}"
      ],
      "execution_count": 0,
      "outputs": []
    },
    {
      "cell_type": "markdown",
      "metadata": {
        "id": "uppP6y0YN5Xr",
        "colab_type": "text"
      },
      "source": [
        "Again let's check it's all training properly."
      ]
    },
    {
      "cell_type": "code",
      "metadata": {
        "id": "a5SCqQLfN2Kr",
        "colab_type": "code",
        "colab": {}
      },
      "source": [
        "func optFunc(_ model: CNNModel) -> StatefulOptimizer<CNNModel> {\n",
        "    return StatefulOptimizer(\n",
        "        for: model,\n",
        "        steppers: [AdamStep()], \n",
        "        stats: [AverageGrad(dampened: true), AverageSquaredGrad(), StepCount()], \n",
        "        hps: [HyperParams.lr: 1e-3])\n",
        "}"
      ],
      "execution_count": 0,
      "outputs": []
    },
    {
      "cell_type": "code",
      "metadata": {
        "id": "Cmk8fm9_N7ts",
        "colab_type": "code",
        "colab": {}
      },
      "source": [
        "let learner = Learner(data: data, lossFunc: softmaxCrossEntropy, optFunc: optFunc, modelInit: modelInit)\n",
        "let recorder = learner.makeDefaultDelegates(metrics: [accuracy])\n",
        "learner.delegates.append(learner.makeNormalize(mean: mnistStats.mean, std: mnistStats.std))"
      ],
      "execution_count": 0,
      "outputs": []
    },
    {
      "cell_type": "code",
      "metadata": {
        "id": "-oJ9jxq2N9b0",
        "colab_type": "code",
        "colab": {
          "base_uri": "https://localhost:8080/",
          "height": 35
        },
        "outputId": "b560dd74-5449-4709-d843-cabc5f952e32"
      },
      "source": [
        "learner.fit(1)"
      ],
      "execution_count": 35,
      "outputs": [
        {
          "output_type": "stream",
          "text": [
            "Epoch 0: [1.2287602, 0.6]\n"
          ],
          "name": "stdout"
        }
      ]
    },
    {
      "cell_type": "markdown",
      "metadata": {
        "id": "-BcpJm8cOBsb",
        "colab_type": "text"
      },
      "source": [
        "We can also check the values of the hyper-parameters have been set properly."
      ]
    },
    {
      "cell_type": "code",
      "metadata": {
        "id": "SgdilFCkODZ3",
        "colab_type": "code",
        "colab": {
          "base_uri": "https://localhost:8080/",
          "height": 366
        },
        "outputId": "e29268bb-9dab-4746-eb39-9e141079b512"
      },
      "source": [
        "learner.opt.hpGroups[0]"
      ],
      "execution_count": 36,
      "outputs": [
        {
          "output_type": "execute_result",
          "data": {
            "text/plain": [
              "▿ 6 elements\n",
              "  ▿ 0 : 2 elements\n",
              "    - key : \"epsilon\"\n",
              "    - value : 1e-05\n",
              "  ▿ 1 : 2 elements\n",
              "    - key : \"learningRate\"\n",
              "    - value : 0.001\n",
              "  ▿ 2 : 2 elements\n",
              "    - key : \"dampening\"\n",
              "    - value : 0.100000024\n",
              "  ▿ 3 : 2 elements\n",
              "    - key : \"momentumSquares\"\n",
              "    - value : 0.99\n",
              "  ▿ 4 : 2 elements\n",
              "    - key : \"dampeningSquares\"\n",
              "    - value : 0.00999999\n",
              "  ▿ 5 : 2 elements\n",
              "    - key : \"momentum\"\n",
              "    - value : 0.9\n"
            ]
          },
          "metadata": {
            "tags": []
          },
          "execution_count": 36
        }
      ]
    },
    {
      "cell_type": "markdown",
      "metadata": {
        "id": "ZOhXQ4zuOF83",
        "colab_type": "text"
      },
      "source": [
        "Defining the Lamb optimizer is as easy as before."
      ]
    },
    {
      "cell_type": "code",
      "metadata": {
        "id": "wDQMbtYUOHjM",
        "colab_type": "code",
        "colab": {}
      },
      "source": [
        "public struct LambStep: StepDelegate {\n",
        "    public var defaultHPs: [String: Float] { return [HyperParams.eps: 1e-6, HyperParams.wd: 0.0] }\n",
        "    public func update(_ p: inout TF, 𝛁p: inout TF, state: [String: TF], hps: inout [String:Float]) {\n",
        "        let stepCount = state[StateKeys.step]!\n",
        "        let (mom,damp) = (hps[HyperParams.mom]!,hps[HyperParams.momDamp]!)\n",
        "        let debias1 = damp * (1 - pow(mom, stepCount)) / (1 - mom)\n",
        "        let num = debias1 * state[StateKeys.avgGrad]!\n",
        "        \n",
        "        let (²mom,²damp) = (hps[HyperParams.²mom]!,hps[HyperParams.²momDamp]!)\n",
        "        let debias2 = ²damp * (1 - pow(²mom, stepCount)) / (1 - ²mom)\n",
        "        let denom = sqrt(state[StateKeys.avgSqr]!/debias2) + hps[HyperParams.eps]!\n",
        "        \n",
        "        let step = num / denom + hps[HyperParams.wd]! * p\n",
        "        let r1 = sqrt((p * p).mean())\n",
        "        let r2 = sqrt((step * step).mean())\n",
        "        let factor = min(r1 / r2, Float(10.0))\n",
        "        p -= hps[HyperParams.lr]! * factor * step\n",
        "    }\n",
        "}"
      ],
      "execution_count": 0,
      "outputs": []
    },
    {
      "cell_type": "markdown",
      "metadata": {
        "id": "tFsJPOquQTyx",
        "colab_type": "text"
      },
      "source": [
        "\n",
        "Making convenience functions\n",
        "\n",
        "To easily create our optimizers, we have two convenience functions.\n"
      ]
    },
    {
      "cell_type": "code",
      "metadata": {
        "id": "6Wv9qcULQVwr",
        "colab_type": "code",
        "colab": {}
      },
      "source": [
        "// export\n",
        "public func sgdOpt<Model>(lr: Float, mom: Float = 0.9, wd: Float = 0.0, dampening: Bool = false\n",
        "                         ) -> ((Model) -> StatefulOptimizer<Model>) {\n",
        "    var steppers: [StepDelegate] = (mom != 0) ? [MomentumStep()] : [SGDStep()]\n",
        "    if wd != 0 { steppers.append(WeightDecay()) }\n",
        "    let stats = (mom != 0) ? [AverageGrad(dampened: dampening)] : []\n",
        "    var hps: [String: Float] = [HyperParams.lr: lr]\n",
        "    if mom != 0 { hps[HyperParams.mom] = mom }\n",
        "    if wd != 0  { hps[HyperParams.wd ] = wd  }\n",
        "    return {model in \n",
        "        return StatefulOptimizer(for: model, steppers: steppers, stats: stats, hps: hps)}\n",
        "}"
      ],
      "execution_count": 0,
      "outputs": []
    },
    {
      "cell_type": "code",
      "metadata": {
        "id": "XhlQYvleQYTO",
        "colab_type": "code",
        "colab": {}
      },
      "source": [
        "// export\n",
        "public func adamOpt<Model>(lr: Float, mom: Float = 0.9, beta: Float=0.99, wd: Float = 0.0, eps: Float = 1e-5\n",
        "                         ) -> ((Model) -> StatefulOptimizer<Model>) {\n",
        "    var steppers: [StepDelegate] = [AdamStep()]\n",
        "    if wd != 0 { steppers.append(WeightDecay()) }\n",
        "    let stats: [StatDelegate] = [AverageGrad(dampened: true), AverageSquaredGrad(), StepCount()]\n",
        "    var hps: [String: Float] = [HyperParams.lr: lr]\n",
        "    hps[HyperParams.mom] = mom\n",
        "    hps[HyperParams.²mom] = beta\n",
        "    hps[HyperParams.eps] = eps\n",
        "    if wd != 0  { hps[HyperParams.wd ] = wd  }\n",
        "    return {model in \n",
        "        return StatefulOptimizer(for: model, steppers: steppers, stats: stats, hps: hps)}\n",
        "}"
      ],
      "execution_count": 0,
      "outputs": []
    },
    {
      "cell_type": "markdown",
      "metadata": {
        "id": "9C_BZTEmQbwt",
        "colab_type": "text"
      },
      "source": [
        "\n",
        "Schedule the hyperparams\n",
        "\n",
        "The next thing is that we need to schedule our hyper-parameters. The following function allows us to schedule any of them, as long as they are present in the hpGroups dictionaries.\n"
      ]
    },
    {
      "cell_type": "code",
      "metadata": {
        "id": "1J2E7hzFQZ7d",
        "colab_type": "code",
        "colab": {}
      },
      "source": [
        "// export\n",
        "public extension StatefulOptimizer {\n",
        "    func setParam(_ hp: String, _ val: Float) {\n",
        "        for i in 0..<hpGroups.count { hpGroups[i][hp] = val }\n",
        "    }\n",
        "}"
      ],
      "execution_count": 0,
      "outputs": []
    },
    {
      "cell_type": "code",
      "metadata": {
        "id": "ZdOPcKGCQe59",
        "colab_type": "code",
        "colab": {}
      },
      "source": [
        "// export\n",
        "extension Learner where Opt.Scalar: BinaryFloatingPoint, \n",
        "    Opt.Model.AllDifferentiableVariables == Opt.Model.TangentVector{\n",
        "    public class ParamScheduler: Delegate {\n",
        "        public override var order: Int { return 1 }\n",
        "        public typealias ScheduleFunc = (Float) -> Float\n",
        "\n",
        "        // A learning rate schedule from step to float.\n",
        "        public var scheduler: ScheduleFunc\n",
        "        public let hp: String\n",
        "        \n",
        "        public init(scheduler: @escaping (Float) -> Float, hp: String) {\n",
        "            (self.scheduler,self.hp) = (scheduler,hp)\n",
        "        }\n",
        "        \n",
        "        override public func batchWillStart(learner: Learner) {\n",
        "            let val = scheduler(learner.pctEpochs/Float(learner.epochCount))\n",
        "            (learner.opt as! StatefulOptimizer<Opt.Model>).setParam(hp, val)\n",
        "        }\n",
        "    }\n",
        "    \n",
        "    public func makeParamScheduler(_ scheduler: @escaping (Float) -> Float, hp: String) -> ParamScheduler {\n",
        "        return ParamScheduler(scheduler: scheduler, hp: hp)\n",
        "    }\n",
        "}"
      ],
      "execution_count": 0,
      "outputs": []
    },
    {
      "cell_type": "markdown",
      "metadata": {
        "id": "DsSuLeGPQja9",
        "colab_type": "text"
      },
      "source": [
        "We can then define a helper function to schedule a 1cycle policy."
      ]
    },
    {
      "cell_type": "code",
      "metadata": {
        "id": "47B3PIz7Qhec",
        "colab_type": "code",
        "colab": {}
      },
      "source": [
        "// export \n",
        "public func oneCycleSchedulers(_ lrMax: Float, pctStart:Float=0.25, divStart: Float = 10, divEnd: Float = 1e5, \n",
        "                               moms: (Float,Float,Float) = (0.95,0.85,0.95)) \n",
        "-> ((Float) -> Float, (Float) -> Float){\n",
        "    let lrSched = combineSchedules(\n",
        "        pcts: [pctStart, 1-pctStart], \n",
        "        schedules: [makeAnnealer(start: lrMax/divStart, end: lrMax, schedule: cosineSchedule),\n",
        "                    makeAnnealer(start: lrMax, end: lrMax/divEnd, schedule: cosineSchedule)])\n",
        "    let momSched = combineSchedules(\n",
        "        pcts: [pctStart, 1-pctStart], \n",
        "        schedules: [makeAnnealer(start: moms.0, end: moms.1, schedule: cosineSchedule),\n",
        "                    makeAnnealer(start: moms.1, end: moms.2, schedule: cosineSchedule)])\n",
        "    return (lrSched, momSched)\n",
        "}"
      ],
      "execution_count": 0,
      "outputs": []
    },
    {
      "cell_type": "code",
      "metadata": {
        "id": "cBcWV6j1Ql1V",
        "colab_type": "code",
        "colab": {}
      },
      "source": [
        "// export\n",
        "extension Learner where Opt.Scalar: BinaryFloatingPoint, \n",
        "    Opt.Model.AllDifferentiableVariables == Opt.Model.TangentVector{\n",
        "\n",
        "    public func addOneCycleDelegates(_ lrMax: Float, pctStart:Float=0.25, divStart: Float = 10, divEnd: Float = 1e5, \n",
        "                               moms: (Float,Float,Float) = (0.95,0.85,0.95)) {\n",
        "        let scheds = oneCycleSchedulers(lrMax, pctStart: pctStart, divStart: divStart, divEnd: divEnd, moms: moms)\n",
        "        addDelegates([makeParamScheduler(scheds.0 , hp: HyperParams.lr), \n",
        "                      makeParamScheduler(scheds.1 , hp: HyperParams.mom)])\n",
        "    }\n",
        "}"
      ],
      "execution_count": 0,
      "outputs": []
    },
    {
      "cell_type": "markdown",
      "metadata": {
        "id": "xjJ2TUorQpH0",
        "colab_type": "text"
      },
      "source": [
        "And check it's all training properly."
      ]
    },
    {
      "cell_type": "code",
      "metadata": {
        "id": "DHqIkZzDQn-y",
        "colab_type": "code",
        "colab": {}
      },
      "source": [
        "let optFunc: (CNNModel) -> StatefulOptimizer<CNNModel> = adamOpt(lr: 1e-3, mom: 0.9, beta: 0.99, wd: 1e-2, eps: 1e-6)"
      ],
      "execution_count": 0,
      "outputs": []
    },
    {
      "cell_type": "code",
      "metadata": {
        "id": "Fj6fEqjOQu-3",
        "colab_type": "code",
        "colab": {}
      },
      "source": [
        "let learner = Learner(data: data, lossFunc: softmaxCrossEntropy, optFunc: optFunc, modelInit: modelInit)\n",
        "let recorder = learner.makeDefaultDelegates(metrics: [accuracy])\n",
        "learner.delegates.append(learner.makeNormalize(mean: mnistStats.mean, std: mnistStats.std))"
      ],
      "execution_count": 0,
      "outputs": []
    },
    {
      "cell_type": "code",
      "metadata": {
        "id": "mHPNlr1qQxBE",
        "colab_type": "code",
        "colab": {
          "base_uri": "https://localhost:8080/",
          "height": 35
        },
        "outputId": "88fcf936-32cc-4b8d-8747-abbfcffae7cf"
      },
      "source": [
        "learner.addOneCycleDelegates(1e-3)\n",
        "learner.fit(1)"
      ],
      "execution_count": 46,
      "outputs": [
        {
          "output_type": "stream",
          "text": [
            "Epoch 0: [1.2135706, 0.6]\n"
          ],
          "name": "stdout"
        }
      ]
    },
    {
      "cell_type": "code",
      "metadata": {
        "id": "AF52SOeUQycv",
        "colab_type": "code",
        "colab": {
          "base_uri": "https://localhost:8080/",
          "height": 283
        },
        "outputId": "34897734-813a-4c93-fd0a-807cd3c68922"
      },
      "source": [
        "recorder.plotLRs()"
      ],
      "execution_count": 47,
      "outputs": [
        {
          "output_type": "display_data",
          "data": {
            "image/png": "[encoded data removed]",
            "text/plain": [
              "<Figure size 432x288 with 1 Axes>"
            ]
          },
          "metadata": {
            "tags": []
          }
        }
      ]
    },
    {
      "cell_type": "markdown",
      "metadata": {
        "id": "dXaLcvpRQ2eP",
        "colab_type": "text"
      },
      "source": [
        "\n",
        "Differential learning rates\n",
        "\n",
        "To train at differential learning rates (or freeze part of the models) we need to pass to our optimizer arrays of KeyPaths (which will define our layer groups). For instance, we can begin with the firt 9 keyPaths (which corresponds to the first three ConvBNs):\n"
      ]
    },
    {
      "cell_type": "code",
      "metadata": {
        "id": "_q5lyM-SQ4Z2",
        "colab_type": "code",
        "colab": {}
      },
      "source": [
        "func modelInit() -> CNNModel { return CNNModel(channelIn: 3, nOut: 10, filters: [64, 64, 128, 256]) }"
      ],
      "execution_count": 0,
      "outputs": []
    },
    {
      "cell_type": "code",
      "metadata": {
        "id": "ijaU9tBbSzOg",
        "colab_type": "code",
        "colab": {}
      },
      "source": [
        "var model = modelInit()\n",
        "let splitArray = [Array(model.variables.keyPaths[0..<9]), Array(model.variables.keyPaths[9...])]"
      ],
      "execution_count": 0,
      "outputs": []
    },
    {
      "cell_type": "code",
      "metadata": {
        "id": "bnuIlBfPSzp7",
        "colab_type": "code",
        "colab": {}
      },
      "source": [
        "let hpGroups: [[String: Float]] = [[HyperParams.lr: 0], [HyperParams.lr: 0.1]]\n",
        "func optFunc(_ model: CNNModel) -> StatefulOptimizer<CNNModel> {\n",
        "    return StatefulOptimizer(for: model, steppers: [SGDStep()], stats: [], hpGroups: hpGroups, splitArray: splitArray)\n",
        "}"
      ],
      "execution_count": 0,
      "outputs": []
    },
    {
      "cell_type": "code",
      "metadata": {
        "id": "UAf5Pll6S1QL",
        "colab_type": "code",
        "colab": {}
      },
      "source": [
        "let learner = Learner(data: data, lossFunc: softmaxCrossEntropy, optFunc: optFunc, modelInit: modelInit)\n",
        "let recorder = learner.makeDefaultDelegates(metrics: [accuracy])\n",
        "learner.delegates.append(learner.makeNormalize(mean: mnistStats.mean, std: mnistStats.std))"
      ],
      "execution_count": 0,
      "outputs": []
    },
    {
      "cell_type": "markdown",
      "metadata": {
        "id": "9QwLCjEPS40V",
        "colab_type": "text"
      },
      "source": [
        "First parameter shouldn't change since the corresponding layer group as a LR of 0., second should."
      ]
    },
    {
      "cell_type": "code",
      "metadata": {
        "id": "dHCtY0k8S3A-",
        "colab_type": "code",
        "colab": {
          "base_uri": "https://localhost:8080/",
          "height": 35
        },
        "outputId": "0c9de861-79ea-454e-dcc4-1fe55f79a805"
      },
      "source": [
        "learner.model.convs[0].norm.scale"
      ],
      "execution_count": 52,
      "outputs": [
        {
          "output_type": "execute_result",
          "data": {
            "text/plain": [
              "[1.0, 1.0, 1.0, 1.0, 1.0, 1.0, 1.0, 1.0, 1.0, 1.0, 1.0, 1.0, 1.0, 1.0, 1.0, 1.0]\n"
            ]
          },
          "metadata": {
            "tags": []
          },
          "execution_count": 52
        }
      ]
    },
    {
      "cell_type": "code",
      "metadata": {
        "id": "sxn9uhnAS69k",
        "colab_type": "code",
        "colab": {
          "base_uri": "https://localhost:8080/",
          "height": 92
        },
        "outputId": "3f822df7-943b-4676-e058-b671e7c0d450"
      },
      "source": [
        "learner.model.convs[3].norm.scale"
      ],
      "execution_count": 53,
      "outputs": [
        {
          "output_type": "execute_result",
          "data": {
            "text/plain": [
              "[1.0, 1.0, 1.0, 1.0, 1.0, 1.0, 1.0, 1.0, 1.0, 1.0, 1.0, 1.0, 1.0, 1.0, 1.0, 1.0, 1.0, 1.0, 1.0, 1.0, 1.0, 1.0, 1.0, 1.0, 1.0, 1.0,\n",
              " 1.0, 1.0, 1.0, 1.0, 1.0, 1.0, 1.0, 1.0, 1.0, 1.0, 1.0, 1.0, 1.0, 1.0, 1.0, 1.0, 1.0, 1.0, 1.0, 1.0, 1.0, 1.0, 1.0, 1.0, 1.0, 1.0,\n",
              " 1.0, 1.0, 1.0, 1.0, 1.0, 1.0, 1.0, 1.0, 1.0, 1.0, 1.0, 1.0]\n"
            ]
          },
          "metadata": {
            "tags": []
          },
          "execution_count": 53
        }
      ]
    },
    {
      "cell_type": "code",
      "metadata": {
        "id": "DaQtsTRgS89V",
        "colab_type": "code",
        "colab": {
          "base_uri": "https://localhost:8080/",
          "height": 35
        },
        "outputId": "3fb737a7-9166-4fb9-8f0f-5adf118f985b"
      },
      "source": [
        "learner.fit(1)"
      ],
      "execution_count": 54,
      "outputs": [
        {
          "output_type": "stream",
          "text": [
            "Epoch 0: [1.2130678, 0.608]\n"
          ],
          "name": "stdout"
        }
      ]
    },
    {
      "cell_type": "code",
      "metadata": {
        "id": "3Rk5fLbQS-wJ",
        "colab_type": "code",
        "colab": {
          "base_uri": "https://localhost:8080/",
          "height": 54
        },
        "outputId": "41c6d735-91d4-4ad4-dfa4-80cb0e15ddbd"
      },
      "source": [
        "learner.model.convs[0].norm.scale"
      ],
      "execution_count": 55,
      "outputs": [
        {
          "output_type": "execute_result",
          "data": {
            "text/plain": [
              "[ 0.9911288,  1.0014294, 0.99041396,  1.0011454,   1.034222,  1.0179204, 0.99215996, 0.99435157,\n",
              " 0.99029994,  0.9929587,  1.0023315, 0.98380834,  1.0093123,  0.9955732, 0.99690735, 0.98794895]\n"
            ]
          },
          "metadata": {
            "tags": []
          },
          "execution_count": 55
        }
      ]
    },
    {
      "cell_type": "code",
      "metadata": {
        "id": "KIOE3sUZTDQU",
        "colab_type": "code",
        "colab": {
          "base_uri": "https://localhost:8080/",
          "height": 164
        },
        "outputId": "1beb8559-b355-4e77-eeb9-434ad58d687e"
      },
      "source": [
        "learner.model.convs[3].norm.scale"
      ],
      "execution_count": 56,
      "outputs": [
        {
          "output_type": "execute_result",
          "data": {
            "text/plain": [
              "[ 0.9953649,  0.9973935,  1.0179517,  0.9871102,  1.0011299, 0.99953324,  1.0136515,  0.9875546,\n",
              "  1.0041703,  0.9971075,  0.9783218,  0.9813575,  1.0210522, 0.99521655,   1.014125,  0.9769132,\n",
              "  1.0013183,  1.0035138,  0.9946238,  0.9971513, 0.99551237,  0.9871831,  1.0108707,   1.009235,\n",
              "   0.986868,  0.9992026, 0.99620646, 0.98446673,  0.9792322,  0.9940513, 0.99445766, 0.98304284,\n",
              "  1.0297406,  0.9902829, 0.98571634,  0.9813884,  1.0047851, 0.98723584,  1.0083523,  1.0129783,\n",
              " 0.99157697,  1.0010548,  0.9723676,  0.9901454,  0.9921483,  1.0076803,  1.0009801,   1.003216,\n",
              "  1.0106128, 0.99832064,  0.9773879, 0.96821815, 0.99525034,  0.9843175,  1.0036579,  1.0274135,\n",
              "  0.9934204,  0.9890184,  0.9882584, 0.99229306, 0.98524535,  1.0221007,  1.0220431,   1.004002]\n"
            ]
          },
          "metadata": {
            "tags": []
          },
          "execution_count": 56
        }
      ]
    },
    {
      "cell_type": "markdown",
      "metadata": {
        "id": "7WkCqbW0TFIz",
        "colab_type": "text"
      },
      "source": [
        "Another way to get those keyPaths is to use the keyPaths to certain layers then append the keyPaths of all the parameters inside. This function takes a model, a layer and the keyPath that points from model.variables to layer.variables and returns the keyPaths of all the parameters of that layer."
      ]
    },
    {
      "cell_type": "code",
      "metadata": {
        "id": "m4c-3A8jTHCZ",
        "colab_type": "code",
        "colab": {}
      },
      "source": [
        "public func parameterKeyPaths<M1, M2>(\n",
        "    _ model: M1,\n",
        "    _ kp: WritableKeyPath<M1.AllDifferentiableVariables, M2.AllDifferentiableVariables>,\n",
        "    _ layer: M2) -> [WritableKeyPath<M1.AllDifferentiableVariables, TF>]\n",
        "where M1: Layer, M2: Layer {\n",
        "    return model.variables[keyPath: kp].keyPaths.map { kp.appending(path: $0) }\n",
        "}"
      ],
      "execution_count": 0,
      "outputs": []
    },
    {
      "cell_type": "markdown",
      "metadata": {
        "id": "sGBUdfLBWPVF",
        "colab_type": "text"
      },
      "source": [
        "To access a keyPath directly, we use \\ commands. Here is the keyPath to the array of convs, which lets us easily get the keyPaths for all the body of our CNN:"
      ]
    },
    {
      "cell_type": "code",
      "metadata": {
        "id": "DWLbYo9WWP8R",
        "colab_type": "code",
        "colab": {}
      },
      "source": [
        "let kp = \\(CNNModel.AllDifferentiableVariables).convs\n",
        "let conv = model.convs\n",
        "let bodyKeyPaths = parameterKeyPaths(model, kp, conv)"
      ],
      "execution_count": 0,
      "outputs": []
    },
    {
      "cell_type": "markdown",
      "metadata": {
        "id": "a1cqayx8WUBK",
        "colab_type": "text"
      },
      "source": [
        "Then we could split body and head:"
      ]
    },
    {
      "cell_type": "code",
      "metadata": {
        "id": "7_fSyMrEWR4f",
        "colab_type": "code",
        "colab": {
          "base_uri": "https://localhost:8080/",
          "height": 72
        },
        "outputId": "88f61685-c484-4ec6-d337-990cbf5600c2"
      },
      "source": [
        "let splitArray = [bodyKeyPaths, model.variables.keyPaths.filter { return !bodyKeyPaths.contains($0) }]\n",
        "splitArray.map { $0.count }"
      ],
      "execution_count": 59,
      "outputs": [
        {
          "output_type": "execute_result",
          "data": {
            "text/plain": [
              "▿ 2 elements\n",
              "  - 0 : 21\n",
              "  - 1 : 2\n"
            ]
          },
          "metadata": {
            "tags": []
          },
          "execution_count": 59
        }
      ]
    },
    {
      "cell_type": "markdown",
      "metadata": {
        "id": "lBOssKblWYSi",
        "colab_type": "text"
      },
      "source": [
        "If we want to refine this a bit and split our body between the first 4 convs and the last 3 we can proceed like this:"
      ]
    },
    {
      "cell_type": "code",
      "metadata": {
        "id": "nFlPQpP5WWJJ",
        "colab_type": "code",
        "colab": {
          "base_uri": "https://localhost:8080/",
          "height": 146
        },
        "outputId": "7614f880-f14e-459f-cbbc-d7ecfddb5683"
      },
      "source": [
        "let x = [1,2,3]\n",
        "let y = [4,5,6]\n",
        "zip(x,y).map { print($0, $1) }"
      ],
      "execution_count": 60,
      "outputs": [
        {
          "output_type": "stream",
          "text": [
            "1 4\r\n",
            "2 5\r\n",
            "3 6\r\n"
          ],
          "name": "stdout"
        },
        {
          "output_type": "execute_result",
          "data": {
            "text/plain": [
              "▿ 3 elements\n",
              "  - 0 : 0 elements\n",
              "  - 1 : 0 elements\n",
              "  - 2 : 0 elements\n"
            ]
          },
          "metadata": {
            "tags": []
          },
          "execution_count": 60
        }
      ]
    },
    {
      "cell_type": "code",
      "metadata": {
        "id": "cv5yWrqLWaby",
        "colab_type": "code",
        "colab": {}
      },
      "source": [
        "let deepBody = (0..<4).map { parameterKeyPaths(\n",
        "    model, \n",
        "    \\(CNNModel.AllDifferentiableVariables).convs.base[$0], \n",
        "    model.convs[$0]\n",
        ") }.reduce([], +)\n",
        "\n",
        "let upperBody = (4..<7).map { parameterKeyPaths(\n",
        "    model, \n",
        "    \\(CNNModel.AllDifferentiableVariables).convs.base[$0], \n",
        "    model.convs[$0]\n",
        ") }.reduce([], +)"
      ],
      "execution_count": 0,
      "outputs": []
    },
    {
      "cell_type": "code",
      "metadata": {
        "id": "hk37yMKBWc4p",
        "colab_type": "code",
        "colab": {
          "base_uri": "https://localhost:8080/",
          "height": 90
        },
        "outputId": "3cd4b858-07e0-4d6e-f708-d14399c332bd"
      },
      "source": [
        "let splitArray = [deepBody, upperBody, model.variables.keyPaths.filter { return !bodyKeyPaths.contains($0) }]\n",
        "splitArray.map { $0.count }"
      ],
      "execution_count": 62,
      "outputs": [
        {
          "output_type": "execute_result",
          "data": {
            "text/plain": [
              "▿ 3 elements\n",
              "  - 0 : 12\n",
              "  - 1 : 9\n",
              "  - 2 : 2\n"
            ]
          },
          "metadata": {
            "tags": []
          },
          "execution_count": 62
        }
      ]
    },
    {
      "cell_type": "markdown",
      "metadata": {
        "id": "fc2v4VZiWhKK",
        "colab_type": "text"
      },
      "source": [
        "Now let's say we want a parameter group will all the batchnorm layers. KeyPaths allow us to get all the batchnorm layers by saying (to: FABatchNorm<Float>.self). The .keyPaths method we have been using is jsut a shortcut for recursivelyAllWritableKeyPaths(to: TF.self), which grabs all the keypaths to all the tensors."
      ]
    },
    {
      "cell_type": "code",
      "metadata": {
        "id": "KcKW__nKWe6Z",
        "colab_type": "code",
        "colab": {}
      },
      "source": [
        "let bns = model.recursivelyAllWritableKeyPaths(to: FABatchNorm<Float>.self).map { model[keyPath: $0] }"
      ],
      "execution_count": 0,
      "outputs": []
    },
    {
      "cell_type": "markdown",
      "metadata": {
        "id": "-1vMh33UWnPe",
        "colab_type": "text"
      },
      "source": [
        "Then we need the keypaths from model.variables to those batchnorms."
      ]
    },
    {
      "cell_type": "code",
      "metadata": {
        "id": "3XAw9qOsWlR5",
        "colab_type": "code",
        "colab": {}
      },
      "source": [
        "let bnKeyPaths = model.variables.recursivelyAllWritableKeyPaths(to: FABatchNorm<Float>.AllDifferentiableVariables.self)"
      ],
      "execution_count": 0,
      "outputs": []
    },
    {
      "cell_type": "code",
      "metadata": {
        "id": "hxhKnGDZWpgh",
        "colab_type": "code",
        "colab": {
          "base_uri": "https://localhost:8080/",
          "height": 35
        },
        "outputId": "801e0b86-5995-48b7-d753-b0a19b814b7a"
      },
      "source": [
        "let bnParameters = zip(bnKeyPaths, bns).map { parameterKeyPaths(model, $0, $1) }.reduce([], +)\n",
        "bnParameters.count"
      ],
      "execution_count": 65,
      "outputs": [
        {
          "output_type": "execute_result",
          "data": {
            "text/plain": [
              "14\n"
            ]
          },
          "metadata": {
            "tags": []
          },
          "execution_count": 65
        }
      ]
    },
    {
      "cell_type": "markdown",
      "metadata": {
        "id": "NpJMPdctWsVq",
        "colab_type": "text"
      },
      "source": [
        "Export"
      ]
    },
    {
      "cell_type": "code",
      "metadata": {
        "id": "SO3udRgjWrWi",
        "colab_type": "code",
        "colab": {
          "base_uri": "https://localhost:8080/",
          "height": 35
        },
        "outputId": "01d00cfd-3c29-4729-a6d4-f3dfc49d13cc"
      },
      "source": [
        "import NotebookExport\n",
        "let exporter = NotebookExport(Path.cwd/\"09_optimizer.ipynb\")\n",
        "print(exporter.export(usingPrefix: \"FastaiNotebook_\"))"
      ],
      "execution_count": 66,
      "outputs": [
        {
          "output_type": "stream",
          "text": [
            "success\r\n"
          ],
          "name": "stdout"
        }
      ]
    },
    {
      "cell_type": "code",
      "metadata": {
        "id": "X-qNNd6nWveh",
        "colab_type": "code",
        "colab": {}
      },
      "source": [
        ""
      ],
      "execution_count": 0,
      "outputs": []
    }
  ]
}