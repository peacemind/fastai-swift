{
  "nbformat": 4,
  "nbformat_minor": 0,
  "metadata": {
    "colab": {
      "name": "fastai-les14-02a-why-sqrt5.ipynb",
      "version": "0.3.2",
      "provenance": [],
      "collapsed_sections": []
    },
    "kernelspec": {
      "name": "swift",
      "display_name": "Swift"
    },
    "accelerator": "GPU"
  },
  "cells": [
    {
      "cell_type": "code",
      "metadata": {
        "id": "kZRlD4utdPuX",
        "colab_type": "code",
        "colab": {
          "base_uri": "https://localhost:8080/",
          "height": 935
        },
        "outputId": "6925b34f-d412-479a-a307-abdbb68bbd99"
      },
      "source": [
        "%install-location $cwd/swift-install\n",
        "%install '.package(path: \"$cwd/FastaiNotebook_02_fully_connected\")' FastaiNotebook_02_fully_connected"
      ],
      "execution_count": 1,
      "outputs": [
        {
          "output_type": "stream",
          "text": [
            "Installing packages:\n",
            "\t.package(path: \"/content/FastaiNotebook_02_fully_connected\")\n",
            "\t\tFastaiNotebook_02_fully_connected\n",
            "With SwiftPM flags: []\n",
            "Working in: /tmp/tmpqeao4gw5/swift-install\n",
            "Fetching https://github.com/mxcl/Path.swift\n",
            "Fetching https://github.com/saeta/Just\n",
            "Fetching https://github.com/latenitesoft/NotebookExport\n",
            "Completed resolution in 3.05s\n",
            "Cloning https://github.com/mxcl/Path.swift\n",
            "Resolving https://github.com/mxcl/Path.swift at 0.16.3\n",
            "Cloning https://github.com/latenitesoft/NotebookExport\n",
            "Resolving https://github.com/latenitesoft/NotebookExport at 0.6.0\n",
            "Cloning https://github.com/saeta/Just\n",
            "Resolving https://github.com/saeta/Just at 0.7.3\n",
            "[1/11] Compiling Path Path+StringConvertibles.swift\n",
            "[2/11] Compiling Path Path+ls.swift\n",
            "[3/11] Compiling Path Path->Bool.swift\n",
            "[4/11] Compiling Path Path.swift\n",
            "[5/11] Compiling Path Extensions.swift\n",
            "[6/11] Compiling Path Path+Attributes.swift\n",
            "[7/11] Compiling Path Path+Codable.swift\n",
            "[8/11] Compiling Path Path+CommonDirectories.swift\n",
            "[9/11] Compiling Path Path+FileManager.swift\n",
            "[10/12] Merging module Path\n",
            "[11/16] Compiling NotebookExport DependencyDescription.swift\n",
            "[12/17] Merging module Just\n",
            "[14/17] Compiling NotebookExport ExtensionUtils.swift\n",
            "[15/17] Compiling NotebookExport NotebookExport.swift\n",
            "[16/17] Compiling NotebookExport PackageManifest.swift\n",
            "[17/18] Merging module NotebookExport\n",
            "[18/19] Compiling FastaiNotebook_00_load_data 00_load_data.swift\n",
            "[19/20] Merging module FastaiNotebook_00_load_data\n",
            "[20/22] Compiling FastaiNotebook_01_matmul 01_matmul.swift\n",
            "[21/22] Compiling FastaiNotebook_01_matmul 00_load_data.swift\n",
            "[22/23] Merging module FastaiNotebook_01_matmul\n",
            "[23/26] Compiling FastaiNotebook_01a_fastai_layers 00_load_data.swift\n",
            "[24/26] Compiling FastaiNotebook_01a_fastai_layers 01_matmul.swift\n",
            "[25/26] Compiling FastaiNotebook_01a_fastai_layers 01a_fastai_layers.swift\n",
            "[26/27] Merging module FastaiNotebook_01a_fastai_layers\n",
            "[27/31] Compiling FastaiNotebook_02_fully_connected 00_load_data.swift\n",
            "[28/31] Compiling FastaiNotebook_02_fully_connected 01_matmul.swift\n",
            "[29/31] Compiling FastaiNotebook_02_fully_connected 01a_fastai_layers.swift\n",
            "[30/31] Compiling FastaiNotebook_02_fully_connected 02_fully_connected.swift\n",
            "[31/32] Merging module FastaiNotebook_02_fully_connected\n",
            "[32/33] Compiling jupyterInstalledPackages jupyterInstalledPackages.swift\n",
            "[33/34] Merging module jupyterInstalledPackages\n",
            "[34/34] Linking libjupyterInstalledPackages.so\n",
            "Initializing Swift...\n",
            "Installation complete!\n"
          ],
          "name": "stdout"
        }
      ]
    },
    {
      "cell_type": "code",
      "metadata": {
        "id": "Rsqyl7gaCtQZ",
        "colab_type": "code",
        "colab": {}
      },
      "source": [
        "//export\n",
        "import Foundation\n",
        "import TensorFlow\n",
        "import Path"
      ],
      "execution_count": 0,
      "outputs": []
    },
    {
      "cell_type": "code",
      "metadata": {
        "id": "B5ESwc_3DiTd",
        "colab_type": "code",
        "colab": {}
      },
      "source": [
        "import FastaiNotebook_02_fully_connected"
      ],
      "execution_count": 0,
      "outputs": []
    },
    {
      "cell_type": "markdown",
      "metadata": {
        "id": "sFGrdM5RDqml",
        "colab_type": "text"
      },
      "source": [
        "Does nn.Conv2d init work well?¶"
      ]
    },
    {
      "cell_type": "code",
      "metadata": {
        "id": "1Cnmt7flDkNU",
        "colab_type": "code",
        "colab": {
          "base_uri": "https://localhost:8080/",
          "height": 90
        },
        "outputId": "cb05cac2-9bad-4a85-cd7b-a74e038b471b"
      },
      "source": [
        "var (xTrain, yTrain, xValid, yValid) = loadMNIST(path: Path.home/\".fastai\"/\"data\"/\"mnist_tst\")\n",
        "let (trainMean, trainStd) = (xTrain.mean(), xTrain.standardDeviation())\n",
        "xTrain = normalize(xTrain, mean: trainMean, std: trainStd)\n",
        "xValid = normalize(xValid, mean: trainMean, std: trainStd)"
      ],
      "execution_count": 4,
      "outputs": [
        {
          "output_type": "stream",
          "text": [
            "Downloading https://storage.googleapis.com/cvdf-datasets/mnist/train-images-idx3-ubyte.gz...\n",
            "Downloading https://storage.googleapis.com/cvdf-datasets/mnist/train-labels-idx1-ubyte.gz...\n",
            "Downloading https://storage.googleapis.com/cvdf-datasets/mnist/t10k-images-idx3-ubyte.gz...\n",
            "Downloading https://storage.googleapis.com/cvdf-datasets/mnist/t10k-labels-idx1-ubyte.gz...\n"
          ],
          "name": "stdout"
        }
      ]
    },
    {
      "cell_type": "code",
      "metadata": {
        "id": "nGGYIU-lDs0r",
        "colab_type": "code",
        "colab": {
          "base_uri": "https://localhost:8080/",
          "height": 35
        },
        "outputId": "507a8618-a94c-43ad-b21d-b8943a865dd1"
      },
      "source": [
        "xTrain = xTrain.reshaped(to: [xTrain.shape[0], 28, 28, 1])\n",
        "xValid = xValid.reshaped(to: [xValid.shape[0], 28, 28, 1])\n",
        "print(xTrain.shape, xValid.shape)"
      ],
      "execution_count": 5,
      "outputs": [
        {
          "output_type": "stream",
          "text": [
            "[60000, 28, 28, 1] [10000, 28, 28, 1]\r\n"
          ],
          "name": "stdout"
        }
      ]
    },
    {
      "cell_type": "code",
      "metadata": {
        "id": "rk4dIjLxD2hc",
        "colab_type": "code",
        "colab": {}
      },
      "source": [
        "let images = xTrain.shape[0]\n",
        "let classes = xValid.max() + 1\n",
        "let channels = 32"
      ],
      "execution_count": 0,
      "outputs": []
    },
    {
      "cell_type": "code",
      "metadata": {
        "id": "v_OYpAwGE3if",
        "colab_type": "code",
        "colab": {}
      },
      "source": [
        "var layer1 = FAConv2D<Float>(filterShape: (5, 5, 1, channels)) //Conv2D(1, nh, 5)"
      ],
      "execution_count": 0,
      "outputs": []
    },
    {
      "cell_type": "code",
      "metadata": {
        "id": "_GYOtCnUFGpu",
        "colab_type": "code",
        "colab": {}
      },
      "source": [
        "let x = xValid[0..<100]"
      ],
      "execution_count": 0,
      "outputs": []
    },
    {
      "cell_type": "code",
      "metadata": {
        "id": "9h0W8g_SF0P1",
        "colab_type": "code",
        "colab": {
          "base_uri": "https://localhost:8080/",
          "height": 127
        },
        "outputId": "40ad83d1-f052-4dbe-afb5-c898b7c9e650"
      },
      "source": [
        "x.shape"
      ],
      "execution_count": 12,
      "outputs": [
        {
          "output_type": "execute_result",
          "data": {
            "text/plain": [
              "▿ [100, 28, 28, 1]\n",
              "  ▿ dimensions : 4 elements\n",
              "    - 0 : 100\n",
              "    - 1 : 28\n",
              "    - 2 : 28\n",
              "    - 3 : 1\n"
            ]
          },
          "metadata": {
            "tags": []
          },
          "execution_count": 12
        }
      ]
    },
    {
      "cell_type": "code",
      "metadata": {
        "id": "wbeXiaq7Gy8B",
        "colab_type": "code",
        "colab": {}
      },
      "source": [
        "extension Tensor where Scalar: TensorFlowFloatingPoint {\n",
        "    func stats() -> (mean: Tensor, std: Tensor) {\n",
        "        return (mean: mean(), std: standardDeviation())\n",
        "    }\n",
        "}"
      ],
      "execution_count": 0,
      "outputs": []
    },
    {
      "cell_type": "code",
      "metadata": {
        "id": "sP4bIVUHHFeE",
        "colab_type": "code",
        "colab": {
          "base_uri": "https://localhost:8080/",
          "height": 146
        },
        "outputId": "ca7f5862-0aa1-4159-ef5f-72f8b47d3450"
      },
      "source": [
        "(filter: layer1.filter.stats(), bias: layer1.bias.stats())"
      ],
      "execution_count": 14,
      "outputs": [
        {
          "output_type": "execute_result",
          "data": {
            "text/plain": [
              "▿ 2 elements\n",
              "  ▿ filter : 2 elements\n",
              "    - mean : -0.0007354039\n",
              "    - std : 0.201281\n",
              "  ▿ bias : 2 elements\n",
              "    - mean : 0.0\n",
              "    - std : 0.0\n"
            ]
          },
          "metadata": {
            "tags": []
          },
          "execution_count": 14
        }
      ]
    },
    {
      "cell_type": "code",
      "metadata": {
        "id": "lrGY7izmHJzs",
        "colab_type": "code",
        "colab": {}
      },
      "source": [
        "withDevice(.cpu){\n",
        "  let result = layer1(x)\n",
        "}"
      ],
      "execution_count": 0,
      "outputs": []
    },
    {
      "cell_type": "code",
      "metadata": {
        "id": "4qilPdHyHQF4",
        "colab_type": "code",
        "colab": {}
      },
      "source": [
        "let result = layer1(x)"
      ],
      "execution_count": 0,
      "outputs": []
    },
    {
      "cell_type": "code",
      "metadata": {
        "id": "tJsjaSHAIeN7",
        "colab_type": "code",
        "colab": {
          "base_uri": "https://localhost:8080/",
          "height": 72
        },
        "outputId": "5908dc3b-0a9d-4eb8-b18d-4319e90bda1e"
      },
      "source": [
        "result.stats()"
      ],
      "execution_count": 17,
      "outputs": [
        {
          "output_type": "execute_result",
          "data": {
            "text/plain": [
              "▿ 2 elements\n",
              "  - mean : 0.002124782\n",
              "  - std : 0.90949047\n"
            ]
          },
          "metadata": {
            "tags": []
          },
          "execution_count": 17
        }
      ]
    },
    {
      "cell_type": "markdown",
      "metadata": {
        "id": "a4wgwSvfI08i",
        "colab_type": "text"
      },
      "source": [
        "\n",
        "\n",
        "This is in 1a now so this code is disabled from here:\n",
        "\n",
        "var rng = PhiloxRandomNumberGenerator.global\n",
        "\n",
        "extension Tensor where Scalar: TensorFlowFloatingPoint {\n",
        "\n",
        "    init(kaimingNormal shape: TensorShape, negativeSlope: Double = 1.0) \n",
        "    {\n",
        "        // Assumes Leaky ReLU nonlinearity\n",
        "        let gain = Scalar(sqrt(2.0 / (1.0 + pow(negativeSlope, 2))))\n",
        "        let spatialDimCount = shape.count - 2\n",
        "        let receptiveField = shape[0..<spatialDimCount].contiguousSize\n",
        "        let fanIn = shape[shape.count - 2] * receptiveField\n",
        "        self.init(randomNormal: shape,\n",
        "                  stddev: gain / sqrt(Scalar(fanIn)),\n",
        "                  generator: &rng\n",
        "        )\n",
        "    }\n",
        "}\n",
        "\n"
      ]
    },
    {
      "cell_type": "code",
      "metadata": {
        "id": "cpKb-DM9Ivf7",
        "colab_type": "code",
        "colab": {
          "base_uri": "https://localhost:8080/",
          "height": 72
        },
        "outputId": "6adee3af-1697-4598-c26a-4b15ede844b5"
      },
      "source": [
        "layer1.filter = Tensor(kaimingNormal: layer1.filter.shape, negativeSlope: 1.0)\n",
        "layer1(x).stats()"
      ],
      "execution_count": 18,
      "outputs": [
        {
          "output_type": "execute_result",
          "data": {
            "text/plain": [
              "▿ 2 elements\n",
              "  - mean : 0.0037424834\n",
              "  - std : 1.0423291\n"
            ]
          },
          "metadata": {
            "tags": []
          },
          "execution_count": 18
        }
      ]
    },
    {
      "cell_type": "code",
      "metadata": {
        "id": "iJft7lw0JAjr",
        "colab_type": "code",
        "colab": {}
      },
      "source": [
        "// export\n",
        "func leakyRelu<T: TensorFlowFloatingPoint>(\n",
        "    _ x: Tensor<T>,\n",
        "    negativeSlope: Double = 0.0\n",
        ") -> Tensor<T> {\n",
        "    return max(0, x) + T(negativeSlope) * min(0, x)\n",
        "}"
      ],
      "execution_count": 0,
      "outputs": []
    },
    {
      "cell_type": "code",
      "metadata": {
        "id": "vhCN4SekLDDw",
        "colab_type": "code",
        "colab": {
          "base_uri": "https://localhost:8080/",
          "height": 72
        },
        "outputId": "d6d46dc6-55de-489b-bb86-76f03b2b339f"
      },
      "source": [
        "layer1.filter = Tensor(kaimingNormal: layer1.filter.shape, negativeSlope: 0.0)\n",
        "leakyRelu(layer1(x)).stats()"
      ],
      "execution_count": 20,
      "outputs": [
        {
          "output_type": "execute_result",
          "data": {
            "text/plain": [
              "▿ 2 elements\n",
              "  - mean : 0.41658816\n",
              "  - std : 0.79095083\n"
            ]
          },
          "metadata": {
            "tags": []
          },
          "execution_count": 20
        }
      ]
    },
    {
      "cell_type": "code",
      "metadata": {
        "id": "RGmKyB2YLYak",
        "colab_type": "code",
        "colab": {
          "base_uri": "https://localhost:8080/",
          "height": 72
        },
        "outputId": "508d52e2-3e22-481d-8655-e87ba0106768"
      },
      "source": [
        "var layer1 = FAConv2D<Float>(filterShape: (5, 5, 1, channels)) //Conv2D(1, nh, 5)\n",
        "leakyRelu(layer1(x)).stats()"
      ],
      "execution_count": 21,
      "outputs": [
        {
          "output_type": "execute_result",
          "data": {
            "text/plain": [
              "▿ 2 elements\n",
              "  - mean : 0.28651994\n",
              "  - std : 0.5065314\n"
            ]
          },
          "metadata": {
            "tags": []
          },
          "execution_count": 21
        }
      ]
    },
    {
      "cell_type": "code",
      "metadata": {
        "id": "pTSWlodKNOzM",
        "colab_type": "code",
        "colab": {
          "base_uri": "https://localhost:8080/",
          "height": 127
        },
        "outputId": "068893f5-d666-4bac-d371-764d8c1f67ae"
      },
      "source": [
        "layer1.filter.shape"
      ],
      "execution_count": 22,
      "outputs": [
        {
          "output_type": "execute_result",
          "data": {
            "text/plain": [
              "▿ [5, 5, 1, 32]\n",
              "  ▿ dimensions : 4 elements\n",
              "    - 0 : 5\n",
              "    - 1 : 5\n",
              "    - 2 : 1\n",
              "    - 3 : 32\n"
            ]
          },
          "metadata": {
            "tags": []
          },
          "execution_count": 22
        }
      ]
    },
    {
      "cell_type": "code",
      "metadata": {
        "id": "g13GvM47NVTN",
        "colab_type": "code",
        "colab": {
          "base_uri": "https://localhost:8080/",
          "height": 35
        },
        "outputId": "a7ddda3b-f970-4cce-c1d4-345f1c4bcc35"
      },
      "source": [
        "let spatialDimCount = layer1.filter.rank - 2\n",
        "let receptiveField = layer1.filter.shape[0..<spatialDimCount].contiguousSize\n",
        "receptiveField"
      ],
      "execution_count": 23,
      "outputs": [
        {
          "output_type": "execute_result",
          "data": {
            "text/plain": [
              "25\n"
            ]
          },
          "metadata": {
            "tags": []
          },
          "execution_count": 23
        }
      ]
    },
    {
      "cell_type": "code",
      "metadata": {
        "id": "CgtfJQWxWeub",
        "colab_type": "code",
        "colab": {
          "base_uri": "https://localhost:8080/",
          "height": 35
        },
        "outputId": "b98a9650-585b-430e-d123-28647e7cf2e8"
      },
      "source": [
        "let filtersIn = layer1.filter.shape[2]\n",
        "let filtersOut = layer1.filter.shape[3]\n",
        "print(filtersIn, filtersOut)"
      ],
      "execution_count": 24,
      "outputs": [
        {
          "output_type": "stream",
          "text": [
            "1 32\r\n"
          ],
          "name": "stdout"
        }
      ]
    },
    {
      "cell_type": "code",
      "metadata": {
        "id": "ZAS8g78-XN04",
        "colab_type": "code",
        "colab": {
          "base_uri": "https://localhost:8080/",
          "height": 35
        },
        "outputId": "4344eb5b-223c-485f-b7e0-f6ea47436e42"
      },
      "source": [
        "let fanIn = filtersIn * receptiveField\n",
        "let fanOut = filtersOut * receptiveField\n",
        "print(fanIn, fanOut)"
      ],
      "execution_count": 25,
      "outputs": [
        {
          "output_type": "stream",
          "text": [
            "25 800\r\n"
          ],
          "name": "stdout"
        }
      ]
    },
    {
      "cell_type": "code",
      "metadata": {
        "id": "6GFMdhiNXPKE",
        "colab_type": "code",
        "colab": {}
      },
      "source": [
        "func gain(_ negativeSlope: Double) -> Double {\n",
        "    return sqrt(2.0 / (1.0 + pow(negativeSlope, 2.0)))\n",
        "}"
      ],
      "execution_count": 0,
      "outputs": []
    },
    {
      "cell_type": "code",
      "metadata": {
        "id": "9oQt_hDNXV--",
        "colab_type": "code",
        "colab": {
          "base_uri": "https://localhost:8080/",
          "height": 127
        },
        "outputId": "d839fcef-9243-4759-858c-59e02f238aa3"
      },
      "source": [
        "(gain(1.0), gain(0.0), gain(0.01), gain(0.1), gain(sqrt(5.0)))"
      ],
      "execution_count": 27,
      "outputs": [
        {
          "output_type": "execute_result",
          "data": {
            "text/plain": [
              "▿ 5 elements\n",
              "  - .0 : 1.0\n",
              "  - .1 : 1.4142135623730951\n",
              "  - .2 : 1.4141428569978354\n",
              "  - .3 : 1.4071950894605838\n",
              "  - .4 : 0.5773502691896257\n"
            ]
          },
          "metadata": {
            "tags": []
          },
          "execution_count": 27
        }
      ]
    },
    {
      "cell_type": "code",
      "metadata": {
        "id": "VnIXNfEdXbL2",
        "colab_type": "code",
        "colab": {
          "base_uri": "https://localhost:8080/",
          "height": 35
        },
        "outputId": "aa21881d-1578-4074-ec12-879141a988e8"
      },
      "source": [
        "(2 * Tensor<Float>(randomUniform: [10000]) - 1).standardDeviation()"
      ],
      "execution_count": 28,
      "outputs": [
        {
          "output_type": "execute_result",
          "data": {
            "text/plain": [
              "0.57589847\n"
            ]
          },
          "metadata": {
            "tags": []
          },
          "execution_count": 28
        }
      ]
    },
    {
      "cell_type": "code",
      "metadata": {
        "id": "OWicu2j7Xhv0",
        "colab_type": "code",
        "colab": {}
      },
      "source": [
        "//export\n",
        "extension Tensor where Scalar: TensorFlowFloatingPoint {\n",
        "    init(kaimingUniform shape: TensorShape, negativeSlope: Double = 1.0) {\n",
        "        // Assumes Leaky ReLU nonlinearity\n",
        "        let gain = Scalar.init(TensorFlow.sqrt(2.0 / (1.0 + TensorFlow.pow(negativeSlope, 2))))\n",
        "        let spatialDimCount = shape.count - 2\n",
        "        let receptiveField = shape[0..<spatialDimCount].contiguousSize\n",
        "        let fanIn = shape[shape.count - 2] * receptiveField\n",
        "        let bound = TensorFlow.sqrt(Scalar(3.0)) * gain / TensorFlow.sqrt(Scalar(fanIn))\n",
        "        self = bound * (2 * Tensor(randomUniform: shape, generator: &PhiloxRandomNumberGenerator.global) - 1)\n",
        "    }\n",
        "}"
      ],
      "execution_count": 0,
      "outputs": []
    },
    {
      "cell_type": "code",
      "metadata": {
        "id": "X1zzhKQOZQMR",
        "colab_type": "code",
        "colab": {
          "base_uri": "https://localhost:8080/",
          "height": 72
        },
        "outputId": "1f65ec63-7895-4712-f04d-7b32b523a1a3"
      },
      "source": [
        "layer1.filter = Tensor(kaimingUniform: layer1.filter.shape, negativeSlope: 0.0)\n",
        "leakyRelu(layer1(x)).stats()"
      ],
      "execution_count": 30,
      "outputs": [
        {
          "output_type": "execute_result",
          "data": {
            "text/plain": [
              "▿ 2 elements\n",
              "  - mean : 0.4240648\n",
              "  - std : 0.8359458\n"
            ]
          },
          "metadata": {
            "tags": []
          },
          "execution_count": 30
        }
      ]
    },
    {
      "cell_type": "code",
      "metadata": {
        "id": "3Bw5Qg9EZStP",
        "colab_type": "code",
        "colab": {
          "base_uri": "https://localhost:8080/",
          "height": 72
        },
        "outputId": "c4aefbf4-0f16-49c7-8783-d79bced2b72a"
      },
      "source": [
        "layer1.filter = Tensor(kaimingUniform: layer1.filter.shape, negativeSlope: sqrt(5.0))\n",
        "leakyRelu(layer1(x)).stats()"
      ],
      "execution_count": 31,
      "outputs": [
        {
          "output_type": "execute_result",
          "data": {
            "text/plain": [
              "▿ 2 elements\n",
              "  - mean : 0.1911112\n",
              "  - std : 0.3638833\n"
            ]
          },
          "metadata": {
            "tags": []
          },
          "execution_count": 31
        }
      ]
    },
    {
      "cell_type": "code",
      "metadata": {
        "id": "pTx0WiC9ZWX-",
        "colab_type": "code",
        "colab": {}
      },
      "source": [
        "public struct Model: Layer {\n",
        "    public var conv1 = FAConv2D<Float>(\n",
        "        filterShape: (5, 5, 1, 8),   strides: (2, 2), padding: .same, activation: relu\n",
        "    )\n",
        "    public var conv2 = FAConv2D<Float>(\n",
        "        filterShape: (3, 3, 8, 16),  strides: (2, 2), padding: .same, activation: relu\n",
        "    )\n",
        "    public var conv3 = FAConv2D<Float>(\n",
        "        filterShape: (3, 3, 16, 32), strides: (2, 2), padding: .same, activation: relu\n",
        "    )\n",
        "    public var conv4 = FAConv2D<Float>(\n",
        "        filterShape: (3, 3, 32, 1),  strides: (2, 2), padding: .valid\n",
        "    )\n",
        "    public var flatten = Flatten<Float>()\n",
        "\n",
        "    @differentiable\n",
        "    public func callAsFunction(_ input: Tensor<Float>) -> Tensor<Float> {\n",
        "        return input.sequenced(through: conv1, conv2, conv3, conv4, flatten)\n",
        "    }\n",
        "}"
      ],
      "execution_count": 0,
      "outputs": []
    },
    {
      "cell_type": "code",
      "metadata": {
        "id": "66F6lKEyZadX",
        "colab_type": "code",
        "colab": {}
      },
      "source": [
        "let y = Tensor<Float>(yValid[0..<100])\n",
        "var model = Model()"
      ],
      "execution_count": 0,
      "outputs": []
    },
    {
      "cell_type": "code",
      "metadata": {
        "id": "z3ntZFFJZeL_",
        "colab_type": "code",
        "colab": {
          "base_uri": "https://localhost:8080/",
          "height": 72
        },
        "outputId": "69b8509d-be13-49f0-aac0-c3a622f92cf4"
      },
      "source": [
        "let prediction = model(x)\n",
        "prediction.stats()"
      ],
      "execution_count": 34,
      "outputs": [
        {
          "output_type": "execute_result",
          "data": {
            "text/plain": [
              "▿ 2 elements\n",
              "  - mean : -0.13231449\n",
              "  - std : 0.1049914\n"
            ]
          },
          "metadata": {
            "tags": []
          },
          "execution_count": 34
        }
      ]
    },
    {
      "cell_type": "code",
      "metadata": {
        "id": "-j9DWDlIZgvf",
        "colab_type": "code",
        "colab": {
          "base_uri": "https://localhost:8080/",
          "height": 72
        },
        "outputId": "dc375644-a038-44da-9eb3-f185f477d2ee"
      },
      "source": [
        "let gradients = gradient(at: model) { model in\n",
        "    meanSquaredError(predicted: model(x), expected: y)\n",
        "}\n",
        "\n",
        "gradients.conv1.filter.stats()"
      ],
      "execution_count": 35,
      "outputs": [
        {
          "output_type": "execute_result",
          "data": {
            "text/plain": [
              "▿ 2 elements\n",
              "  - mean : 0.10806452\n",
              "  - std : 0.23033115\n"
            ]
          },
          "metadata": {
            "tags": []
          },
          "execution_count": 35
        }
      ]
    },
    {
      "cell_type": "code",
      "metadata": {
        "id": "1IBQAriFbkiT",
        "colab_type": "code",
        "colab": {}
      },
      "source": [
        "for keyPath in [\\Model.conv1, \\Model.conv2, \\Model.conv3, \\Model.conv4] {\n",
        "    model[keyPath: keyPath].filter = Tensor(kaimingUniform: model[keyPath: keyPath].filter.shape)\n",
        "}"
      ],
      "execution_count": 0,
      "outputs": []
    },
    {
      "cell_type": "code",
      "metadata": {
        "id": "NpzdAaX3brwg",
        "colab_type": "code",
        "colab": {
          "base_uri": "https://localhost:8080/",
          "height": 72
        },
        "outputId": "9fd7d1d9-4fe3-4a4b-b9cf-94033556c6ea"
      },
      "source": [
        "let prediction = model(x)\n",
        "prediction.stats()"
      ],
      "execution_count": 38,
      "outputs": [
        {
          "output_type": "execute_result",
          "data": {
            "text/plain": [
              "▿ 2 elements\n",
              "  - mean : -0.018766165\n",
              "  - std : 0.1850172\n"
            ]
          },
          "metadata": {
            "tags": []
          },
          "execution_count": 38
        }
      ]
    },
    {
      "cell_type": "code",
      "metadata": {
        "id": "jO85G6habvuW",
        "colab_type": "code",
        "colab": {
          "base_uri": "https://localhost:8080/",
          "height": 72
        },
        "outputId": "bc426317-9cbb-4286-b42a-df1caa27fd7a"
      },
      "source": [
        "let gradients = gradient(at: model) { model in\n",
        "    meanSquaredError(predicted: model(x), expected: y)\n",
        "}\n",
        "\n",
        "gradients.conv1.filter.stats()"
      ],
      "execution_count": 39,
      "outputs": [
        {
          "output_type": "execute_result",
          "data": {
            "text/plain": [
              "▿ 2 elements\n",
              "  - mean : 0.059680127\n",
              "  - std : 0.31526127\n"
            ]
          },
          "metadata": {
            "tags": []
          },
          "execution_count": 39
        }
      ]
    },
    {
      "cell_type": "markdown",
      "metadata": {
        "id": "4Dj0-H_wb2es",
        "colab_type": "text"
      },
      "source": [
        "Export"
      ]
    },
    {
      "cell_type": "code",
      "metadata": {
        "id": "4YwKnT7Xb0Yu",
        "colab_type": "code",
        "colab": {
          "base_uri": "https://localhost:8080/",
          "height": 35
        },
        "outputId": "7432412b-69c7-4fa0-c878-09cea1bac62e"
      },
      "source": [
        "import NotebookExport\n",
        "let exporter = NotebookExport(Path.cwd/\"02a_why_sqrt5.ipynb\")\n",
        "print(exporter.export(usingPrefix: \"FastaiNotebook_\"))"
      ],
      "execution_count": 40,
      "outputs": [
        {
          "output_type": "stream",
          "text": [
            "success\r\n"
          ],
          "name": "stdout"
        }
      ]
    },
    {
      "cell_type": "code",
      "metadata": {
        "id": "2a-0MEuZb53v",
        "colab_type": "code",
        "colab": {}
      },
      "source": [
        ""
      ],
      "execution_count": 0,
      "outputs": []
    }
  ]
}