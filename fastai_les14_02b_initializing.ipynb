{
  "nbformat": 4,
  "nbformat_minor": 0,
  "metadata": {
    "colab": {
      "name": "fastai-les14-02b-initializing.ipynb",
      "version": "0.3.2",
      "provenance": [],
      "collapsed_sections": []
    },
    "kernelspec": {
      "name": "swift",
      "display_name": "Swift"
    },
    "accelerator": "GPU"
  },
  "cells": [
    {
      "cell_type": "code",
      "metadata": {
        "id": "kZRlD4utdPuX",
        "colab_type": "code",
        "outputId": "cc103936-2c21-4571-c52a-0e235a4c65c3",
        "colab": {
          "base_uri": "https://localhost:8080/",
          "height": 384
        }
      },
      "source": [
        "%install-location $cwd/swift-install\n",
        "%install '.package(path: \"$cwd/FastaiNotebook_02a_why_sqrt5\")' FastaiNotebook_02a_why_sqrt5"
      ],
      "execution_count": 0,
      "outputs": [
        {
          "output_type": "stream",
          "text": [
            "Installing packages:\n",
            "\t.package(path: \"/content/FastaiNotebook_02a_why_sqrt5\")\n",
            "\t\tFastaiNotebook_02a_why_sqrt5\n",
            "With SwiftPM flags: []\n",
            "Working in: /tmp/tmpfhgxi00f/swift-install\n",
            "Updating https://github.com/mxcl/Path.swift\n",
            "Updating https://github.com/saeta/Just\n",
            "Updating https://github.com/latenitesoft/NotebookExport\n",
            "Completed resolution in 1.21s\n",
            "[1/6] Compiling FastaiNotebook_02a_why_sqrt5 02_fully_connected.swift\n",
            "[2/6] Compiling FastaiNotebook_02a_why_sqrt5 02a_why_sqrt5.swift\n",
            "[3/6] Compiling FastaiNotebook_02a_why_sqrt5 00_load_data.swift\n",
            "[4/6] Compiling FastaiNotebook_02a_why_sqrt5 01_matmul.swift\n",
            "[5/6] Compiling FastaiNotebook_02a_why_sqrt5 01a_fastai_layers.swift\n",
            "[6/7] Merging module FastaiNotebook_02a_why_sqrt5\n",
            "[7/8] Compiling jupyterInstalledPackages jupyterInstalledPackages.swift\n",
            "[8/9] Merging module jupyterInstalledPackages\n",
            "[9/9] Linking libjupyterInstalledPackages.so\n",
            "Initializing Swift...\n",
            "Installation complete!\n"
          ],
          "name": "stdout"
        }
      ]
    },
    {
      "cell_type": "code",
      "metadata": {
        "id": "tQmRk4L-wWXq",
        "colab_type": "code",
        "colab": {}
      },
      "source": [
        "//export\n",
        "import Path\n",
        "import TensorFlow"
      ],
      "execution_count": 0,
      "outputs": []
    },
    {
      "cell_type": "code",
      "metadata": {
        "id": "AwVRAjsrweej",
        "colab_type": "code",
        "colab": {}
      },
      "source": [
        "import FastaiNotebook_02a_why_sqrt5"
      ],
      "execution_count": 0,
      "outputs": []
    },
    {
      "cell_type": "markdown",
      "metadata": {
        "id": "JovUSrazwjbj",
        "colab_type": "text"
      },
      "source": [
        "\n",
        "Why you need a good init\n",
        "\n",
        "To understand why initialization is important in a neural net, we'll focus on the basic operation you have there: matrix multiplications. So let's just take a vector x, and a matrix a initialized randomly, then multiply them 100 times (as if we had 100 layers).\n"
      ]
    },
    {
      "cell_type": "code",
      "metadata": {
        "id": "fpIH71jawhDr",
        "colab_type": "code",
        "colab": {}
      },
      "source": [
        "var x = TF(randomNormal: [512, 1])\n",
        "let a = TF(randomNormal: [512,512])"
      ],
      "execution_count": 0,
      "outputs": []
    },
    {
      "cell_type": "code",
      "metadata": {
        "id": "g73SJbtjwnTq",
        "colab_type": "code",
        "colab": {}
      },
      "source": [
        "for i in 0..<100 { x = a • x }"
      ],
      "execution_count": 0,
      "outputs": []
    },
    {
      "cell_type": "code",
      "metadata": {
        "id": "2iMjMExlwsqT",
        "colab_type": "code",
        "outputId": "c7392f16-e8f8-478f-8842-bb8016b9ba95",
        "colab": {
          "base_uri": "https://localhost:8080/",
          "height": 72
        }
      },
      "source": [
        "(x.mean(),x.std())"
      ],
      "execution_count": 0,
      "outputs": [
        {
          "output_type": "execute_result",
          "data": {
            "text/plain": [
              "▿ 2 elements\n",
              "  - .0 : nan(0x1fffff)\n",
              "  - .1 : nan(0x1fffff)\n"
            ]
          },
          "metadata": {
            "tags": []
          },
          "execution_count": 7
        }
      ]
    },
    {
      "cell_type": "markdown",
      "metadata": {
        "id": "WSc09se_w5Bh",
        "colab_type": "text"
      },
      "source": [
        "The problem you'll get with that is activation explosion: very soon, your activations will go to nan. We can even ask the loop to break when that first happens:"
      ]
    },
    {
      "cell_type": "code",
      "metadata": {
        "id": "aJVwsTrew14a",
        "colab_type": "code",
        "colab": {}
      },
      "source": [
        "var x = TF(randomNormal: [512, 1])\n",
        "let a = TF(randomNormal: [512,512])"
      ],
      "execution_count": 0,
      "outputs": []
    },
    {
      "cell_type": "code",
      "metadata": {
        "id": "vhWJbhD7w_jI",
        "colab_type": "code",
        "outputId": "4f1924ea-7ddb-45f7-bee7-25f2f51996ec",
        "colab": {
          "base_uri": "https://localhost:8080/",
          "height": 35
        }
      },
      "source": [
        "for i in 0..<100 {\n",
        "    x = a • x\n",
        "    if x.std().scalarized().isNaN {\n",
        "        print(i)\n",
        "        break\n",
        "    }\n",
        "}"
      ],
      "execution_count": 0,
      "outputs": [
        {
          "output_type": "stream",
          "text": [
            "27\r\n"
          ],
          "name": "stdout"
        }
      ]
    },
    {
      "cell_type": "markdown",
      "metadata": {
        "id": "7IrLBU5LxEXy",
        "colab_type": "text"
      },
      "source": [
        "It only takes around 30 multiplications! On the other hand, if you initialize your activations with a scale that is too low, then you'll get another problem:"
      ]
    },
    {
      "cell_type": "code",
      "metadata": {
        "id": "zqVZCzHYxBmq",
        "colab_type": "code",
        "colab": {}
      },
      "source": [
        "var x = TF(randomNormal: [512, 1])\n",
        "let a = TF(randomNormal: [512,512]) * 0.01"
      ],
      "execution_count": 0,
      "outputs": []
    },
    {
      "cell_type": "code",
      "metadata": {
        "id": "49Kc37c3xHfQ",
        "colab_type": "code",
        "colab": {}
      },
      "source": [
        "for i in 0..<100 { x = a • x }"
      ],
      "execution_count": 0,
      "outputs": []
    },
    {
      "cell_type": "code",
      "metadata": {
        "id": "_I-ZM0ADxLdZ",
        "colab_type": "code",
        "outputId": "c7be6f17-9d5b-4a34-98e9-25a56026742b",
        "colab": {
          "base_uri": "https://localhost:8080/",
          "height": 72
        }
      },
      "source": [
        "(x.mean(),x.std())"
      ],
      "execution_count": 0,
      "outputs": [
        {
          "output_type": "execute_result",
          "data": {
            "text/plain": [
              "▿ 2 elements\n",
              "  - .0 : 0.0\n",
              "  - .1 : 0.0\n"
            ]
          },
          "metadata": {
            "tags": []
          },
          "execution_count": 12
        }
      ]
    },
    {
      "cell_type": "markdown",
      "metadata": {
        "id": "Mc5bke9exl61",
        "colab_type": "text"
      },
      "source": [
        "\n",
        "\n",
        "Here, every activation vanished to 0. So to avoid that problem, people have come with several strategies to initialize their weight matrices, such as:\n",
        "\n",
        "    use a standard deviation that will make sure x and Ax have exactly the same scale\n",
        "    \n",
        "    use an orthogonal matrix to initialize the weight (orthogonal matrices have the special property that they preserve the L2 norm, so x and Ax would have the same sum of squares in that case)\n",
        "    \n",
        "    use spectral normalization on the matrix A (the spectral norm of A is the least possible number M such that matmul(A,x).norm() <= M*x.norm() so dividing A by this M insures you don't overflow. You can still vanish with this)\n",
        "\n",
        "The magic number for scaling\n",
        "\n",
        "Here we will focus on the first one, which is the Xavier initialization. It tells us that we should use a scale equal to 1/sqrt(n_in) where n_in is the number of inputs of our matrix.\n"
      ]
    },
    {
      "cell_type": "code",
      "metadata": {
        "id": "NBS_ZDWvxNKR",
        "colab_type": "code",
        "colab": {}
      },
      "source": [
        "var x = TF(randomNormal: [512, 1])\n",
        "let a = TF(randomNormal: [512,512]) / sqrt(512)"
      ],
      "execution_count": 0,
      "outputs": []
    },
    {
      "cell_type": "code",
      "metadata": {
        "id": "RwYrqj8CxsYY",
        "colab_type": "code",
        "colab": {}
      },
      "source": [
        "for i in 0..<100 { x = a • x }"
      ],
      "execution_count": 0,
      "outputs": []
    },
    {
      "cell_type": "code",
      "metadata": {
        "id": "WQ_OeA-NxuZH",
        "colab_type": "code",
        "outputId": "25847c3b-6c46-49ee-8ea3-27db63fcde2e",
        "colab": {
          "base_uri": "https://localhost:8080/",
          "height": 72
        }
      },
      "source": [
        "(mean: x.mean(), std: x.std())"
      ],
      "execution_count": 0,
      "outputs": [
        {
          "output_type": "execute_result",
          "data": {
            "text/plain": [
              "▿ 2 elements\n",
              "  - mean : -0.22193892\n",
              "  - std : 4.2045193\n"
            ]
          },
          "metadata": {
            "tags": []
          },
          "execution_count": 15
        }
      ]
    },
    {
      "cell_type": "markdown",
      "metadata": {
        "id": "b_eCajDSx3Cb",
        "colab_type": "text"
      },
      "source": [
        "And indeed it works. Note that this magic number isn't very far from the 0.01 we had earlier."
      ]
    },
    {
      "cell_type": "code",
      "metadata": {
        "id": "aO_r7HKzxxkw",
        "colab_type": "code",
        "outputId": "cf35fcd1-487f-48a9-a4ce-2b6ca71ed9fa",
        "colab": {
          "base_uri": "https://localhost:8080/",
          "height": 35
        }
      },
      "source": [
        "1 / sqrt(512)"
      ],
      "execution_count": 0,
      "outputs": [
        {
          "output_type": "execute_result",
          "data": {
            "text/plain": [
              "0.044194173824159216\n"
            ]
          },
          "metadata": {
            "tags": []
          },
          "execution_count": 16
        }
      ]
    },
    {
      "cell_type": "markdown",
      "metadata": {
        "id": "kiH517eGx-G_",
        "colab_type": "text"
      },
      "source": [
        "\n",
        "\n",
        "But where does it come from? It's not that mysterious if you remember the definition of the matrix multiplication. When we do y = matmul(a, x), the coefficients of y are defined by\n",
        "\n",
        "$$y_{i} = a_{i,0} x_{0} + a_{i,1} x_{1} + \\cdots + a_{i,n-1} x_{n-1} = \\sum_{k=0}^{n-1} a_{i,k} x_{k}$$\n",
        "\n",
        "or in code:\n",
        "\n",
        "for i in 0..<a.shape[0] {\n",
        "\n",
        "    for k in 0..<b.shape[1] {\n",
        "        y[i][0] += a[i][k] * x[k][0]\n",
        "    }\n",
        "}\n",
        "\n",
        "Now at the very beginning, our x vector has a mean of roughly 0. and a standard deviation of roughly 1. (since we picked it that way).\n"
      ]
    },
    {
      "cell_type": "code",
      "metadata": {
        "id": "sCRK3fa4x6jO",
        "colab_type": "code",
        "outputId": "6a5bcfa0-8d99-4374-86f7-a280b9b3ed89",
        "colab": {
          "base_uri": "https://localhost:8080/",
          "height": 72
        }
      },
      "source": [
        "var x = TF(randomNormal: [512, 1])\n",
        "(mean: x.mean(), std: x.std())"
      ],
      "execution_count": 0,
      "outputs": [
        {
          "output_type": "execute_result",
          "data": {
            "text/plain": [
              "▿ 2 elements\n",
              "  - mean : 0.026765596\n",
              "  - std : 0.99842644\n"
            ]
          },
          "metadata": {
            "tags": []
          },
          "execution_count": 17
        }
      ]
    },
    {
      "cell_type": "markdown",
      "metadata": {
        "id": "5ltM1rR2yJ92",
        "colab_type": "text"
      },
      "source": [
        "\n",
        "\n",
        "NB: This is why it's extremely important to normalize your inputs in Deep Learning, the initialization rules have been designed with inputs that have a mean 0. and a standard deviation of 1.\n",
        "\n",
        "If you need a refresher from your statistics course, the mean is the sum of all the elements divided by the number of elements (a basic average). The standard deviation shows whether the data points stay close to the mean or are far away from it. It's computed by the following formula:\n",
        "\n",
        "$$\\sigma = \\sqrt{\\frac{1}{n}\\left[(x_{0}-m)^{2} + (x_{1}-m)^{2} + \\cdots + (x_{n-1}-m)^{2}\\right]}$$\n",
        "\n",
        "where m is the mean and $\\sigma$ (the greek letter sigma) is the standard deviation. To avoid that square root, we also often consider a quantity called the variance, which is $\\sigma$ squared.\n",
        "\n",
        "Here we have a mean of 0, so the variance is just the mean of x squared, and the standard deviation is its square root.\n",
        "\n",
        "If we go back to y = a @ x and assume that we chose weights for a that also have a mean of 0, we can compute the variance of y quite easily. Since it's random, and we may fall on bad numbers, we repeat the operation 100 times.\n"
      ]
    },
    {
      "cell_type": "code",
      "metadata": {
        "id": "BEY1RFesyFrN",
        "colab_type": "code",
        "outputId": "c80d0f8e-0a50-409b-d51e-cecf5266ec1f",
        "colab": {
          "base_uri": "https://localhost:8080/",
          "height": 72
        }
      },
      "source": [
        "var mean = Float()\n",
        "var sqr = Float()\n",
        "for i in 0..<100 {\n",
        "    let x = TF(randomNormal: [512, 1])\n",
        "    let a = TF(randomNormal: [512, 512])\n",
        "    let y = a • x\n",
        "    mean += y.mean().scalarized()\n",
        "    sqr  += pow(y, 2).mean().scalarized()\n",
        "}\n",
        "(mean/100, sqr/100)"
      ],
      "execution_count": 0,
      "outputs": [
        {
          "output_type": "execute_result",
          "data": {
            "text/plain": [
              "▿ 2 elements\n",
              "  - .0 : 0.117574245\n",
              "  - .1 : 510.46497\n"
            ]
          },
          "metadata": {
            "tags": []
          },
          "execution_count": 18
        }
      ]
    },
    {
      "cell_type": "markdown",
      "metadata": {
        "id": "zayTFii4yUuG",
        "colab_type": "text"
      },
      "source": [
        "\n",
        "\n",
        "Now that looks very close to the dimension of our matrix 512. And that's no coincidence! When you compute y, you sum 512 product of one element of a by one element of x. So what's the mean and the standard deviation of such a product of one element of a by one element of x? We can show mathematically that as long as the elements in a and the elements in x are independent, the mean is 0 and the std is 1.\n",
        "\n",
        "This can also be seen experimentally:\n"
      ]
    },
    {
      "cell_type": "code",
      "metadata": {
        "id": "nqc6ZmS1ySA8",
        "colab_type": "code",
        "outputId": "63e5da3c-7668-4fb2-96a3-d44c8ab4a0ec",
        "colab": {
          "base_uri": "https://localhost:8080/",
          "height": 72
        }
      },
      "source": [
        "var mean = Float()\n",
        "var sqr = Float()\n",
        "for i in 0..<10000 {\n",
        "    let x = TF(randomNormal: [])\n",
        "    let a = TF(randomNormal: [])\n",
        "    let y = a * x\n",
        "    mean += y.scalarized()\n",
        "    sqr  += pow(y, 2).scalarized()\n",
        "}\n",
        "(mean/10000,sqrt(sqr/10000))"
      ],
      "execution_count": 0,
      "outputs": [
        {
          "output_type": "execute_result",
          "data": {
            "text/plain": [
              "▿ 2 elements\n",
              "  - .0 : -0.0014406663\n",
              "  - .1 : 1.0035497\n"
            ]
          },
          "metadata": {
            "tags": []
          },
          "execution_count": 19
        }
      ]
    },
    {
      "cell_type": "markdown",
      "metadata": {
        "id": "EluvqJ_Vyb-F",
        "colab_type": "text"
      },
      "source": [
        "\n",
        "\n",
        "Then we sum 512 of those things that have a mean of zero, and a variance of 1, so we get something that has a mean of 0, and variance of 512. To go to the standard deviation, we have to add a square root, hence sqrt(512) being our magic number.\n",
        "\n",
        "If we scale the weights of the matrix a and divide them by this sqrt(512), it will give us a y of scale 1, and repeating the product as many times as we want and it won't overflow or vanish.\n",
        "\n",
        "Adding ReLU in the mix\n",
        "\n",
        "We can reproduce the previous experiment with a ReLU, to see that this time, the mean shifts and the variance becomes 0.5. This time the magic number will be math.sqrt(2/512) to properly scale the weights of the matrix.\n"
      ]
    },
    {
      "cell_type": "code",
      "metadata": {
        "id": "4RC6zJ6fyXbV",
        "colab_type": "code",
        "outputId": "63dc8b6f-15db-43f4-dfea-865da0d3ee65",
        "colab": {
          "base_uri": "https://localhost:8080/",
          "height": 72
        }
      },
      "source": [
        "var mean = Float()\n",
        "var sqr = Float()\n",
        "for i in 0..<10000 {\n",
        "    let x = TF(randomNormal: [])\n",
        "    let a = TF(randomNormal: [])\n",
        "    var y = (a*x).scalarized()\n",
        "    y = y < 0 ? 0 : y\n",
        "    mean += y\n",
        "    sqr  += pow(y, 2)\n",
        "}\n",
        "(mean: mean/10000, sqrt: sqr/10000)"
      ],
      "execution_count": 0,
      "outputs": [
        {
          "output_type": "execute_result",
          "data": {
            "text/plain": [
              "▿ 2 elements\n",
              "  - mean : 0.31754306\n",
              "  - sqrt : 0.49701732\n"
            ]
          },
          "metadata": {
            "tags": []
          },
          "execution_count": 20
        }
      ]
    },
    {
      "cell_type": "markdown",
      "metadata": {
        "id": "EZViu8hGy1J7",
        "colab_type": "text"
      },
      "source": [
        "We can double check by running the experiment on the whole matrix product. The variance becomes 512/2 this time:"
      ]
    },
    {
      "cell_type": "code",
      "metadata": {
        "id": "F9KavFFZyslM",
        "colab_type": "code",
        "outputId": "601128e6-152c-459a-d6e9-04bbd771b276",
        "colab": {
          "base_uri": "https://localhost:8080/",
          "height": 72
        }
      },
      "source": [
        "var mean = Float()\n",
        "var sqr = Float()\n",
        "for i in 0..<100 {\n",
        "    let x = TF(randomNormal: [512, 1])\n",
        "    let a = TF(randomNormal: [512, 512])\n",
        "    var y = a • x\n",
        "    y = max(y, TF(zeros: y.shape))\n",
        "    mean += y.mean().scalarized()\n",
        "    sqr  += pow(y, 2).mean().scalarized()\n",
        "}\n",
        "(mean: mean/100, sqrt: sqr/100)"
      ],
      "execution_count": 0,
      "outputs": [
        {
          "output_type": "execute_result",
          "data": {
            "text/plain": [
              "▿ 2 elements\n",
              "  - mean : 9.042823\n",
              "  - sqrt : 256.8512\n"
            ]
          },
          "metadata": {
            "tags": []
          },
          "execution_count": 21
        }
      ]
    },
    {
      "cell_type": "markdown",
      "metadata": {
        "id": "zC6LP7kOy6ZW",
        "colab_type": "text"
      },
      "source": [
        "Or that scaling the coefficient with the magic number gives us a scale of 1."
      ]
    },
    {
      "cell_type": "code",
      "metadata": {
        "id": "L4cio-Yyy3i8",
        "colab_type": "code",
        "outputId": "31091ad6-cb46-49ac-d3b4-43e7e34b98b4",
        "colab": {
          "base_uri": "https://localhost:8080/",
          "height": 72
        }
      },
      "source": [
        "var mean = Float()\n",
        "var sqr = Float()\n",
        "for i in 0..<100 {\n",
        "    let x = TF(randomNormal: [512, 1])\n",
        "    let a = TF(randomNormal: [512, 512]) * sqrt(2/512)\n",
        "    var y = a • x\n",
        "    y = max(y, TF(zeros: y.shape))\n",
        "    mean += y.mean().scalarized()\n",
        "    sqr  += pow(y, 2).mean().scalarized()\n",
        "}\n",
        "(mean: mean/100, sqrt: sqr/100)"
      ],
      "execution_count": 0,
      "outputs": [
        {
          "output_type": "execute_result",
          "data": {
            "text/plain": [
              "▿ 2 elements\n",
              "  - mean : 0.56374025\n",
              "  - sqrt : 1.0103604\n"
            ]
          },
          "metadata": {
            "tags": []
          },
          "execution_count": 22
        }
      ]
    },
    {
      "cell_type": "markdown",
      "metadata": {
        "id": "46-SxeJiy_AM",
        "colab_type": "text"
      },
      "source": [
        "The math behind is a tiny bit more complex, and you can find everything in the Kaiming and the Xavier paper but this gives the intuition behind those results."
      ]
    },
    {
      "cell_type": "code",
      "metadata": {
        "id": "jRc6cyy-y8fL",
        "colab_type": "code",
        "colab": {}
      },
      "source": [
        ""
      ],
      "execution_count": 0,
      "outputs": []
    }
  ]
}