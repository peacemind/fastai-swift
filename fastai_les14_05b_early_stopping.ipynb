{
  "nbformat": 4,
  "nbformat_minor": 0,
  "metadata": {
    "colab": {
      "name": "fastai-les14-05b-early-stopping.ipynb",
      "version": "0.3.2",
      "provenance": [],
      "collapsed_sections": []
    },
    "kernelspec": {
      "name": "swift",
      "display_name": "Swift"
    },
    "accelerator": "GPU"
  },
  "cells": [
    {
      "cell_type": "markdown",
      "metadata": {
        "id": "FwFtjXiQ2joo",
        "colab_type": "text"
      },
      "source": [
        "Early stopping"
      ]
    },
    {
      "cell_type": "code",
      "metadata": {
        "id": "kZRlD4utdPuX",
        "colab_type": "code",
        "colab": {
          "base_uri": "https://localhost:8080/",
          "height": 439
        },
        "outputId": "56e23ae3-08ee-43bd-d588-8e381749f8ed"
      },
      "source": [
        "%install-location $cwd/swift-install\n",
        "%install '.package(path: \"$cwd/FastaiNotebook_05_anneal\")' FastaiNotebook_05_anneal"
      ],
      "execution_count": 1,
      "outputs": [
        {
          "output_type": "stream",
          "text": [
            "Installing packages:\n",
            "\t.package(path: \"/content/FastaiNotebook_05_anneal\")\n",
            "\t\tFastaiNotebook_05_anneal\n",
            "With SwiftPM flags: []\n",
            "Working in: /tmp/tmp_fugwg3t/swift-install\n",
            "Updating https://github.com/mxcl/Path.swift\n",
            "Updating https://github.com/saeta/Just\n",
            "Updating https://github.com/latenitesoft/NotebookExport\n",
            "Completed resolution in 3.11s\n",
            "[1/9] Compiling FastaiNotebook_05_anneal 02a_why_sqrt5.swift\n",
            "[2/9] Compiling FastaiNotebook_05_anneal 03_minibatch_training.swift\n",
            "[3/9] Compiling FastaiNotebook_05_anneal 04_callbacks.swift\n",
            "[4/9] Compiling FastaiNotebook_05_anneal 05_anneal.swift\n",
            "[5/9] Compiling FastaiNotebook_05_anneal 00_load_data.swift\n",
            "[6/9] Compiling FastaiNotebook_05_anneal 01_matmul.swift\n",
            "[7/9] Compiling FastaiNotebook_05_anneal 01a_fastai_layers.swift\n",
            "[8/9] Compiling FastaiNotebook_05_anneal 02_fully_connected.swift\n",
            "[9/10] Merging module FastaiNotebook_05_anneal\n",
            "[10/11] Compiling jupyterInstalledPackages jupyterInstalledPackages.swift\n",
            "[11/12] Merging module jupyterInstalledPackages\n",
            "[12/12] Linking libjupyterInstalledPackages.so\n",
            "Initializing Swift...\n",
            "Installation complete!\n"
          ],
          "name": "stdout"
        }
      ]
    },
    {
      "cell_type": "code",
      "metadata": {
        "id": "oNCA7Y8g2maC",
        "colab_type": "code",
        "colab": {}
      },
      "source": [
        "//export\n",
        "import Path\n",
        "import TensorFlow\n",
        "import Python"
      ],
      "execution_count": 0,
      "outputs": []
    },
    {
      "cell_type": "code",
      "metadata": {
        "id": "dS-rSBSC28Dw",
        "colab_type": "code",
        "colab": {}
      },
      "source": [
        "import FastaiNotebook_05_anneal"
      ],
      "execution_count": 0,
      "outputs": []
    },
    {
      "cell_type": "code",
      "metadata": {
        "id": "0dY1w9ZZ2_lp",
        "colab_type": "code",
        "colab": {
          "base_uri": "https://localhost:8080/",
          "height": 35
        },
        "outputId": "22a0ad75-b118-46cf-e55f-4f6efa970cbc"
      },
      "source": [
        "%include \"EnableIPythonDisplay.swift\"\n",
        "IPythonDisplay.shell.enable_matplotlib(\"inline\")"
      ],
      "execution_count": 4,
      "outputs": [
        {
          "output_type": "execute_result",
          "data": {
            "text/plain": [
              "('inline', 'module://ipykernel.pylab.backend_inline')\n"
            ]
          },
          "metadata": {
            "tags": []
          },
          "execution_count": 4
        }
      ]
    },
    {
      "cell_type": "markdown",
      "metadata": {
        "id": "1_m_FsQd3DMy",
        "colab_type": "text"
      },
      "source": [
        "Load data"
      ]
    },
    {
      "cell_type": "code",
      "metadata": {
        "id": "wn0MBREo3B_p",
        "colab_type": "code",
        "colab": {}
      },
      "source": [
        "let data = mnistDataBunch(flat: true)"
      ],
      "execution_count": 0,
      "outputs": []
    },
    {
      "cell_type": "code",
      "metadata": {
        "id": "RjMI8Mbv3Hzf",
        "colab_type": "code",
        "colab": {}
      },
      "source": [
        "let (n,m) = (60000,784)\n",
        "let c = 10\n",
        "let nHid = 50"
      ],
      "execution_count": 0,
      "outputs": []
    },
    {
      "cell_type": "code",
      "metadata": {
        "id": "H5ii3UkR3PuB",
        "colab_type": "code",
        "colab": {}
      },
      "source": [
        "func optFunc(_ model: BasicModel) -> SGD<BasicModel> {return SGD(for: model, learningRate: 1e-2)}"
      ],
      "execution_count": 0,
      "outputs": []
    },
    {
      "cell_type": "code",
      "metadata": {
        "id": "3Rty85gY3SE_",
        "colab_type": "code",
        "colab": {}
      },
      "source": [
        "func modelInit() -> BasicModel {return BasicModel(nIn: m, nHid: nHid, nOut: c)}"
      ],
      "execution_count": 0,
      "outputs": []
    },
    {
      "cell_type": "code",
      "metadata": {
        "id": "L8fzuImC3UUo",
        "colab_type": "code",
        "colab": {}
      },
      "source": [
        "let learner = Learner(data: data, lossFunc: softmaxCrossEntropy, optFunc: optFunc, modelInit: modelInit)\n",
        "let recorder = learner.makeRecorder()"
      ],
      "execution_count": 0,
      "outputs": []
    },
    {
      "cell_type": "markdown",
      "metadata": {
        "id": "a-RaaVoo3XoH",
        "colab_type": "text"
      },
      "source": [
        "Check the previous callbacks load."
      ]
    },
    {
      "cell_type": "code",
      "metadata": {
        "id": "A5EFurYd3WlB",
        "colab_type": "code",
        "colab": {}
      },
      "source": [
        "learner.delegates = [learner.makeTrainEvalDelegate(), learner.makeShowProgress(),\n",
        "                     learner.makeNormalize(mean: mnistStats.mean, std: mnistStats.std),\n",
        "                     learner.makeAvgMetric(metrics: [accuracy]), recorder]"
      ],
      "execution_count": 0,
      "outputs": []
    },
    {
      "cell_type": "code",
      "metadata": {
        "id": "ys5x1zZO3dm4",
        "colab_type": "code",
        "colab": {
          "base_uri": "https://localhost:8080/",
          "height": 54
        },
        "outputId": "fadbd636-e475-440e-bfba-ae5f70de4029"
      },
      "source": [
        "learner.fit(2)"
      ],
      "execution_count": 11,
      "outputs": [
        {
          "output_type": "stream",
          "text": [
            "Epoch 0: [0.2994451, 0.9134]\n",
            "Epoch 1: [0.25476447, 0.9252]\n"
          ],
          "name": "stdout"
        }
      ]
    },
    {
      "cell_type": "markdown",
      "metadata": {
        "id": "Jnx8J5Ey3sdQ",
        "colab_type": "text"
      },
      "source": [
        "Make an extension to quickly load them."
      ]
    },
    {
      "cell_type": "code",
      "metadata": {
        "id": "CnWj06m03fo_",
        "colab_type": "code",
        "colab": {}
      },
      "source": [
        "// export\n",
        "//TODO: when recorder can be accessed as a property, remove it from the return\n",
        "extension Learner where Opt.Scalar: PythonConvertible {\n",
        "    public func makeDefaultDelegates(metrics: [(Output, Label) -> TF] = []) -> Recorder {\n",
        "        let recorder = makeRecorder()\n",
        "        delegates = [makeTrainEvalDelegate(), makeShowProgress(), recorder]\n",
        "        if !metrics.isEmpty { delegates.append(makeAvgMetric(metrics: metrics)) }\n",
        "        return recorder\n",
        "    }\n",
        "}"
      ],
      "execution_count": 0,
      "outputs": []
    },
    {
      "cell_type": "markdown",
      "metadata": {
        "id": "r4TDL4j03yz7",
        "colab_type": "text"
      },
      "source": [
        "Control Flow test"
      ]
    },
    {
      "cell_type": "code",
      "metadata": {
        "id": "5lP_FZ413x2o",
        "colab_type": "code",
        "colab": {}
      },
      "source": [
        "extension Learner {\n",
        "    public class TestControlFlow: Delegate {\n",
        "        public override var order: Int { return 3 }\n",
        "        \n",
        "        var skipAfter,stopAfter: Int\n",
        "        public init(skipAfter:Int, stopAfter: Int){  (self.skipAfter,self.stopAfter) = (skipAfter,stopAfter) }\n",
        "        \n",
        "        public override func batchWillStart(learner: Learner) throws {\n",
        "            print(\"batchWillStart\")\n",
        "            if learner.currentIter >= stopAfter {\n",
        "                throw LearnerAction.stop(reason: \"*** stopped: \\(learner.currentIter)\")\n",
        "            }\n",
        "            if learner.currentIter >= skipAfter {\n",
        "                throw LearnerAction.skipBatch(reason: \"*** skipBatch: \\(learner.currentIter)\")\n",
        "            }\n",
        "        }\n",
        "        \n",
        "        public override func trainingDidFinish(learner: Learner) {\n",
        "            print(\"trainingDidFinish\")\n",
        "        }\n",
        "        \n",
        "        public override func batchSkipped(learner: Learner, reason: String) {\n",
        "            print(reason)\n",
        "        }\n",
        "    }\n",
        "}"
      ],
      "execution_count": 0,
      "outputs": []
    },
    {
      "cell_type": "code",
      "metadata": {
        "id": "2nFzxt6s34Pf",
        "colab_type": "code",
        "colab": {}
      },
      "source": [
        "let learner = Learner(data: data, lossFunc: softmaxCrossEntropy, optFunc: optFunc, modelInit: modelInit)"
      ],
      "execution_count": 0,
      "outputs": []
    },
    {
      "cell_type": "code",
      "metadata": {
        "id": "CQYWnjI5362f",
        "colab_type": "code",
        "colab": {}
      },
      "source": [
        "learner.delegates = [type(of: learner).TestControlFlow(skipAfter:5, stopAfter: 8),\n",
        "                     learner.makeTrainEvalDelegate()]"
      ],
      "execution_count": 0,
      "outputs": []
    },
    {
      "cell_type": "code",
      "metadata": {
        "id": "XCAx6NcH39KH",
        "colab_type": "code",
        "colab": {
          "base_uri": "https://localhost:8080/",
          "height": 256
        },
        "outputId": "65ce8934-5564-499c-9161-4785d9bfd1d5"
      },
      "source": [
        "learner.fit(5)"
      ],
      "execution_count": 16,
      "outputs": [
        {
          "output_type": "stream",
          "text": [
            "batchWillStart\r\n",
            "batchWillStart\r\n",
            "batchWillStart\r\n",
            "batchWillStart\r\n",
            "batchWillStart\r\n",
            "batchWillStart\r\n",
            "*** skipBatch: 5\r\n",
            "batchWillStart\r\n",
            "*** skipBatch: 6\r\n",
            "batchWillStart\r\n",
            "*** skipBatch: 7\r\n",
            "batchWillStart\r\n",
            "trainingDidFinish\r\n"
          ],
          "name": "stdout"
        }
      ]
    },
    {
      "cell_type": "markdown",
      "metadata": {
        "id": "lg_Pa0474A4o",
        "colab_type": "text"
      },
      "source": [
        "Check if the orders were taken into account:"
      ]
    },
    {
      "cell_type": "code",
      "metadata": {
        "id": "OUY0G-3D3-lu",
        "colab_type": "code",
        "colab": {
          "base_uri": "https://localhost:8080/",
          "height": 72
        },
        "outputId": "aecfe33e-5ba7-4bee-ba6d-7cb9fa25a4a6"
      },
      "source": [
        "(learner.delegates[0].order,learner.delegates[1].order)"
      ],
      "execution_count": 17,
      "outputs": [
        {
          "output_type": "execute_result",
          "data": {
            "text/plain": [
              "▿ 2 elements\n",
              "  - .0 : 0\n",
              "  - .1 : 3\n"
            ]
          },
          "metadata": {
            "tags": []
          },
          "execution_count": 17
        }
      ]
    },
    {
      "cell_type": "markdown",
      "metadata": {
        "id": "mNy9lWdh4IBc",
        "colab_type": "text"
      },
      "source": [
        "LR Finder"
      ]
    },
    {
      "cell_type": "code",
      "metadata": {
        "id": "RpJb-zvt4HEf",
        "colab_type": "code",
        "colab": {}
      },
      "source": [
        "// export\n",
        "extension Learner where Opt.Scalar: BinaryFloatingPoint {\n",
        "    public class LRFinder: Delegate {\n",
        "        public typealias ScheduleFunc = (Float) -> Float\n",
        "\n",
        "        // A learning rate schedule from step to float.\n",
        "        private var scheduler: ScheduleFunc\n",
        "        private var numIter: Int\n",
        "        private var minLoss: Float? = nil\n",
        "        \n",
        "        public init(start: Float = 1e-5, end: Float = 10, numIter: Int = 100) {\n",
        "            scheduler = makeAnnealer(start: start, end: end, schedule: expSchedule)\n",
        "            self.numIter = numIter\n",
        "        }\n",
        "        \n",
        "        override public func batchWillStart(learner: Learner) {\n",
        "            learner.opt.learningRate = Opt.Scalar(scheduler(Float(learner.currentIter)/Float(numIter)))\n",
        "        }\n",
        "        \n",
        "        override public func batchDidFinish(learner: Learner) throws {\n",
        "            if minLoss == nil {minLoss = learner.currentLoss.scalar}\n",
        "            else { \n",
        "                if learner.currentLoss.scalarized() < minLoss! { minLoss = learner.currentLoss.scalarized()}\n",
        "                if learner.currentLoss.scalarized() > 4 * minLoss! { \n",
        "                    throw LearnerAction.stop(reason: \"Loss diverged\")\n",
        "                }\n",
        "                if learner.currentIter >= numIter { \n",
        "                    throw LearnerAction.stop(reason: \"Finished the range.\") \n",
        "                }\n",
        "            }\n",
        "        }\n",
        "        \n",
        "        override public func validationWillStart(learner: Learner<Label, Opt>) throws {\n",
        "            //Skip validation during the LR range test\n",
        "            throw LearnerAction.skipEpoch(reason: \"No validation in the LR Finder.\")\n",
        "        }\n",
        "    }\n",
        "    \n",
        "    public func makeLRFinder(start: Float = 1e-5, end: Float = 10, numIter: Int = 100) -> LRFinder {\n",
        "        return LRFinder(start: start, end: end, numIter: numIter)\n",
        "    }\n",
        "}"
      ],
      "execution_count": 0,
      "outputs": []
    },
    {
      "cell_type": "code",
      "metadata": {
        "id": "yi3fMeO34om0",
        "colab_type": "code",
        "colab": {}
      },
      "source": [
        "let learner = Learner(data: data, lossFunc: softmaxCrossEntropy, optFunc: optFunc, modelInit: modelInit)\n",
        "let recorder = learner.makeDefaultDelegates()"
      ],
      "execution_count": 0,
      "outputs": []
    },
    {
      "cell_type": "code",
      "metadata": {
        "id": "r_ZOxZWM4roV",
        "colab_type": "code",
        "colab": {}
      },
      "source": [
        "learner.delegates.append(learner.makeNormalize(mean: mnistStats.mean, std: mnistStats.std))\n",
        "learner.delegates.append(learner.makeLRFinder())"
      ],
      "execution_count": 0,
      "outputs": []
    },
    {
      "cell_type": "code",
      "metadata": {
        "id": "VVPMO5w64ta8",
        "colab_type": "code",
        "colab": {
          "base_uri": "https://localhost:8080/",
          "height": 17
        },
        "outputId": "79b67d86-53e9-44e5-a5f3-cc1cf042a686"
      },
      "source": [
        "learner.fit(2)"
      ],
      "execution_count": 21,
      "outputs": [
        {
          "output_type": "stream",
          "text": [
            ""
          ],
          "name": "stdout"
        }
      ]
    },
    {
      "cell_type": "code",
      "metadata": {
        "id": "k_knPNP24vIa",
        "colab_type": "code",
        "colab": {
          "base_uri": "https://localhost:8080/",
          "height": 287
        },
        "outputId": "6a295425-0c82-474e-b159-5b44da79f08b"
      },
      "source": [
        "recorder.plotLRFinder()"
      ],
      "execution_count": 22,
      "outputs": [
        {
          "output_type": "display_data",
          "data": {
            "image/png": "[encoded data removed]",
            "text/plain": [
              "<Figure size 432x288 with 1 Axes>"
            ]
          },
          "metadata": {
            "tags": []
          }
        }
      ]
    },
    {
      "cell_type": "code",
      "metadata": {
        "id": "yAgd8SoI4zGz",
        "colab_type": "code",
        "colab": {}
      },
      "source": [
        "// export\n",
        "//TODO: when Recorder is a property of Learner don't return it.\n",
        "extension Learner where Opt.Scalar: PythonConvertible & BinaryFloatingPoint {\n",
        "    public func lrFind(start: Float = 1e-5, end: Float = 10, numIter: Int = 100) -> Recorder {\n",
        "        let epochCount = data.train.count/numIter + 1\n",
        "        let recorder = makeDefaultDelegates()\n",
        "        delegates.append(makeLRFinder(start: start, end: end, numIter: numIter))\n",
        "        try! self.fit(epochCount)\n",
        "        return recorder\n",
        "    }\n",
        "}"
      ],
      "execution_count": 0,
      "outputs": []
    },
    {
      "cell_type": "code",
      "metadata": {
        "id": "QKAAMbfA41y9",
        "colab_type": "code",
        "colab": {
          "base_uri": "https://localhost:8080/",
          "height": 17
        },
        "outputId": "e2ac7002-a8b4-422a-ea54-31b1ff607b2e"
      },
      "source": [
        "let recorder = learner.lrFind()"
      ],
      "execution_count": 24,
      "outputs": [
        {
          "output_type": "stream",
          "text": [
            ""
          ],
          "name": "stdout"
        }
      ]
    },
    {
      "cell_type": "code",
      "metadata": {
        "id": "jSGoit_-45kb",
        "colab_type": "code",
        "colab": {
          "base_uri": "https://localhost:8080/",
          "height": 287
        },
        "outputId": "649c460e-a589-42ba-8abe-2ccbff071aba"
      },
      "source": [
        "recorder.plotLRFinder()"
      ],
      "execution_count": 25,
      "outputs": [
        {
          "output_type": "display_data",
          "data": {
            "image/png": "[encoded data removed]",
            "text/plain": [
              "<Figure size 432x288 with 1 Axes>"
            ]
          },
          "metadata": {
            "tags": []
          }
        }
      ]
    },
    {
      "cell_type": "markdown",
      "metadata": {
        "id": "TVGiUnA94_FA",
        "colab_type": "text"
      },
      "source": [
        "Export"
      ]
    },
    {
      "cell_type": "code",
      "metadata": {
        "id": "qPBgl70449UK",
        "colab_type": "code",
        "colab": {
          "base_uri": "https://localhost:8080/",
          "height": 35
        },
        "outputId": "5508a376-9211-4e1c-d5e0-695de6898eb7"
      },
      "source": [
        "import NotebookExport\n",
        "let exporter = NotebookExport(Path.cwd/\"05b_early_stopping.ipynb\")\n",
        "print(exporter.export(usingPrefix: \"FastaiNotebook_\"))"
      ],
      "execution_count": 26,
      "outputs": [
        {
          "output_type": "stream",
          "text": [
            "success\r\n"
          ],
          "name": "stdout"
        }
      ]
    },
    {
      "cell_type": "code",
      "metadata": {
        "id": "I5G6I_Yw5B6Z",
        "colab_type": "code",
        "colab": {}
      },
      "source": [
        ""
      ],
      "execution_count": 0,
      "outputs": []
    }
  ]
}